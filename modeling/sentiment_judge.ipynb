{
 "cells": [
  {
   "cell_type": "code",
   "execution_count": 13,
   "metadata": {},
   "outputs": [],
   "source": [
    "from pysentimiento import create_analyzer\n",
    "import os\n",
    "import pandas as pd"
   ]
  },
  {
   "cell_type": "code",
   "execution_count": null,
   "metadata": {},
   "outputs": [],
   "source": [
    "analyzer = create_analyzer(task=\"sentiment\", lang=\"en\")"
   ]
  },
  {
   "cell_type": "code",
   "execution_count": null,
   "metadata": {},
   "outputs": [],
   "source": [
    "# set folder path\n",
    "folder_path = \"../data/\"\n",
    "\n",
    "# get list of files in folder\n",
    "file_list = os.listdir(folder_path)\n",
    "\n",
    "# create empty list to hold dataframes\n",
    "df_list = []\n",
    "\n",
    "# loop through files in folder\n",
    "for file in file_list:\n",
    "    # check if file is a CSV\n",
    "    if file.endswith('.csv'):\n",
    "        # read CSV file into a pandas dataframe\n",
    "        df = pd.read_csv(os.path.join(folder_path, file))\n",
    "        # append dataframe to list\n",
    "        df_list.append(df)\n",
    "\n",
    "# concatenate all dataframes in list into a single dataframe\n",
    "df = pd.concat(df_list, axis=0, ignore_index=True)"
   ]
  },
  {
   "cell_type": "code",
   "execution_count": null,
   "metadata": {},
   "outputs": [],
   "source": [
    "# data wrangling to ensure justice is replying and addressing to the same person in her utterance\n",
    "\n",
    "df = pd.merge(df, df[['id', 'speaker_type', 'side']], left_on='reply_to', right_on='id', how='left').drop(['id_y'], axis=1)\n",
    "df.rename(columns={'id_x': 'id', 'speaker_type_x': 'speaker_type', 'speaker_type_y': 'speaker_type_reply_to', 'side_x': 'side', 'side_y': 'side_reply_to'}, inplace=True)\n",
    "df = pd.merge(df, df[['id', 'speaker_type', 'side']], left_on='addressing', right_on='id', how='left').drop(['id_y'], axis=1)\n",
    "df.rename(columns={'id_x': 'id', 'speaker_type_x': 'speaker_type', 'speaker_type_y': 'speaker_type_addressing', 'side_x': 'side', 'side_y': 'side_addressing'}, inplace=True)\n",
    "df['to_same_speaker'] = df['speaker_type_reply_to'] == df['speaker_type_addressing']\n",
    "#If one is NaN Leave as True - we can still use it. \n",
    "df['to_same_speaker'] = df.apply(lambda x: True if pd.isna(x['speaker_type_reply_to']) or pd.isna(x['speaker_type_addressing']) else x['to_same_speaker'], axis=1)\n",
    "df['to_same_side'] = df['side_reply_to'] == df['side_addressing']\n",
    "#If one is NaN Leave as True - we can still use it. \n",
    "df['to_same_side'] = df.apply(lambda x: True if pd.isna(x['side_reply_to']) or pd.isna(x['side_addressing']) else x['to_same_side'], axis=1)\n"
   ]
  },
  {
   "cell_type": "code",
   "execution_count": null,
   "metadata": {},
   "outputs": [],
   "source": [
    "justices = ['votes_side_j__ruth_bader_ginsburg', 'votes_side_j__clarence_thomas', 'votes_side_j__stephen_g_breyer', 'votes_side_j__anthony_m_kennedy', 'votes_side_j__antonin_scalia', 'votes_side_j__john_g_roberts_jr', 'votes_side_j__samuel_a_alito_jr', 'votes_side_j__john_paul_stevens', 'votes_side_j__sonia_sotomayor', 'votes_side_j__david_h_souter', 'votes_side_j__elena_kagan', 'votes_side_j__sandra_day_oconnor', 'votes_side_j__william_h_rehnquist', 'votes_side_j__neil_gorsuch', 'votes_side_j__brett_m_kavanaugh', 'win_side']\n",
    "justices_names = ['j__ruth_bader_ginsburg', 'j__clarence_thomas', 'j__stephen_g_breyer', 'j__anthony_m_kennedy', 'j__antonin_scalia', 'j__john_g_roberts_jr', 'j__samuel_a_alito_jr', 'j__john_paul_stevens', 'j__sonia_sotomayor', 'j__david_h_souter', 'j__elena_kagan', 'j__sandra_day_oconnor', 'j__william_h_rehnquist', 'j__neil_gorsuch', 'j__brett_m_kavanaugh', 'win_side']\n",
    "\n",
    "\n",
    "df = df[df['speaker'].isin(justices_names)]\n"
   ]
  },
  {
   "cell_type": "code",
   "execution_count": null,
   "metadata": {},
   "outputs": [],
   "source": [
    "# run once, takes long time and save file. The dataset can be loaded from the next cell\n",
    "df[['neg', 'neu', 'pos']] = df['text'].apply(lambda x: pd.Series(analyzer.predict(x).probas))\n",
    "df.to_csv('..\\eda\\eda_data\\sentiment_judge.csv')\n",
    "\n"
   ]
  },
  {
   "cell_type": "code",
   "execution_count": 14,
   "metadata": {},
   "outputs": [
    {
     "name": "stderr",
     "output_type": "stream",
     "text": [
      "C:\\Users\\aupab\\AppData\\Local\\Temp/ipykernel_35064/3858197235.py:2: DtypeWarning: Columns (18,61,63,65,67,69,71,73,75) have mixed types. Specify dtype option on import or set low_memory=False.\n",
      "  data = pd.read_csv('..\\eda\\eda_data\\sentiment_judge.csv')\n"
     ]
    }
   ],
   "source": [
    "# Start from here, reading the sentiment probabilities\n",
    "data = pd.read_csv('..\\eda\\eda_data\\sentiment_judge.csv')\n"
   ]
  },
  {
   "cell_type": "code",
   "execution_count": 15,
   "metadata": {},
   "outputs": [],
   "source": [
    "majority_baseline = []\n",
    "accuracies = []\n",
    "\n",
    "for justice in justices_names:\n",
    "    df = data.copy(deep=True)\n",
    "    #filter only for utterances of the speaker\n",
    "    if justice != 'win_side':\n",
    "        df = df[df['speaker'].isin([justice])]\n",
    "        justice = \"votes_side_\" + justice\n",
    "    \n",
    "    df = df[df[justice] != -1]\n",
    "\n",
    "    df_J_to_r = df[(df['speaker_type'] == 'J') & (df['side_addressing'] == 0) & (df['to_same_side'] == True)]\n",
    "    df_J_to_r = df_J_to_r[['case_id', 'pos', 'neu', 'neg'] + [justice]]\n",
    "    df_J_to_p = df[(df['speaker_type'] == 'J') & (df['side_addressing'] == 1) & (df['to_same_side'] == True)]\n",
    "    df_J_to_p = df_J_to_p[['case_id', 'pos', 'neu', 'neg'] + [justice]]\n",
    "\n",
    "    df_J_to_r = df_J_to_r.groupby(['case_id'] + [justice])[['pos', 'neu', 'neg']].mean().reset_index()\n",
    "    df_J_to_p = df_J_to_p.groupby(['case_id'] + [justice])[['pos', 'neu', 'neg']].mean().reset_index()\n",
    "\n",
    "    df_J_to_r['ratio_r'] = df_J_to_r['pos'] / df_J_to_r['neg'] \n",
    "    df_J_to_p['ratio_p'] = df_J_to_p['pos'] / df_J_to_p['neg'] \n",
    "\n",
    "    df_final = pd.merge(df_J_to_r, df_J_to_p[['case_id', 'ratio_p']], left_on='case_id', right_on='case_id', how='left')\n",
    "\n",
    "    df_final['more_pos'] = (df_final['ratio_p'] > df_final['ratio_r']).astype(int)\n",
    "\n",
    "    count = (df_final['more_pos'] == df_final[justice]).sum()\n",
    "    majority_baseline.append(df_final[justice].value_counts(normalize = True)[1])\n",
    "    accuracies.append(count/len(df_final))\n"
   ]
  },
  {
   "cell_type": "code",
   "execution_count": 16,
   "metadata": {},
   "outputs": [],
   "source": [
    "transformed_names = []\n",
    "for i in range(len(justices_names)-1):\n",
    "    transformed_names.append(justices_names[i].split('__')[1].replace('_', ' ').title())\n",
    "\n",
    "transformed_names.append('All Justices')\n",
    "\n",
    "df = pd.DataFrame({'justice': transformed_names, 'baseline_accuracy': majority_baseline, 'prediction_accuracy': accuracies})"
   ]
  },
  {
   "cell_type": "code",
   "execution_count": 17,
   "metadata": {},
   "outputs": [
    {
     "data": {
      "image/png": "[encoded data removed]",
      "text/plain": [
       "<Figure size 720x432 with 1 Axes>"
      ]
     },
     "metadata": {
      "needs_background": "light"
     },
     "output_type": "display_data"
    }
   ],
   "source": [
    "import matplotlib.pyplot as plt\n",
    "import numpy as np\n",
    "\n",
    "\n",
    "\n",
    "plt.figure(figsize=(10, 6))\n",
    "num_judges = len(df)\n",
    "bar_height = 0.35\n",
    "indices = np.arange(num_judges)\n",
    "\n",
    "# Plot \n",
    "plt.barh(indices, df['baseline_accuracy'], height=bar_height, color='grey', label='Baseline Accuracy')\n",
    "plt.barh(indices + bar_height, df['prediction_accuracy'], height=bar_height, color='blue', label='Prediction Accuracy')\n",
    "plt.yticks(indices + bar_height / 2, df['justice'])\n",
    "plt.xlabel('Accuracy')\n",
    "plt.legend()\n",
    "plt.show()\n",
    "\n"
   ]
  }
 ],
 "metadata": {
  "kernelspec": {
   "display_name": "Python 3",
   "language": "python",
   "name": "python3"
  },
  "language_info": {
   "codemirror_mode": {
    "name": "ipython",
    "version": 3
   },
   "file_extension": ".py",
   "mimetype": "text/x-python",
   "name": "python",
   "nbconvert_exporter": "python",
   "pygments_lexer": "ipython3",
   "version": "3.9.7"
  },
  "orig_nbformat": 4
 },
 "nbformat": 4,
 "nbformat_minor": 2
}
