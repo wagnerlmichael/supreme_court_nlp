{
 "cells": [
  {
   "attachments": {},
   "cell_type": "markdown",
   "metadata": {},
   "source": [
    "# Continuous Bag of Words Model"
   ]
  },
  {
   "attachments": {},
   "cell_type": "markdown",
   "metadata": {},
   "source": [
    "#### Libraries Import"
   ]
  },
  {
   "cell_type": "code",
   "execution_count": 1,
   "metadata": {},
   "outputs": [
    {
     "name": "stdout",
     "output_type": "stream",
     "text": [
      "Requirement already satisfied: datasets in /Users/nuriaadellraventos/anaconda3/lib/python3.10/site-packages (2.12.0)\n",
      "Requirement already satisfied: pandas in /Users/nuriaadellraventos/anaconda3/lib/python3.10/site-packages (from datasets) (1.5.3)\n",
      "Requirement already satisfied: pyyaml>=5.1 in /Users/nuriaadellraventos/anaconda3/lib/python3.10/site-packages (from datasets) (6.0)\n",
      "Requirement already satisfied: packaging in /Users/nuriaadellraventos/anaconda3/lib/python3.10/site-packages (from datasets) (22.0)\n",
      "Requirement already satisfied: requests>=2.19.0 in /Users/nuriaadellraventos/anaconda3/lib/python3.10/site-packages (from datasets) (2.28.1)\n",
      "Requirement already satisfied: xxhash in /Users/nuriaadellraventos/anaconda3/lib/python3.10/site-packages (from datasets) (3.2.0)\n",
      "Requirement already satisfied: multiprocess in /Users/nuriaadellraventos/anaconda3/lib/python3.10/site-packages (from datasets) (0.70.14)\n",
      "Requirement already satisfied: huggingface-hub<1.0.0,>=0.11.0 in /Users/nuriaadellraventos/anaconda3/lib/python3.10/site-packages (from datasets) (0.14.1)\n",
      "Requirement already satisfied: tqdm>=4.62.1 in /Users/nuriaadellraventos/anaconda3/lib/python3.10/site-packages (from datasets) (4.64.1)\n",
      "Requirement already satisfied: fsspec[http]>=2021.11.1 in /Users/nuriaadellraventos/anaconda3/lib/python3.10/site-packages (from datasets) (2022.11.0)\n",
      "Requirement already satisfied: responses<0.19 in /Users/nuriaadellraventos/anaconda3/lib/python3.10/site-packages (from datasets) (0.18.0)\n",
      "Requirement already satisfied: pyarrow>=8.0.0 in /Users/nuriaadellraventos/anaconda3/lib/python3.10/site-packages (from datasets) (12.0.0)\n",
      "Requirement already satisfied: aiohttp in /Users/nuriaadellraventos/anaconda3/lib/python3.10/site-packages (from datasets) (3.8.4)\n",
      "Requirement already satisfied: dill<0.3.7,>=0.3.0 in /Users/nuriaadellraventos/anaconda3/lib/python3.10/site-packages (from datasets) (0.3.6)\n",
      "Requirement already satisfied: numpy>=1.17 in /Users/nuriaadellraventos/anaconda3/lib/python3.10/site-packages (from datasets) (1.23.5)\n",
      "Requirement already satisfied: attrs>=17.3.0 in /Users/nuriaadellraventos/anaconda3/lib/python3.10/site-packages (from aiohttp->datasets) (22.1.0)\n",
      "Requirement already satisfied: async-timeout<5.0,>=4.0.0a3 in /Users/nuriaadellraventos/anaconda3/lib/python3.10/site-packages (from aiohttp->datasets) (4.0.2)\n",
      "Requirement already satisfied: yarl<2.0,>=1.0 in /Users/nuriaadellraventos/anaconda3/lib/python3.10/site-packages (from aiohttp->datasets) (1.9.2)\n",
      "Requirement already satisfied: frozenlist>=1.1.1 in /Users/nuriaadellraventos/anaconda3/lib/python3.10/site-packages (from aiohttp->datasets) (1.3.3)\n",
      "Requirement already satisfied: multidict<7.0,>=4.5 in /Users/nuriaadellraventos/anaconda3/lib/python3.10/site-packages (from aiohttp->datasets) (6.0.4)\n",
      "Requirement already satisfied: charset-normalizer<4.0,>=2.0 in /Users/nuriaadellraventos/anaconda3/lib/python3.10/site-packages (from aiohttp->datasets) (2.0.4)\n",
      "Requirement already satisfied: aiosignal>=1.1.2 in /Users/nuriaadellraventos/anaconda3/lib/python3.10/site-packages (from aiohttp->datasets) (1.3.1)\n",
      "Requirement already satisfied: filelock in /Users/nuriaadellraventos/anaconda3/lib/python3.10/site-packages (from huggingface-hub<1.0.0,>=0.11.0->datasets) (3.9.0)\n",
      "Requirement already satisfied: typing-extensions>=3.7.4.3 in /Users/nuriaadellraventos/anaconda3/lib/python3.10/site-packages (from huggingface-hub<1.0.0,>=0.11.0->datasets) (4.4.0)\n",
      "Requirement already satisfied: idna<4,>=2.5 in /Users/nuriaadellraventos/anaconda3/lib/python3.10/site-packages (from requests>=2.19.0->datasets) (3.4)\n",
      "Requirement already satisfied: certifi>=2017.4.17 in /Users/nuriaadellraventos/anaconda3/lib/python3.10/site-packages (from requests>=2.19.0->datasets) (2023.5.7)\n",
      "Requirement already satisfied: urllib3<1.27,>=1.21.1 in /Users/nuriaadellraventos/anaconda3/lib/python3.10/site-packages (from requests>=2.19.0->datasets) (1.26.14)\n",
      "Requirement already satisfied: python-dateutil>=2.8.1 in /Users/nuriaadellraventos/anaconda3/lib/python3.10/site-packages (from pandas->datasets) (2.8.2)\n",
      "Requirement already satisfied: pytz>=2020.1 in /Users/nuriaadellraventos/anaconda3/lib/python3.10/site-packages (from pandas->datasets) (2022.7)\n",
      "Requirement already satisfied: six>=1.5 in /Users/nuriaadellraventos/anaconda3/lib/python3.10/site-packages (from python-dateutil>=2.8.1->pandas->datasets) (1.16.0)\n"
     ]
    },
    {
     "name": "stderr",
     "output_type": "stream",
     "text": [
      "/Library/Frameworks/Python.framework/Versions/3.9/lib/python3.9/site-packages/tqdm/auto.py:22: TqdmWarning: IProgress not found. Please update jupyter and ipywidgets. See https://ipywidgets.readthedocs.io/en/stable/user_install.html\n",
      "  from .autonotebook import tqdm as notebook_tqdm\n"
     ]
    }
   ],
   "source": [
    "import os\n",
    "import time\n",
    "import torch\n",
    "import subprocess as sp\n",
    "import pandas as pd\n",
    "import numpy as np\n",
    "import matplotlib.pyplot as plt\n",
    "!pip install datasets\n",
    "from datasets import Dataset\n",
    "from sklearn.metrics import log_loss\n",
    "from sklearn.model_selection import train_test_split\n",
    "from torch.utils.data import Dataset, DataLoader, random_split\n",
    "\n",
    "%matplotlib inline"
   ]
  },
  {
   "cell_type": "code",
   "execution_count": 2,
   "metadata": {},
   "outputs": [],
   "source": [
    "import warnings\n",
    "warnings.filterwarnings('ignore')"
   ]
  },
  {
   "cell_type": "code",
   "execution_count": 3,
   "metadata": {},
   "outputs": [
    {
     "name": "stderr",
     "output_type": "stream",
     "text": [
      "[nltk_data] Downloading package punkt to\n",
      "[nltk_data]     /Users/nuriaadellraventos/nltk_data...\n",
      "[nltk_data]   Package punkt is already up-to-date!\n"
     ]
    }
   ],
   "source": [
    "base_path = sp.getoutput('git rev-parse --show-toplevel')\n",
    "os.chdir(base_path)\n",
    "\n",
    "from src import embed, pred_models, model_helpers"
   ]
  },
  {
   "attachments": {},
   "cell_type": "markdown",
   "metadata": {},
   "source": [
    "### Data Preparation"
   ]
  },
  {
   "attachments": {},
   "cell_type": "markdown",
   "metadata": {},
   "source": [
    "#### Data Loading"
   ]
  },
  {
   "cell_type": "code",
   "execution_count": 4,
   "metadata": {},
   "outputs": [
    {
     "data": {
      "text/html": [
       "<div>\n",
       "<style scoped>\n",
       "    .dataframe tbody tr th:only-of-type {\n",
       "        vertical-align: middle;\n",
       "    }\n",
       "\n",
       "    .dataframe tbody tr th {\n",
       "        vertical-align: top;\n",
       "    }\n",
       "\n",
       "    .dataframe thead th {\n",
       "        text-align: right;\n",
       "    }\n",
       "</style>\n",
       "<table border=\"1\" class=\"dataframe\">\n",
       "  <thead>\n",
       "    <tr style=\"text-align: right;\">\n",
       "      <th></th>\n",
       "      <th>id</th>\n",
       "      <th>text</th>\n",
       "      <th>speaker</th>\n",
       "      <th>reply_to</th>\n",
       "      <th>conversation_id</th>\n",
       "      <th>case_id</th>\n",
       "      <th>speaker_type</th>\n",
       "      <th>side</th>\n",
       "      <th>timestamp</th>\n",
       "      <th>addressing</th>\n",
       "      <th>...</th>\n",
       "      <th>advocates_19_id</th>\n",
       "      <th>advocates_19_side</th>\n",
       "      <th>advocates_20_id</th>\n",
       "      <th>advocates_20_side</th>\n",
       "      <th>advocates_21_id</th>\n",
       "      <th>advocates_21_side</th>\n",
       "      <th>speaker_replied_to</th>\n",
       "      <th>speaker_type_replied_to</th>\n",
       "      <th>speaker_addressed</th>\n",
       "      <th>speaker_type_addressed</th>\n",
       "    </tr>\n",
       "  </thead>\n",
       "  <tbody>\n",
       "    <tr>\n",
       "      <th>0</th>\n",
       "      <td>22620__0_002</td>\n",
       "      <td>Well, isn't there something different here? Be...</td>\n",
       "      <td>j__david_h_souter</td>\n",
       "      <td>22620__0_001</td>\n",
       "      <td>22620</td>\n",
       "      <td>2005_04-433</td>\n",
       "      <td>J</td>\n",
       "      <td>NaN</td>\n",
       "      <td>162.447</td>\n",
       "      <td>22620__0_003</td>\n",
       "      <td>...</td>\n",
       "      <td>NaN</td>\n",
       "      <td>NaN</td>\n",
       "      <td>NaN</td>\n",
       "      <td>NaN</td>\n",
       "      <td>NaN</td>\n",
       "      <td>NaN</td>\n",
       "      <td>david_c_frederick</td>\n",
       "      <td>A</td>\n",
       "      <td>david_c_frederick</td>\n",
       "      <td>A</td>\n",
       "    </tr>\n",
       "    <tr>\n",
       "      <th>1</th>\n",
       "      <td>22620__0_003</td>\n",
       "      <td>I don't agree, Justice Souter, and here's why....</td>\n",
       "      <td>david_c_frederick</td>\n",
       "      <td>22620__0_002</td>\n",
       "      <td>22620</td>\n",
       "      <td>2005_04-433</td>\n",
       "      <td>A</td>\n",
       "      <td>1.0</td>\n",
       "      <td>221.594</td>\n",
       "      <td>22620__0_004</td>\n",
       "      <td>...</td>\n",
       "      <td>NaN</td>\n",
       "      <td>NaN</td>\n",
       "      <td>NaN</td>\n",
       "      <td>NaN</td>\n",
       "      <td>NaN</td>\n",
       "      <td>NaN</td>\n",
       "      <td>j__david_h_souter</td>\n",
       "      <td>J</td>\n",
       "      <td>j__david_h_souter</td>\n",
       "      <td>J</td>\n",
       "    </tr>\n",
       "    <tr>\n",
       "      <th>2</th>\n",
       "      <td>22620__0_004</td>\n",
       "      <td>Sure, but they suffered the harm because the f...</td>\n",
       "      <td>j__david_h_souter</td>\n",
       "      <td>22620__0_003</td>\n",
       "      <td>22620</td>\n",
       "      <td>2005_04-433</td>\n",
       "      <td>J</td>\n",
       "      <td>NaN</td>\n",
       "      <td>245.526</td>\n",
       "      <td>22620__0_005</td>\n",
       "      <td>...</td>\n",
       "      <td>NaN</td>\n",
       "      <td>NaN</td>\n",
       "      <td>NaN</td>\n",
       "      <td>NaN</td>\n",
       "      <td>NaN</td>\n",
       "      <td>NaN</td>\n",
       "      <td>david_c_frederick</td>\n",
       "      <td>A</td>\n",
       "      <td>david_c_frederick</td>\n",
       "      <td>A</td>\n",
       "    </tr>\n",
       "    <tr>\n",
       "      <th>3</th>\n",
       "      <td>22620__0_006</td>\n",
       "      <td>Well, why... why is that true? Let's assume th...</td>\n",
       "      <td>j__anthony_m_kennedy</td>\n",
       "      <td>22620__0_005</td>\n",
       "      <td>22620</td>\n",
       "      <td>2005_04-433</td>\n",
       "      <td>J</td>\n",
       "      <td>NaN</td>\n",
       "      <td>326.156</td>\n",
       "      <td>22620__0_007</td>\n",
       "      <td>...</td>\n",
       "      <td>NaN</td>\n",
       "      <td>NaN</td>\n",
       "      <td>NaN</td>\n",
       "      <td>NaN</td>\n",
       "      <td>NaN</td>\n",
       "      <td>NaN</td>\n",
       "      <td>david_c_frederick</td>\n",
       "      <td>A</td>\n",
       "      <td>david_c_frederick</td>\n",
       "      <td>A</td>\n",
       "    </tr>\n",
       "    <tr>\n",
       "      <th>4</th>\n",
       "      <td>22620__0_008</td>\n",
       "      <td>Mr. Frederick, you... you started by saying ho...</td>\n",
       "      <td>j__ruth_bader_ginsburg</td>\n",
       "      <td>22620__0_007</td>\n",
       "      <td>22620</td>\n",
       "      <td>2005_04-433</td>\n",
       "      <td>J</td>\n",
       "      <td>NaN</td>\n",
       "      <td>409.067</td>\n",
       "      <td>22620__0_009</td>\n",
       "      <td>...</td>\n",
       "      <td>NaN</td>\n",
       "      <td>NaN</td>\n",
       "      <td>NaN</td>\n",
       "      <td>NaN</td>\n",
       "      <td>NaN</td>\n",
       "      <td>NaN</td>\n",
       "      <td>david_c_frederick</td>\n",
       "      <td>A</td>\n",
       "      <td>david_c_frederick</td>\n",
       "      <td>A</td>\n",
       "    </tr>\n",
       "  </tbody>\n",
       "</table>\n",
       "<p>5 rows × 98 columns</p>\n",
       "</div>"
      ],
      "text/plain": [
       "             id                                               text  \\\n",
       "0  22620__0_002  Well, isn't there something different here? Be...   \n",
       "1  22620__0_003  I don't agree, Justice Souter, and here's why....   \n",
       "2  22620__0_004  Sure, but they suffered the harm because the f...   \n",
       "3  22620__0_006  Well, why... why is that true? Let's assume th...   \n",
       "4  22620__0_008  Mr. Frederick, you... you started by saying ho...   \n",
       "\n",
       "                  speaker      reply_to  conversation_id      case_id  \\\n",
       "0       j__david_h_souter  22620__0_001            22620  2005_04-433   \n",
       "1       david_c_frederick  22620__0_002            22620  2005_04-433   \n",
       "2       j__david_h_souter  22620__0_003            22620  2005_04-433   \n",
       "3    j__anthony_m_kennedy  22620__0_005            22620  2005_04-433   \n",
       "4  j__ruth_bader_ginsburg  22620__0_007            22620  2005_04-433   \n",
       "\n",
       "  speaker_type  side  timestamp    addressing  ...  advocates_19_id  \\\n",
       "0            J   NaN    162.447  22620__0_003  ...              NaN   \n",
       "1            A   1.0    221.594  22620__0_004  ...              NaN   \n",
       "2            J   NaN    245.526  22620__0_005  ...              NaN   \n",
       "3            J   NaN    326.156  22620__0_007  ...              NaN   \n",
       "4            J   NaN    409.067  22620__0_009  ...              NaN   \n",
       "\n",
       "  advocates_19_side advocates_20_id advocates_20_side  advocates_21_id  \\\n",
       "0               NaN             NaN               NaN              NaN   \n",
       "1               NaN             NaN               NaN              NaN   \n",
       "2               NaN             NaN               NaN              NaN   \n",
       "3               NaN             NaN               NaN              NaN   \n",
       "4               NaN             NaN               NaN              NaN   \n",
       "\n",
       "   advocates_21_side  speaker_replied_to speaker_type_replied_to  \\\n",
       "0                NaN   david_c_frederick                       A   \n",
       "1                NaN   j__david_h_souter                       J   \n",
       "2                NaN   david_c_frederick                       A   \n",
       "3                NaN   david_c_frederick                       A   \n",
       "4                NaN   david_c_frederick                       A   \n",
       "\n",
       "   speaker_addressed  speaker_type_addressed  \n",
       "0  david_c_frederick                       A  \n",
       "1  j__david_h_souter                       J  \n",
       "2  david_c_frederick                       A  \n",
       "3  david_c_frederick                       A  \n",
       "4  david_c_frederick                       A  \n",
       "\n",
       "[5 rows x 98 columns]"
      ]
     },
     "execution_count": 4,
     "metadata": {},
     "output_type": "execute_result"
    }
   ],
   "source": [
    "# Get list of files in folder\n",
    "folder_path = \"data/\"\n",
    "file_list = os.listdir(folder_path)\n",
    "\n",
    "# Create empty list to hold dataframes\n",
    "df_list = []\n",
    "\n",
    "# Loop through files in folder\n",
    "for file in file_list:\n",
    "    # Check if file is a CSV\n",
    "    if file.endswith('.csv'):\n",
    "        # Read CSV file into a pandas dataframe\n",
    "        df = pd.read_csv(os.path.join(folder_path, file))\n",
    "        # Append dataframe to list\n",
    "        df_list.append(df)\n",
    "\n",
    "# Concatenate all dataframes in list into a single dataframe\n",
    "df = pd.concat(df_list, axis=0, ignore_index=True)\n",
    "\n",
    "df.head()"
   ]
  },
  {
   "attachments": {},
   "cell_type": "markdown",
   "metadata": {},
   "source": [
    "#### Select Top Justices"
   ]
  },
  {
   "cell_type": "code",
   "execution_count": 5,
   "metadata": {},
   "outputs": [],
   "source": [
    "# Get judges columns\n",
    "j_columns = [col for col in df.columns if col.startswith('votes_side_j_')]\n",
    "\n",
    "count = 0\n",
    "justices_list = []\n",
    "justices_dict = {}\n",
    "\n",
    "for justice in j_columns:\n",
    "  df_j = df[['case_id', 'text'] + [justice]]\n",
    "  grouped_df = df_j.groupby('case_id')['text'].apply(lambda x: ','.join(x)).reset_index()\n",
    "  justices = df[[\"case_id\"] + [justice]].drop_duplicates(keep='first')\n",
    "\n",
    "  df1 = pd.merge(grouped_df, justices, left_on='case_id', right_on='case_id', how='left').dropna(axis='rows', how='any')\n",
    "  df1 = df1.drop(df1[~df1[justice].isin([0, 1])].index)\n",
    "\n",
    "  justices_dict[justice] = len(df1)\n",
    "\n"
   ]
  },
  {
   "cell_type": "code",
   "execution_count": 6,
   "metadata": {},
   "outputs": [
    {
     "data": {
      "text/plain": [
       "[('votes_side_j__ruth_bader_ginsburg', 1390),\n",
       " ('votes_side_j__clarence_thomas', 1387),\n",
       " ('votes_side_j__stephen_g_breyer', 1376),\n",
       " ('votes_side_j__anthony_m_kennedy', 1264),\n",
       " ('votes_side_j__antonin_scalia', 1090),\n",
       " ('votes_side_j__john_g_roberts_jr', 1003),\n",
       " ('votes_side_j__samuel_a_alito_jr', 969),\n",
       " ('votes_side_j__john_paul_stevens', 741),\n",
       " ('votes_side_j__sonia_sotomayor', 710),\n",
       " ('votes_side_j__david_h_souter', 665),\n",
       " ('votes_side_j__elena_kagan', 605),\n",
       " ('votes_side_j__sandra_day_oconnor', 388),\n",
       " ('votes_side_j__william_h_rehnquist', 365),\n",
       " ('votes_side_j__neil_gorsuch', 195),\n",
       " ('votes_side_j__brett_m_kavanaugh', 115),\n",
       " ('votes_side_j__abe_fortas', 0),\n",
       " ('votes_side_j__arthur_j_goldberg', 0),\n",
       " ('votes_side_j__byron_r_white', 0),\n",
       " ('votes_side_j__charles_e_whittaker', 0),\n",
       " ('votes_side_j__earl_warren', 0),\n",
       " ('votes_side_j__felix_frankfurter', 0),\n",
       " ('votes_side_j__harold_burton', 0),\n",
       " ('votes_side_j__harry_a_blackmun', 0),\n",
       " ('votes_side_j__hugo_l_black', 0),\n",
       " ('votes_side_j__john_m_harlan2', 0),\n",
       " ('votes_side_j__lewis_f_powell_jr', 0),\n",
       " ('votes_side_j__potter_stewart', 0),\n",
       " ('votes_side_j__sherman_minton', 0),\n",
       " ('votes_side_j__stanley_reed', 0),\n",
       " ('votes_side_j__thurgood_marshall', 0),\n",
       " ('votes_side_j__tom_c_clark', 0),\n",
       " ('votes_side_j__warren_e_burger', 0),\n",
       " ('votes_side_j__william_j_brennan_jr', 0),\n",
       " ('votes_side_j__william_o_douglas', 0)]"
      ]
     },
     "execution_count": 6,
     "metadata": {},
     "output_type": "execute_result"
    }
   ],
   "source": [
    "# Sorted justices by case load\n",
    "sorted_justices_by_case = sorted(justices_dict.items(), key=lambda x:x[1], reverse=True)\n",
    "sorted_justices_by_case"
   ]
  },
  {
   "cell_type": "code",
   "execution_count": 7,
   "metadata": {},
   "outputs": [
    {
     "name": "stdout",
     "output_type": "stream",
     "text": [
      "['votes_side_j__ruth_bader_ginsburg', 'votes_side_j__clarence_thomas', 'votes_side_j__stephen_g_breyer', 'votes_side_j__anthony_m_kennedy', 'votes_side_j__antonin_scalia', 'votes_side_j__john_g_roberts_jr', 'votes_side_j__samuel_a_alito_jr', 'votes_side_j__john_paul_stevens', 'votes_side_j__sonia_sotomayor', 'votes_side_j__david_h_souter', 'votes_side_j__elena_kagan', 'votes_side_j__sandra_day_oconnor', 'votes_side_j__william_h_rehnquist', 'votes_side_j__neil_gorsuch', 'votes_side_j__brett_m_kavanaugh']\n"
     ]
    }
   ],
   "source": [
    "# Get top justices\n",
    "top_justices = [justice for justice, votes in sorted_justices_by_case[:15]]\n",
    "print(top_justices)"
   ]
  },
  {
   "attachments": {},
   "cell_type": "markdown",
   "metadata": {},
   "source": [
    "### Case Outcome Predictions"
   ]
  },
  {
   "attachments": {},
   "cell_type": "markdown",
   "metadata": {},
   "source": [
    "#### Datasets"
   ]
  },
  {
   "cell_type": "code",
   "execution_count": 8,
   "metadata": {},
   "outputs": [],
   "source": [
    "# Have to do by utterance as grouping by case_id gives too few examples to learn from\n",
    "df_all = df[['win_side', 'text', 'case_id']]\n",
    "df_all.head()\n",
    "\n",
    "# Keep only cases with outcomes 0 or 1\n",
    "df_all = df_all[df_all.win_side.isin([0, 1])]"
   ]
  },
  {
   "cell_type": "code",
   "execution_count": 9,
   "metadata": {},
   "outputs": [],
   "source": [
    "# Get unique case_ids\n",
    "unique_case_ids = df_all['case_id'].unique()\n",
    "\n",
    "# Split the unique case_ids into training and testing sets\n",
    "train_case_ids, val_test_case_ids = train_test_split(unique_case_ids, test_size=0.2, random_state=123)\n",
    "val_case_ids, test_case_ids = train_test_split(val_test_case_ids, test_size=0.5, random_state=123)\n",
    "\n",
    "# Filter the original dataframe to create the train and test dataframes using the train and test case_ids\n",
    "train_df = df_all[df_all['case_id'].isin(train_case_ids)]\n",
    "val_df = df_all[df_all['case_id'].isin(val_case_ids)]\n",
    "test_df = df_all[df_all['case_id'].isin(test_case_ids)]"
   ]
  },
  {
   "cell_type": "code",
   "execution_count": 13,
   "metadata": {},
   "outputs": [],
   "source": [
    "# Data Loaders\n",
    "BATCH_SIZE = 128\n",
    "vocab_size = 300 # Size of GloVe vectors\n",
    "\n",
    "train_dataloader = DataLoader(Dataset.from_pandas(train_df.drop(columns=['case_id']), preserve_index = False), batch_size=BATCH_SIZE,\n",
    "                              shuffle=True,\n",
    "                              collate_fn=embed.collate_into_cbow)\n",
    "valid_dataloader = DataLoader(Dataset.from_pandas(val_df.drop(columns=['case_id']), preserve_index = False), batch_size=BATCH_SIZE,\n",
    "                              shuffle=False, \n",
    "                              collate_fn=embed.collate_into_cbow)\n",
    "test_dataloader = DataLoader(Dataset.from_pandas(test_df.drop(columns=['case_id']), preserve_index = False), batch_size=BATCH_SIZE,\n",
    "                             shuffle=False, \n",
    "                             collate_fn=embed.collate_into_cbow)"
   ]
  },
  {
   "attachments": {},
   "cell_type": "markdown",
   "metadata": {},
   "source": [
    "#### Training"
   ]
  },
  {
   "cell_type": "code",
   "execution_count": 25,
   "metadata": {},
   "outputs": [],
   "source": [
    "# BoW NN Classifier\n",
    "hidden_dim = 1000\n",
    "model = pred_models.BoWNNClassifier(vocab_size=vocab_size, hidden_dim=hidden_dim, output_dim=1)"
   ]
  },
  {
   "cell_type": "code",
   "execution_count": 26,
   "metadata": {},
   "outputs": [
    {
     "name": "stdout",
     "output_type": "stream",
     "text": [
      "At iteration 1000 the train loss is 0.599.\n",
      "After epoch 1 the validation loss is 0.643.\n",
      "At iteration 1000 the train loss is 0.633.\n",
      "After epoch 2 the validation loss is 0.644.\n",
      "At iteration 1000 the train loss is 0.645.\n",
      "After epoch 3 the validation loss is 0.643.\n",
      "At iteration 1000 the train loss is 0.636.\n",
      "After epoch 4 the validation loss is 0.645.\n",
      "At iteration 1000 the train loss is 0.630.\n",
      "After epoch 5 the validation loss is 0.647.\n",
      "At iteration 1000 the train loss is 0.635.\n",
      "After epoch 6 the validation loss is 0.650.\n",
      "At iteration 1000 the train loss is 0.586.\n",
      "After epoch 7 the validation loss is 0.651.\n",
      "At iteration 1000 the train loss is 0.670.\n",
      "After epoch 8 the validation loss is 0.651.\n",
      "At iteration 1000 the train loss is 0.693.\n",
      "After epoch 9 the validation loss is 0.652.\n",
      "At iteration 1000 the train loss is 0.634.\n",
      "After epoch 10 the validation loss is 0.653.\n",
      "At iteration 1000 the train loss is 0.624.\n",
      "After epoch 11 the validation loss is 0.657.\n",
      "At iteration 1000 the train loss is 0.647.\n",
      "After epoch 12 the validation loss is 0.660.\n",
      "At iteration 1000 the train loss is 0.612.\n",
      "After epoch 13 the validation loss is 0.664.\n",
      "At iteration 1000 the train loss is 0.634.\n",
      "After epoch 14 the validation loss is 0.666.\n",
      "At iteration 1000 the train loss is 0.620.\n",
      "After epoch 15 the validation loss is 0.671.\n"
     ]
    },
    {
     "data": {
      "text/plain": [
       "[<matplotlib.lines.Line2D at 0x7f9c4b8495e0>]"
      ]
     },
     "execution_count": 26,
     "metadata": {},
     "output_type": "execute_result"
    },
    {
     "data": {
      "image/png": "[encoded data removed]",
      "text/plain": [
       "<Figure size 432x288 with 1 Axes>"
      ]
     },
     "metadata": {
      "needs_background": "light"
     },
     "output_type": "display_data"
    }
   ],
   "source": [
    "EPOCHS = 15\n",
    "loss_function = torch.nn.BCELoss()\n",
    "optimizer = torch.optim.Adam(model.parameters(), lr=0.001)\n",
    "\n",
    "best_model = None\n",
    "best_val_loss = float('inf')\n",
    "val_losses = []\n",
    "for epoch in range(1, EPOCHS + 1):\n",
    "    epoch_start_time = time.time()\n",
    "    model_helpers.train_an_epoch(model, train_dataloader, optimizer, loss_function, print_val=True)\n",
    "    val_y_true, val_y_pred = model_helpers.make_predictions(model, valid_dataloader)\n",
    "    val_loss = log_loss(val_y_true.astype(np.float64), val_y_pred.astype(np.float64))\n",
    "    if val_loss < best_val_loss:\n",
    "        best_model = type(model)(model.vocab_size, model.hidden_dim, model.output_dim)\n",
    "        best_model.load_state_dict(model.state_dict())\n",
    "        best_val_loss = val_loss\n",
    "    val_losses.append(val_loss)\n",
    "    time_taken = time.time() - epoch_start_time\n",
    "    print(f'After epoch {epoch} the validation loss is {val_loss:.3f}.')\n",
    "\n",
    "plt.plot(range(1, EPOCHS+1), val_losses)"
   ]
  },
  {
   "cell_type": "code",
   "execution_count": 27,
   "metadata": {},
   "outputs": [
    {
     "name": "stdout",
     "output_type": "stream",
     "text": [
      "Best Threshold=0.661855, G-Mean=0.499\n"
     ]
    },
    {
     "data": {
      "image/png": "[encoded data removed]",
      "text/plain": [
       "<Figure size 432x288 with 1 Axes>"
      ]
     },
     "metadata": {
      "needs_background": "light"
     },
     "output_type": "display_data"
    }
   ],
   "source": [
    "# Get validation predictions to select best threshold\n",
    "val_labels, val_probs = model_helpers.make_predictions(model, valid_dataloader)\n",
    "# Get best threshold from validation data\n",
    "threshold = model_helpers.select_threshold(val_labels, val_probs)"
   ]
  },
  {
   "attachments": {},
   "cell_type": "markdown",
   "metadata": {},
   "source": [
    "#### Evaluation"
   ]
  },
  {
   "cell_type": "code",
   "execution_count": 28,
   "metadata": {},
   "outputs": [
    {
     "data": {
      "text/html": [
       "<div>\n",
       "<style scoped>\n",
       "    .dataframe tbody tr th:only-of-type {\n",
       "        vertical-align: middle;\n",
       "    }\n",
       "\n",
       "    .dataframe tbody tr th {\n",
       "        vertical-align: top;\n",
       "    }\n",
       "\n",
       "    .dataframe thead th {\n",
       "        text-align: right;\n",
       "    }\n",
       "</style>\n",
       "<table border=\"1\" class=\"dataframe\">\n",
       "  <thead>\n",
       "    <tr style=\"text-align: right;\">\n",
       "      <th></th>\n",
       "      <th>case_id</th>\n",
       "      <th>win_side</th>\n",
       "      <th>labels</th>\n",
       "      <th>prob</th>\n",
       "    </tr>\n",
       "  </thead>\n",
       "  <tbody>\n",
       "    <tr>\n",
       "      <th>766</th>\n",
       "      <td>2005_04-1739</td>\n",
       "      <td>1.0</td>\n",
       "      <td>1.0</td>\n",
       "      <td>0.670836</td>\n",
       "    </tr>\n",
       "    <tr>\n",
       "      <th>767</th>\n",
       "      <td>2005_04-1739</td>\n",
       "      <td>1.0</td>\n",
       "      <td>1.0</td>\n",
       "      <td>0.739240</td>\n",
       "    </tr>\n",
       "    <tr>\n",
       "      <th>768</th>\n",
       "      <td>2005_04-1739</td>\n",
       "      <td>1.0</td>\n",
       "      <td>1.0</td>\n",
       "      <td>0.603128</td>\n",
       "    </tr>\n",
       "    <tr>\n",
       "      <th>769</th>\n",
       "      <td>2005_04-1739</td>\n",
       "      <td>1.0</td>\n",
       "      <td>1.0</td>\n",
       "      <td>0.659513</td>\n",
       "    </tr>\n",
       "    <tr>\n",
       "      <th>770</th>\n",
       "      <td>2005_04-1739</td>\n",
       "      <td>1.0</td>\n",
       "      <td>1.0</td>\n",
       "      <td>0.690952</td>\n",
       "    </tr>\n",
       "  </tbody>\n",
       "</table>\n",
       "</div>"
      ],
      "text/plain": [
       "          case_id  win_side  labels      prob\n",
       "766  2005_04-1739       1.0     1.0  0.670836\n",
       "767  2005_04-1739       1.0     1.0  0.739240\n",
       "768  2005_04-1739       1.0     1.0  0.603128\n",
       "769  2005_04-1739       1.0     1.0  0.659513\n",
       "770  2005_04-1739       1.0     1.0  0.690952"
      ]
     },
     "execution_count": 28,
     "metadata": {},
     "output_type": "execute_result"
    }
   ],
   "source": [
    "# Get dataframe with predictions and real values\n",
    "test_results_df = model_helpers.get_test_results_df(best_model, test_dataloader, test_df[['case_id', 'win_side']])\n",
    "test_results_df.head()"
   ]
  },
  {
   "cell_type": "code",
   "execution_count": 29,
   "metadata": {},
   "outputs": [],
   "source": [
    "# Results dataframe per utterance\n",
    "per_utterance_df = (test_results_df\n",
    "                    .assign(pred=lambda x: x['prob']\n",
    "                    .apply(lambda y: 1 if y > threshold else 0)))\n",
    "\n",
    "# Results dataframe per case\n",
    "per_case_df = (test_results_df\n",
    "                .groupby('case_id')\n",
    "                .mean()\n",
    "                .assign(pred=lambda x: x['prob']\n",
    "                .apply(lambda y: 1 if y > threshold else 0)))"
   ]
  },
  {
   "cell_type": "code",
   "execution_count": 31,
   "metadata": {},
   "outputs": [
    {
     "data": {
      "text/plain": [
       "{'f1': 0.41992799907095574,\n",
       " 'roc_auc': 0.49516505073023553,\n",
       " 'accuracy': 0.45033379796053113}"
      ]
     },
     "execution_count": 31,
     "metadata": {},
     "output_type": "execute_result"
    }
   ],
   "source": [
    "# Evaluation metrics per utterance\n",
    "model_helpers.get_evaluation_matrix(per_utterance_df['win_side'], per_utterance_df['pred'])"
   ]
  },
  {
   "cell_type": "code",
   "execution_count": 34,
   "metadata": {},
   "outputs": [
    {
     "data": {
      "text/plain": [
       "{'f1': 0.2385321100917431,\n",
       " 'roc_auc': 0.5122222222222222,\n",
       " 'accuracy': 0.40714285714285714}"
      ]
     },
     "execution_count": 34,
     "metadata": {},
     "output_type": "execute_result"
    }
   ],
   "source": [
    "# Evaluation metrics per case\n",
    "model_helpers.get_evaluation_matrix(per_case_df['win_side'], per_case_df['pred'])"
   ]
  },
  {
   "cell_type": "code",
   "execution_count": 35,
   "metadata": {},
   "outputs": [
    {
     "data": {
      "image/png": "[encoded data removed]",
      "text/plain": [
       "<Figure size 432x432 with 2 Axes>"
      ]
     },
     "metadata": {
      "needs_background": "light"
     },
     "output_type": "display_data"
    }
   ],
   "source": [
    "# Confusion matrix by case\n",
    "model_helpers.results_heatmap(per_case_df['win_side'],\n",
    "                per_case_df['pred'],\n",
    "                'Confusion Matrix by Case',\n",
    "                target_names = ['respondent', 'petitioner'])"
   ]
  },
  {
   "cell_type": "code",
   "execution_count": 36,
   "metadata": {},
   "outputs": [
    {
     "data": {
      "image/png": "[encoded data removed]",
      "text/plain": [
       "<Figure size 432x432 with 2 Axes>"
      ]
     },
     "metadata": {
      "needs_background": "light"
     },
     "output_type": "display_data"
    }
   ],
   "source": [
    "# Confusion matrix by utterance\n",
    "model_helpers.results_heatmap(per_utterance_df['win_side'],\n",
    "                per_utterance_df['pred'],\n",
    "                'Confusion Matrix by Utterance',\n",
    "                target_names = ['respondent', 'petitioner'])"
   ]
  },
  {
   "attachments": {},
   "cell_type": "markdown",
   "metadata": {},
   "source": [
    "### Justice Outcome Predictions"
   ]
  },
  {
   "cell_type": "code",
   "execution_count": 20,
   "metadata": {},
   "outputs": [
    {
     "data": {
      "text/plain": [
       "['votes_side_j__ruth_bader_ginsburg',\n",
       " 'votes_side_j__clarence_thomas',\n",
       " 'votes_side_j__stephen_g_breyer',\n",
       " 'votes_side_j__anthony_m_kennedy',\n",
       " 'votes_side_j__antonin_scalia',\n",
       " 'votes_side_j__john_g_roberts_jr',\n",
       " 'votes_side_j__samuel_a_alito_jr',\n",
       " 'votes_side_j__john_paul_stevens',\n",
       " 'votes_side_j__sonia_sotomayor',\n",
       " 'votes_side_j__david_h_souter',\n",
       " 'votes_side_j__elena_kagan',\n",
       " 'votes_side_j__sandra_day_oconnor',\n",
       " 'votes_side_j__william_h_rehnquist',\n",
       " 'votes_side_j__neil_gorsuch',\n",
       " 'votes_side_j__brett_m_kavanaugh']"
      ]
     },
     "execution_count": 20,
     "metadata": {},
     "output_type": "execute_result"
    }
   ],
   "source": [
    "top_justices"
   ]
  },
  {
   "cell_type": "code",
   "execution_count": null,
   "metadata": {},
   "outputs": [],
   "source": [
    "# Set parameters, loss function and optimizer\n",
    "vocab_size = 300\n",
    "BATCH_SIZE = 64\n",
    "EPOCHS = 15\n",
    "hidden_dim = 500\n",
    "loss_function = torch.nn.BCELoss()\n",
    "\n",
    "for justice in top_justices:\n",
    "\n",
    "    print(\"Running model for: \", justice)\n",
    "\n",
    "    # Have to do by utterance as grouping by case_id gives too few examples to learn from\n",
    "    df_j = df[[justice, 'text', 'case_id']]\n",
    "    df_j.head()\n",
    "\n",
    "    # Keep only cases with outcomes 0 or 1\n",
    "    df_j = df_j[df_j[justice].isin([0, 1])]\n",
    "\n",
    "    # Get unique case_ids\n",
    "    unique_case_ids = df_j['case_id'].unique()\n",
    "    # Split the unique case_ids into training and testing sets\n",
    "    train_case_ids, val_test_case_ids = train_test_split(unique_case_ids, test_size=0.2, random_state=123)\n",
    "    val_case_ids, test_case_ids = train_test_split(val_test_case_ids, test_size=0.5, random_state=123)\n",
    "\n",
    "    # Filter the original dataframe to create the train and test dataframes using the train and test case_ids\n",
    "    train_df = df_j[df_j['case_id'].isin(train_case_ids)]\n",
    "    val_df = df_j[df_j['case_id'].isin(val_case_ids)]\n",
    "    test_df = df_j[df_j['case_id'].isin(test_case_ids)]\n",
    "\n",
    "    # Data loaders\n",
    "    train_dataloader = DataLoader(Dataset.from_pandas(train_df.drop(columns=['case_id']), preserve_index = False), batch_size=BATCH_SIZE,\n",
    "                                shuffle=True,\n",
    "                                collate_fn=lambda batch: embed.collate_into_cbow(batch, justice))\n",
    "    valid_dataloader = DataLoader(Dataset.from_pandas(val_df.drop(columns=['case_id']), preserve_index = False), batch_size=BATCH_SIZE,\n",
    "                                shuffle=False, \n",
    "                                collate_fn=lambda batch: embed.collate_into_cbow(batch, justice))\n",
    "    test_dataloader = DataLoader(Dataset.from_pandas(test_df.drop(columns=['case_id']), preserve_index = False), batch_size=BATCH_SIZE,\n",
    "                                shuffle=False, \n",
    "                                collate_fn=lambda batch: embed.collate_into_cbow(batch, justice))\n",
    "    \n",
    "    # BoW NN Classifier\n",
    "    model = pred_models.BoWNNClassifier(vocab_size=vocab_size, hidden_dim=hidden_dim, output_dim=1)\n",
    "    optimizer = torch.optim.Adam(model.parameters(), lr=0.01)\n",
    "\n",
    "    # Train model\n",
    "    print(\"Start training...\")\n",
    "    best_model = None\n",
    "    best_val_loss = float('inf')\n",
    "    val_losses = []\n",
    "    for epoch in range(1, EPOCHS + 1):\n",
    "        epoch_start_time = time.time()\n",
    "        model_helpers.train_an_epoch(model, train_dataloader, optimizer, loss_function)\n",
    "        val_y_true, val_y_pred = model_helpers.make_predictions(model, valid_dataloader)\n",
    "        val_loss = log_loss(val_y_true.astype(np.float64), val_y_pred.astype(np.float64))\n",
    "        if val_loss < best_val_loss:\n",
    "            best_model = type(model)(model.vocab_size, model.hidden_dim, model.output_dim)\n",
    "            best_model.load_state_dict(model.state_dict())\n",
    "            best_val_loss = val_loss\n",
    "        val_losses.append(val_loss)\n",
    "        time_taken = time.time() - epoch_start_time\n",
    "        print(f'After epoch {epoch} the validation loss is {val_loss:.3f}.')\n",
    "    \n",
    "    # Get validation predictions to select best threshold\n",
    "    val_labels, val_probs = model_helpers.make_predictions(model, valid_dataloader)\n",
    "    # Get best threshold from validation data\n",
    "    threshold = model_helpers.select_threshold(val_labels, val_probs)\n",
    "\n",
    "    # Model evaluation\n",
    "    print(\"Start test evaluation...\")\n",
    "    # Get dataframe with predictions and real values\n",
    "    test_results_df = model_helpers.get_test_results_df(best_model, test_dataloader, test_df[['case_id', justice]])\n",
    "\n",
    "    # Results dataframe per utterance\n",
    "    per_utterance_df = (test_results_df\n",
    "                        .assign(pred=lambda x: x['prob']\n",
    "                        .apply(lambda y: 1 if y > threshold else 0)))\n",
    "\n",
    "    # Results dataframe per case\n",
    "    per_case_df = (test_results_df\n",
    "                    .groupby('case_id')\n",
    "                    .mean()\n",
    "                    .assign(pred=lambda x: x['prob']\n",
    "                    .apply(lambda y: 1 if y > threshold else 0)))\n",
    "    \n",
    "    # Evaluation metrics per utterance\n",
    "    eval_metrics = model_helpers.get_evaluation_matrix(per_utterance_df[justice], per_utterance_df['pred'])\n",
    "    print(\"Per utterance: \", eval_metrics)\n",
    "\n",
    "    # Evaluation metrics per case\n",
    "    eval_metrics_case = model_helpers.get_evaluation_matrix(per_case_df[justice], per_case_df['pred'])\n",
    "    print(\"Per case: \", eval_metrics_case)\n",
    "\n"
   ]
  },
  {
   "cell_type": "code",
   "execution_count": null,
   "metadata": {},
   "outputs": [],
   "source": []
  }
 ],
 "metadata": {
  "kernelspec": {
   "display_name": "Python 3.9.16 64-bit",
   "language": "python",
   "name": "python3"
  },
  "language_info": {
   "codemirror_mode": {
    "name": "ipython",
    "version": 3
   },
   "file_extension": ".py",
   "mimetype": "text/x-python",
   "name": "python",
   "nbconvert_exporter": "python",
   "pygments_lexer": "ipython3",
   "version": "3.9.10"
  },
  "orig_nbformat": 4,
  "vscode": {
   "interpreter": {
    "hash": "949777d72b0d2535278d3dc13498b2535136f6dfe0678499012e853ee9abcab1"
   }
  }
 },
 "nbformat": 4,
 "nbformat_minor": 2
}
