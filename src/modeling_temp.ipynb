{
 "cells": [
  {
   "cell_type": "code",
   "execution_count": 19,
   "metadata": {},
   "outputs": [],
   "source": [
    "import os\n",
    "import time\n",
    "import torch\n",
    "import subprocess as sp\n",
    "import pandas as pd\n",
    "import matplotlib.pyplot as plt\n",
    "from sklearn.metrics import log_loss\n",
    "from sklearn.model_selection import train_test_split\n",
    "from torch.utils.data import Dataset, DataLoader, random_split\n",
    "\n",
    "%matplotlib inline"
   ]
  },
  {
   "cell_type": "code",
   "execution_count": 20,
   "metadata": {},
   "outputs": [],
   "source": [
    "import warnings\n",
    "warnings.filterwarnings('ignore')"
   ]
  },
  {
   "cell_type": "code",
   "execution_count": 21,
   "metadata": {},
   "outputs": [],
   "source": [
    "base_path = sp.getoutput('git rev-parse --show-toplevel')\n",
    "os.chdir(base_path)\n",
    "\n",
    "from src import embed, pred_models, model_helpers"
   ]
  },
  {
   "attachments": {},
   "cell_type": "markdown",
   "metadata": {},
   "source": [
    "### Data Preparation"
   ]
  },
  {
   "cell_type": "code",
   "execution_count": 22,
   "metadata": {},
   "outputs": [],
   "source": [
    "# Load data\n",
    "data_dir = 'data'\n",
    "file = 'utterances_clean2014-2018.csv'\n",
    "df_raw = pd.read_csv(os.path.join(base_path, data_dir, file))"
   ]
  },
  {
   "cell_type": "code",
   "execution_count": 23,
   "metadata": {},
   "outputs": [
    {
     "data": {
      "text/html": [
       "<div>\n",
       "<style scoped>\n",
       "    .dataframe tbody tr th:only-of-type {\n",
       "        vertical-align: middle;\n",
       "    }\n",
       "\n",
       "    .dataframe tbody tr th {\n",
       "        vertical-align: top;\n",
       "    }\n",
       "\n",
       "    .dataframe thead th {\n",
       "        text-align: right;\n",
       "    }\n",
       "</style>\n",
       "<table border=\"1\" class=\"dataframe\">\n",
       "  <thead>\n",
       "    <tr style=\"text-align: right;\">\n",
       "      <th></th>\n",
       "      <th>text</th>\n",
       "      <th>win_side</th>\n",
       "      <th>case_id</th>\n",
       "    </tr>\n",
       "  </thead>\n",
       "  <tbody>\n",
       "    <tr>\n",
       "      <th>0</th>\n",
       "      <td>We'll hear argument next in Case No. 13-553, t...</td>\n",
       "      <td>1.0</td>\n",
       "      <td>2014_13-553</td>\n",
       "    </tr>\n",
       "    <tr>\n",
       "      <th>1</th>\n",
       "      <td>Thank you, Mr. Chief Justice, and may it pleas...</td>\n",
       "      <td>1.0</td>\n",
       "      <td>2014_13-553</td>\n",
       "    </tr>\n",
       "    <tr>\n",
       "      <th>2</th>\n",
       "      <td>Well, is said that -- it said that in -- in (b...</td>\n",
       "      <td>1.0</td>\n",
       "      <td>2014_13-553</td>\n",
       "    </tr>\n",
       "    <tr>\n",
       "      <th>3</th>\n",
       "      <td>Right. I -- but I think--</td>\n",
       "      <td>1.0</td>\n",
       "      <td>2014_13-553</td>\n",
       "    </tr>\n",
       "    <tr>\n",
       "      <th>4</th>\n",
       "      <td>Another tax that discriminates is all it says,...</td>\n",
       "      <td>1.0</td>\n",
       "      <td>2014_13-553</td>\n",
       "    </tr>\n",
       "  </tbody>\n",
       "</table>\n",
       "</div>"
      ],
      "text/plain": [
       "                                                text  win_side      case_id\n",
       "0  We'll hear argument next in Case No. 13-553, t...       1.0  2014_13-553\n",
       "1  Thank you, Mr. Chief Justice, and may it pleas...       1.0  2014_13-553\n",
       "2  Well, is said that -- it said that in -- in (b...       1.0  2014_13-553\n",
       "3                          Right. I -- but I think--       1.0  2014_13-553\n",
       "4  Another tax that discriminates is all it says,...       1.0  2014_13-553"
      ]
     },
     "execution_count": 23,
     "metadata": {},
     "output_type": "execute_result"
    }
   ],
   "source": [
    "# Have to do by utterance as grouping by case_id gives too few examples to learn from\n",
    "df = df_raw[['text', 'win_side', 'case_id']]\n",
    "df.head()"
   ]
  },
  {
   "cell_type": "code",
   "execution_count": 24,
   "metadata": {},
   "outputs": [],
   "source": [
    "# Remove cases with outcomes null and 2 (2 cases)\n",
    "df.dropna(subset=['win_side'], inplace=True)\n",
    "df = df[df.win_side != 2]\n"
   ]
  },
  {
   "cell_type": "code",
   "execution_count": 25,
   "metadata": {},
   "outputs": [],
   "source": [
    "# Get unique case_ids\n",
    "unique_case_ids = df['case_id'].unique()\n",
    "\n",
    "# Split the unique case_ids into training and testing sets\n",
    "train_case_ids, test_case_ids = train_test_split(unique_case_ids, test_size=0.2, random_state=123)\n",
    "\n",
    "# Filter the original dataframe to create the train and test dataframes using the train and test case_ids\n",
    "train_df = df[df['case_id'].isin(train_case_ids)]\n",
    "test_df = df[df['case_id'].isin(test_case_ids)]\n"
   ]
  },
  {
   "cell_type": "code",
   "execution_count": 26,
   "metadata": {},
   "outputs": [
    {
     "data": {
      "text/plain": [
       "(251,)"
      ]
     },
     "metadata": {},
     "output_type": "display_data"
    },
    {
     "data": {
      "text/plain": [
       "(63,)"
      ]
     },
     "metadata": {},
     "output_type": "display_data"
    }
   ],
   "source": [
    "display(train_case_ids.shape)\n",
    "display(test_case_ids.shape)"
   ]
  },
  {
   "attachments": {},
   "cell_type": "markdown",
   "metadata": {},
   "source": [
    "### BoW Embedding"
   ]
  },
  {
   "cell_type": "code",
   "execution_count": 27,
   "metadata": {},
   "outputs": [
    {
     "data": {
      "text/plain": [
       "7995"
      ]
     },
     "execution_count": 27,
     "metadata": {},
     "output_type": "execute_result"
    }
   ],
   "source": [
    "# Bag of Words\n",
    "vocab = embed.get_vocab(train_df, min_freq=10)\n",
    "vocab_size = len(vocab)\n",
    "vocab_size"
   ]
  },
  {
   "attachments": {},
   "cell_type": "markdown",
   "metadata": {},
   "source": [
    "### Create training, validation, and testing dataloaders"
   ]
  },
  {
   "cell_type": "code",
   "execution_count": 28,
   "metadata": {},
   "outputs": [],
   "source": [
    "BATCH_SIZE = 64\n",
    "\n",
    "train_df = train_df[['text', 'win_side']] # Remove case ID for training\n",
    "train_valid_data = list(train_df.values)\n",
    "num_train = int(len(train_valid_data) * 0.9)\n",
    "num_valid = len(train_valid_data) - num_train\n",
    "train_data, valid_data = random_split(\n",
    "    train_valid_data, [num_train, num_valid])\n",
    "test_data = list(test_df[['text', 'win_side']].values)\n",
    "\n",
    "train_dataloader = DataLoader(train_data, batch_size=BATCH_SIZE,\n",
    "                              shuffle=True, \n",
    "                              collate_fn=lambda batch: embed.collate_into_bow(batch, vocab)) # pass vocab to collate function\n",
    "valid_dataloader = DataLoader(valid_data, batch_size=BATCH_SIZE,\n",
    "                              shuffle=False, \n",
    "                              collate_fn=lambda batch: embed.collate_into_bow(batch, vocab))\n",
    "test_dataloader = DataLoader(test_data, batch_size=BATCH_SIZE,\n",
    "                             shuffle=False, \n",
    "                             collate_fn=lambda batch: embed.collate_into_bow(batch, vocab))"
   ]
  },
  {
   "attachments": {},
   "cell_type": "markdown",
   "metadata": {},
   "source": [
    "### Training"
   ]
  },
  {
   "cell_type": "code",
   "execution_count": 29,
   "metadata": {},
   "outputs": [],
   "source": [
    "# BoW NN Classifier\n",
    "hidden_dim = 300\n",
    "model = pred_models.BoWNNClassifier(vocab_size=vocab_size, hidden_dim=hidden_dim, output_dim=1)"
   ]
  },
  {
   "cell_type": "code",
   "execution_count": 30,
   "metadata": {},
   "outputs": [
    {
     "name": "stdout",
     "output_type": "stream",
     "text": [
      "At iteration 200 the train loss is 0.627.\n",
      "At iteration 400 the train loss is 0.562.\n",
      "At iteration 600 the train loss is 0.529.\n",
      "At iteration 800 the train loss is 0.624.\n",
      "After epoch 1 the validation loss is 0.525.\n",
      "At iteration 200 the train loss is 0.533.\n",
      "At iteration 400 the train loss is 0.473.\n",
      "At iteration 600 the train loss is 0.462.\n",
      "At iteration 800 the train loss is 0.420.\n",
      "After epoch 2 the validation loss is 0.505.\n",
      "At iteration 200 the train loss is 0.314.\n",
      "At iteration 400 the train loss is 0.386.\n",
      "At iteration 600 the train loss is 0.417.\n",
      "At iteration 800 the train loss is 0.363.\n",
      "After epoch 3 the validation loss is 0.503.\n",
      "At iteration 200 the train loss is 0.389.\n",
      "At iteration 400 the train loss is 0.352.\n",
      "At iteration 600 the train loss is 0.501.\n",
      "At iteration 800 the train loss is 0.376.\n",
      "After epoch 4 the validation loss is 0.518.\n",
      "At iteration 200 the train loss is 0.242.\n",
      "At iteration 400 the train loss is 0.333.\n",
      "At iteration 600 the train loss is 0.324.\n",
      "At iteration 800 the train loss is 0.408.\n",
      "After epoch 5 the validation loss is 0.565.\n",
      "At iteration 200 the train loss is 0.256.\n",
      "At iteration 400 the train loss is 0.255.\n",
      "At iteration 600 the train loss is 0.335.\n",
      "At iteration 800 the train loss is 0.332.\n",
      "After epoch 6 the validation loss is 0.614.\n",
      "At iteration 200 the train loss is 0.285.\n",
      "At iteration 400 the train loss is 0.333.\n",
      "At iteration 600 the train loss is 0.131.\n",
      "At iteration 800 the train loss is 0.269.\n",
      "After epoch 7 the validation loss is 0.673.\n",
      "At iteration 200 the train loss is 0.183.\n",
      "At iteration 400 the train loss is 0.236.\n",
      "At iteration 600 the train loss is 0.283.\n",
      "At iteration 800 the train loss is 0.257.\n",
      "After epoch 8 the validation loss is 0.762.\n",
      "At iteration 200 the train loss is 0.225.\n",
      "At iteration 400 the train loss is 0.235.\n",
      "At iteration 600 the train loss is 0.359.\n",
      "At iteration 800 the train loss is 0.211.\n",
      "After epoch 9 the validation loss is 0.871.\n",
      "At iteration 200 the train loss is 0.131.\n",
      "At iteration 400 the train loss is 0.118.\n",
      "At iteration 600 the train loss is 0.329.\n",
      "At iteration 800 the train loss is 0.202.\n",
      "After epoch 10 the validation loss is 0.955.\n",
      "At iteration 200 the train loss is 0.127.\n",
      "At iteration 400 the train loss is 0.112.\n",
      "At iteration 600 the train loss is 0.237.\n",
      "At iteration 800 the train loss is 0.108.\n",
      "After epoch 11 the validation loss is 1.045.\n",
      "At iteration 200 the train loss is 0.140.\n",
      "At iteration 400 the train loss is 0.195.\n",
      "At iteration 600 the train loss is 0.155.\n",
      "At iteration 800 the train loss is 0.205.\n",
      "After epoch 12 the validation loss is 1.095.\n",
      "At iteration 200 the train loss is 0.142.\n",
      "At iteration 400 the train loss is 0.150.\n",
      "At iteration 600 the train loss is 0.173.\n",
      "At iteration 800 the train loss is 0.190.\n",
      "After epoch 13 the validation loss is 1.152.\n",
      "At iteration 200 the train loss is 0.169.\n",
      "At iteration 400 the train loss is 0.143.\n",
      "At iteration 600 the train loss is 0.175.\n",
      "At iteration 800 the train loss is 0.143.\n",
      "After epoch 14 the validation loss is 1.188.\n",
      "At iteration 200 the train loss is 0.100.\n",
      "At iteration 400 the train loss is 0.101.\n",
      "At iteration 600 the train loss is 0.126.\n",
      "At iteration 800 the train loss is 0.093.\n",
      "After epoch 15 the validation loss is 1.261.\n"
     ]
    },
    {
     "data": {
      "text/plain": [
       "[<matplotlib.lines.Line2D at 0x7f891a8d3c10>]"
      ]
     },
     "execution_count": 30,
     "metadata": {},
     "output_type": "execute_result"
    },
    {
     "data": {
      "image/png": "[encoded data removed]",
      "text/plain": [
       "<Figure size 432x288 with 1 Axes>"
      ]
     },
     "metadata": {
      "needs_background": "light"
     },
     "output_type": "display_data"
    }
   ],
   "source": [
    "import numpy as np\n",
    "EPOCHS = 15\n",
    "loss_function = torch.nn.BCELoss()\n",
    "optimizer = torch.optim.Adam(model.parameters(), lr=0.01)\n",
    "\n",
    "best_model = None\n",
    "best_val_loss = float('inf')\n",
    "val_losses = []\n",
    "for epoch in range(1, EPOCHS + 1):\n",
    "    epoch_start_time = time.time()\n",
    "    model_helpers.train_an_epoch(model, train_dataloader, optimizer, loss_function)\n",
    "    val_y_true, val_y_pred = model_helpers.make_predictions(model, valid_dataloader)\n",
    "    val_loss = log_loss(val_y_true.astype(np.float64), val_y_pred.astype(np.float64))\n",
    "    if val_loss < best_val_loss:\n",
    "        best_model = type(model)(model.vocab_size, model.hidden_dim, model.output_dim) # get a new instance\n",
    "        best_model.load_state_dict(model.state_dict())\n",
    "        best_val_loss = val_loss\n",
    "    val_losses.append(val_loss)\n",
    "    time_taken = time.time() - epoch_start_time\n",
    "    print(f'After epoch {epoch} the validation loss is {val_loss:.3f}.')\n",
    "    \n",
    "plt.plot(range(1, EPOCHS+1), val_losses)"
   ]
  },
  {
   "cell_type": "code",
   "execution_count": 31,
   "metadata": {},
   "outputs": [
    {
     "name": "stdout",
     "output_type": "stream",
     "text": [
      "Best Threshold=0.735608, G-Mean=0.703\n"
     ]
    },
    {
     "data": {
      "image/png": "[encoded data removed]",
      "text/plain": [
       "<Figure size 432x288 with 1 Axes>"
      ]
     },
     "metadata": {
      "needs_background": "light"
     },
     "output_type": "display_data"
    }
   ],
   "source": [
    "# Get validation predictions to select best threshold\n",
    "val_labels, val_probs = model_helpers.make_predictions(model, valid_dataloader)\n",
    "# Get best threshold from validation data\n",
    "threshold = model_helpers.select_threshold(val_labels, val_probs)"
   ]
  },
  {
   "attachments": {},
   "cell_type": "markdown",
   "metadata": {},
   "source": [
    "### Evaluation"
   ]
  },
  {
   "cell_type": "code",
   "execution_count": 32,
   "metadata": {},
   "outputs": [
    {
     "data": {
      "text/html": [
       "<div>\n",
       "<style scoped>\n",
       "    .dataframe tbody tr th:only-of-type {\n",
       "        vertical-align: middle;\n",
       "    }\n",
       "\n",
       "    .dataframe tbody tr th {\n",
       "        vertical-align: top;\n",
       "    }\n",
       "\n",
       "    .dataframe thead th {\n",
       "        text-align: right;\n",
       "    }\n",
       "</style>\n",
       "<table border=\"1\" class=\"dataframe\">\n",
       "  <thead>\n",
       "    <tr style=\"text-align: right;\">\n",
       "      <th></th>\n",
       "      <th>case_id</th>\n",
       "      <th>win_side</th>\n",
       "      <th>labels</th>\n",
       "      <th>prob</th>\n",
       "    </tr>\n",
       "  </thead>\n",
       "  <tbody>\n",
       "    <tr>\n",
       "      <th>2352</th>\n",
       "      <td>2014_13-894</td>\n",
       "      <td>0.0</td>\n",
       "      <td>0.0</td>\n",
       "      <td>0.451245</td>\n",
       "    </tr>\n",
       "    <tr>\n",
       "      <th>2353</th>\n",
       "      <td>2014_13-894</td>\n",
       "      <td>0.0</td>\n",
       "      <td>0.0</td>\n",
       "      <td>0.880145</td>\n",
       "    </tr>\n",
       "    <tr>\n",
       "      <th>2354</th>\n",
       "      <td>2014_13-894</td>\n",
       "      <td>0.0</td>\n",
       "      <td>0.0</td>\n",
       "      <td>0.778482</td>\n",
       "    </tr>\n",
       "    <tr>\n",
       "      <th>2355</th>\n",
       "      <td>2014_13-894</td>\n",
       "      <td>0.0</td>\n",
       "      <td>0.0</td>\n",
       "      <td>0.997662</td>\n",
       "    </tr>\n",
       "    <tr>\n",
       "      <th>2356</th>\n",
       "      <td>2014_13-894</td>\n",
       "      <td>0.0</td>\n",
       "      <td>0.0</td>\n",
       "      <td>0.854429</td>\n",
       "    </tr>\n",
       "  </tbody>\n",
       "</table>\n",
       "</div>"
      ],
      "text/plain": [
       "          case_id  win_side  labels      prob\n",
       "2352  2014_13-894       0.0     0.0  0.451245\n",
       "2353  2014_13-894       0.0     0.0  0.880145\n",
       "2354  2014_13-894       0.0     0.0  0.778482\n",
       "2355  2014_13-894       0.0     0.0  0.997662\n",
       "2356  2014_13-894       0.0     0.0  0.854429"
      ]
     },
     "execution_count": 32,
     "metadata": {},
     "output_type": "execute_result"
    }
   ],
   "source": [
    "# Get dataframe with predictions and real values\n",
    "test_results_df = model_helpers.get_test_results_df(best_model, test_dataloader, test_df[['case_id', 'win_side']])\n",
    "test_results_df.head()"
   ]
  },
  {
   "cell_type": "code",
   "execution_count": 33,
   "metadata": {},
   "outputs": [
    {
     "data": {
      "text/plain": [
       "0    8965\n",
       "1    6702\n",
       "Name: pred, dtype: int64"
      ]
     },
     "metadata": {},
     "output_type": "display_data"
    },
    {
     "data": {
      "text/plain": [
       "1.0    9666\n",
       "0.0    6001\n",
       "Name: win_side, dtype: int64"
      ]
     },
     "execution_count": 33,
     "metadata": {},
     "output_type": "execute_result"
    }
   ],
   "source": [
    "# Results dataframe per utterance\n",
    "per_utterance_df = (test_results_df\n",
    "                    .assign(pred=lambda x: x['prob']\n",
    "                    .apply(lambda y: 1 if y > threshold else 0)))\n",
    "\n",
    "# petitioner 1, respondent 0\n",
    "display(per_utterance_df.pred.value_counts())\n",
    "per_utterance_df.win_side.value_counts()"
   ]
  },
  {
   "cell_type": "code",
   "execution_count": 34,
   "metadata": {},
   "outputs": [
    {
     "data": {
      "text/plain": [
       "0    54\n",
       "1     9\n",
       "Name: pred, dtype: int64"
      ]
     },
     "metadata": {},
     "output_type": "display_data"
    },
    {
     "data": {
      "text/plain": [
       "1.0    38\n",
       "0.0    25\n",
       "Name: win_side, dtype: int64"
      ]
     },
     "execution_count": 34,
     "metadata": {},
     "output_type": "execute_result"
    }
   ],
   "source": [
    "# Results dataframe per case\n",
    "per_case_df = (test_results_df\n",
    "                .groupby('case_id')\n",
    "                .mean()\n",
    "                .assign(pred=lambda x: x['prob']\n",
    "                .apply(lambda y: 1 if y > threshold else 0)))\n",
    "\n",
    "# petitioner 1, respondent 0\n",
    "display(per_case_df.pred.value_counts())\n",
    "per_case_df.win_side.value_counts()"
   ]
  },
  {
   "cell_type": "code",
   "execution_count": 36,
   "metadata": {},
   "outputs": [
    {
     "ename": "NameError",
     "evalue": "name 'y' is not defined",
     "output_type": "error",
     "traceback": [
      "\u001b[0;31m---------------------------------------------------------------------------\u001b[0m",
      "\u001b[0;31mNameError\u001b[0m                                 Traceback (most recent call last)",
      "\u001b[1;32m/Users/nuriaadellraventos/Documents/Classes/AdvML/supreme_court_nlp/src/modeling_temp.ipynb Cell 22\u001b[0m in \u001b[0;36m<module>\u001b[0;34m\u001b[0m\n\u001b[1;32m      <a href='vscode-notebook-cell:/Users/nuriaadellraventos/Documents/Classes/AdvML/supreme_court_nlp/src/modeling_temp.ipynb#Y152sZmlsZQ%3D%3D?line=0'>1</a>\u001b[0m \u001b[39m# Confusion matrix by case\u001b[39;00m\n\u001b[0;32m----> <a href='vscode-notebook-cell:/Users/nuriaadellraventos/Documents/Classes/AdvML/supreme_court_nlp/src/modeling_temp.ipynb#Y152sZmlsZQ%3D%3D?line=1'>2</a>\u001b[0m model_helpers\u001b[39m.\u001b[39;49mresults_heatmap(per_case_df[\u001b[39m'\u001b[39;49m\u001b[39mwin_side\u001b[39;49m\u001b[39m'\u001b[39;49m],\n\u001b[1;32m      <a href='vscode-notebook-cell:/Users/nuriaadellraventos/Documents/Classes/AdvML/supreme_court_nlp/src/modeling_temp.ipynb#Y152sZmlsZQ%3D%3D?line=2'>3</a>\u001b[0m                 per_case_df[\u001b[39m'\u001b[39;49m\u001b[39mpred\u001b[39;49m\u001b[39m'\u001b[39;49m],\n\u001b[1;32m      <a href='vscode-notebook-cell:/Users/nuriaadellraventos/Documents/Classes/AdvML/supreme_court_nlp/src/modeling_temp.ipynb#Y152sZmlsZQ%3D%3D?line=3'>4</a>\u001b[0m                 \u001b[39m'\u001b[39;49m\u001b[39mConfusion Matrix by Case\u001b[39;49m\u001b[39m'\u001b[39;49m,\n\u001b[1;32m      <a href='vscode-notebook-cell:/Users/nuriaadellraventos/Documents/Classes/AdvML/supreme_court_nlp/src/modeling_temp.ipynb#Y152sZmlsZQ%3D%3D?line=4'>5</a>\u001b[0m                 target_names \u001b[39m=\u001b[39;49m [\u001b[39m'\u001b[39;49m\u001b[39mrespondent\u001b[39;49m\u001b[39m'\u001b[39;49m, \u001b[39m'\u001b[39;49m\u001b[39mpetitioner\u001b[39;49m\u001b[39m'\u001b[39;49m])\n",
      "File \u001b[0;32m~/Documents/Classes/AdvML/supreme_court_nlp/src/model_helpers.py:124\u001b[0m, in \u001b[0;36mresults_heatmap\u001b[0;34m(y_true, y_pred, title, target_names)\u001b[0m\n\u001b[1;32m    122\u001b[0m fig, ax \u001b[39m=\u001b[39m plt\u001b[39m.\u001b[39msubplots(figsize\u001b[39m=\u001b[39m(\u001b[39m6\u001b[39m,\u001b[39m6\u001b[39m))\n\u001b[1;32m    123\u001b[0m sns\u001b[39m.\u001b[39mheatmap(cm, annot\u001b[39m=\u001b[39m\u001b[39mTrue\u001b[39;00m, cmap\u001b[39m=\u001b[39m\u001b[39m'\u001b[39m\u001b[39mcrest\u001b[39m\u001b[39m'\u001b[39m, fmt\u001b[39m=\u001b[39m\u001b[39m'\u001b[39m\u001b[39m.0f\u001b[39m\u001b[39m'\u001b[39m, xticklabels\u001b[39m=\u001b[39mtarget_names, yticklabels\u001b[39m=\u001b[39mtarget_names)\n\u001b[0;32m--> 124\u001b[0m ax\u001b[39m.\u001b[39mset_title(title \u001b[39m+\u001b[39m \u001b[39mf\u001b[39m\u001b[39m'\u001b[39m\u001b[39m\\n\u001b[39;00m\u001b[39mAccuracy: \u001b[39m\u001b[39m{\u001b[39;00m\u001b[39mround\u001b[39m(accuracy_score(y_pred,y), \u001b[39m4\u001b[39m)\u001b[39m}\u001b[39;00m\u001b[39m'\u001b[39m, fontsize\u001b[39m=\u001b[39m\u001b[39m12\u001b[39m)\n\u001b[1;32m    125\u001b[0m plt\u001b[39m.\u001b[39mylabel(\u001b[39m'\u001b[39m\u001b[39mPredicted\u001b[39m\u001b[39m'\u001b[39m)\n\u001b[1;32m    126\u001b[0m plt\u001b[39m.\u001b[39mxlabel(\u001b[39m'\u001b[39m\u001b[39mActual Value\u001b[39m\u001b[39m'\u001b[39m)\n",
      "\u001b[0;31mNameError\u001b[0m: name 'y' is not defined"
     ]
    },
    {
     "data": {
      "image/png": "[encoded data removed]",
      "text/plain": [
       "<Figure size 432x432 with 2 Axes>"
      ]
     },
     "metadata": {
      "needs_background": "light"
     },
     "output_type": "display_data"
    }
   ],
   "source": [
    "# Confusion matrix by case\n",
    "model_helpers.results_heatmap(per_case_df['win_side'],\n",
    "                per_case_df['pred'],\n",
    "                'Confusion Matrix by Case',\n",
    "                target_names = ['respondent', 'petitioner'])"
   ]
  },
  {
   "cell_type": "code",
   "execution_count": null,
   "metadata": {},
   "outputs": [
    {
     "data": {
      "image/png": "[encoded data removed]",
      "text/plain": [
       "<Figure size 432x432 with 2 Axes>"
      ]
     },
     "metadata": {
      "needs_background": "light"
     },
     "output_type": "display_data"
    }
   ],
   "source": [
    "# Confusion matrix by utterance\n",
    "model_helpers.results_heatmap(per_utterance_df['win_side'],\n",
    "                per_utterance_df['pred'],\n",
    "                'Confusion Matrix by Utterance',\n",
    "                target_names = ['respondent', 'petitioner'])"
   ]
  }
 ],
 "metadata": {
  "kernelspec": {
   "display_name": "Python 3.9.16 64-bit",
   "language": "python",
   "name": "python3"
  },
  "language_info": {
   "codemirror_mode": {
    "name": "ipython",
    "version": 3
   },
   "file_extension": ".py",
   "mimetype": "text/x-python",
   "name": "python",
   "nbconvert_exporter": "python",
   "pygments_lexer": "ipython3",
   "version": "3.9.10"
  },
  "orig_nbformat": 4,
  "vscode": {
   "interpreter": {
    "hash": "949777d72b0d2535278d3dc13498b2535136f6dfe0678499012e853ee9abcab1"
   }
  }
 },
 "nbformat": 4,
 "nbformat_minor": 2
}
