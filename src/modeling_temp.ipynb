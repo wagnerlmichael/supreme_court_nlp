{
 "cells": [
  {
   "cell_type": "code",
   "execution_count": 42,
   "metadata": {},
   "outputs": [],
   "source": [
    "import os\n",
    "import time\n",
    "import torch\n",
    "import subprocess as sp\n",
    "import pandas as pd\n",
    "import matplotlib.pyplot as plt\n",
    "from sklearn.metrics import log_loss\n",
    "from sklearn.model_selection import train_test_split\n",
    "from torch.utils.data import Dataset, DataLoader, random_split\n",
    "\n",
    "%matplotlib inline"
   ]
  },
  {
   "cell_type": "code",
   "execution_count": 43,
   "metadata": {},
   "outputs": [],
   "source": [
    "import warnings\n",
    "warnings.filterwarnings('ignore')"
   ]
  },
  {
   "cell_type": "code",
   "execution_count": 44,
   "metadata": {},
   "outputs": [],
   "source": [
    "base_path = sp.getoutput('git rev-parse --show-toplevel')\n",
    "os.chdir(base_path)\n",
    "\n",
    "from src import embed, pred_models, model_helpers"
   ]
  },
  {
   "attachments": {},
   "cell_type": "markdown",
   "metadata": {},
   "source": [
    "### Data Preparation"
   ]
  },
  {
   "cell_type": "code",
   "execution_count": 45,
   "metadata": {},
   "outputs": [],
   "source": [
    "# Load data\n",
    "data_dir = 'data'\n",
    "file = 'utterances_clean2014-2018.csv'\n",
    "df_raw = pd.read_csv(os.path.join(base_path, data_dir, file))"
   ]
  },
  {
   "cell_type": "code",
   "execution_count": 46,
   "metadata": {},
   "outputs": [],
   "source": [
    "# Load data\n",
    "# set folder path\n",
    "folder_path = \"data/\"\n",
    "\n",
    "# get list of files in folder\n",
    "file_list = os.listdir(folder_path)\n",
    "\n",
    "# create empty list to hold dataframes\n",
    "df_list = []\n",
    "\n",
    "# loop through files in folder\n",
    "for file in file_list:\n",
    "    # check if file is a CSV\n",
    "    if file.endswith('.csv'):\n",
    "        # read CSV file into a pandas dataframe\n",
    "        df = pd.read_csv(os.path.join(folder_path, file))\n",
    "        # append dataframe to list\n",
    "        df_list.append(df)\n",
    "\n",
    "# concatenate all dataframes in list into a single dataframe\n",
    "combined_df = pd.concat(df_list, axis=0, ignore_index=True)\n",
    "df_raw = combined_df"
   ]
  },
  {
   "cell_type": "code",
   "execution_count": 47,
   "metadata": {},
   "outputs": [
    {
     "data": {
      "text/html": [
       "<div>\n",
       "<style scoped>\n",
       "    .dataframe tbody tr th:only-of-type {\n",
       "        vertical-align: middle;\n",
       "    }\n",
       "\n",
       "    .dataframe tbody tr th {\n",
       "        vertical-align: top;\n",
       "    }\n",
       "\n",
       "    .dataframe thead th {\n",
       "        text-align: right;\n",
       "    }\n",
       "</style>\n",
       "<table border=\"1\" class=\"dataframe\">\n",
       "  <thead>\n",
       "    <tr style=\"text-align: right;\">\n",
       "      <th></th>\n",
       "      <th>text</th>\n",
       "      <th>win_side</th>\n",
       "      <th>case_id</th>\n",
       "    </tr>\n",
       "  </thead>\n",
       "  <tbody>\n",
       "    <tr>\n",
       "      <th>0</th>\n",
       "      <td>-- United States. Mr. Hayes, you may continue ...</td>\n",
       "      <td>1.0</td>\n",
       "      <td>1961_41</td>\n",
       "    </tr>\n",
       "    <tr>\n",
       "      <th>1</th>\n",
       "      <td>May I should like to call attention to the rep...</td>\n",
       "      <td>1.0</td>\n",
       "      <td>1961_41</td>\n",
       "    </tr>\n",
       "    <tr>\n",
       "      <th>2</th>\n",
       "      <td>May, I ask you please, is this matter in conte...</td>\n",
       "      <td>1.0</td>\n",
       "      <td>1961_41</td>\n",
       "    </tr>\n",
       "    <tr>\n",
       "      <th>3</th>\n",
       "      <td>Not quite, Your Honor. And may I refer directl...</td>\n",
       "      <td>1.0</td>\n",
       "      <td>1961_41</td>\n",
       "    </tr>\n",
       "    <tr>\n",
       "      <th>4</th>\n",
       "      <td>I thought he conceded that?</td>\n",
       "      <td>1.0</td>\n",
       "      <td>1961_41</td>\n",
       "    </tr>\n",
       "  </tbody>\n",
       "</table>\n",
       "</div>"
      ],
      "text/plain": [
       "                                                text  win_side  case_id\n",
       "0  -- United States. Mr. Hayes, you may continue ...       1.0  1961_41\n",
       "1  May I should like to call attention to the rep...       1.0  1961_41\n",
       "2  May, I ask you please, is this matter in conte...       1.0  1961_41\n",
       "3  Not quite, Your Honor. And may I refer directl...       1.0  1961_41\n",
       "4                        I thought he conceded that?       1.0  1961_41"
      ]
     },
     "execution_count": 47,
     "metadata": {},
     "output_type": "execute_result"
    }
   ],
   "source": [
    "# Have to do by utterance as grouping by case_id gives too few examples to learn from\n",
    "df = df_raw[['text', 'win_side', 'case_id']]\n",
    "df.head()"
   ]
  },
  {
   "cell_type": "code",
   "execution_count": 48,
   "metadata": {},
   "outputs": [],
   "source": [
    "# Keep only cases with outcomes 0 or 1\n",
    "df = df[df.win_side.isin([0, 1])]"
   ]
  },
  {
   "cell_type": "code",
   "execution_count": 49,
   "metadata": {},
   "outputs": [],
   "source": [
    "# Get unique case_ids\n",
    "unique_case_ids = df['case_id'].unique()\n",
    "\n",
    "# Split the unique case_ids into training and testing sets\n",
    "train_case_ids, test_case_ids = train_test_split(unique_case_ids, test_size=0.2, random_state=123)\n",
    "\n",
    "# Filter the original dataframe to create the train and test dataframes using the train and test case_ids\n",
    "train_df = df[df['case_id'].isin(train_case_ids)]\n",
    "test_df = df[df['case_id'].isin(test_case_ids)]\n"
   ]
  },
  {
   "cell_type": "code",
   "execution_count": 50,
   "metadata": {},
   "outputs": [
    {
     "data": {
      "text/plain": [
       "(1357,)"
      ]
     },
     "metadata": {},
     "output_type": "display_data"
    },
    {
     "data": {
      "text/plain": [
       "(340,)"
      ]
     },
     "metadata": {},
     "output_type": "display_data"
    }
   ],
   "source": [
    "display(train_case_ids.shape)\n",
    "display(test_case_ids.shape)"
   ]
  },
  {
   "attachments": {},
   "cell_type": "markdown",
   "metadata": {},
   "source": [
    "### BoW Embedding"
   ]
  },
  {
   "cell_type": "code",
   "execution_count": 51,
   "metadata": {},
   "outputs": [
    {
     "data": {
      "text/plain": [
       "20551"
      ]
     },
     "execution_count": 51,
     "metadata": {},
     "output_type": "execute_result"
    }
   ],
   "source": [
    "# Bag of Words\n",
    "vocab = embed.get_vocab(train_df, min_freq=100)\n",
    "vocab_size = len(vocab)\n",
    "vocab_size"
   ]
  },
  {
   "attachments": {},
   "cell_type": "markdown",
   "metadata": {},
   "source": [
    "### Create training, validation, and testing dataloaders"
   ]
  },
  {
   "cell_type": "code",
   "execution_count": 52,
   "metadata": {},
   "outputs": [],
   "source": [
    "BATCH_SIZE = 64\n",
    "\n",
    "train_df = train_df[['text', 'win_side']] # Remove case ID for training\n",
    "train_valid_data = list(train_df.values)\n",
    "num_train = int(len(train_valid_data) * 0.85)\n",
    "num_valid = len(train_valid_data) - num_train\n",
    "train_data, valid_data = random_split(\n",
    "    train_valid_data, [num_train, num_valid])\n",
    "test_data = list(test_df[['text', 'win_side']].values)\n",
    "\n",
    "train_dataloader = DataLoader(train_data, batch_size=BATCH_SIZE,\n",
    "                              shuffle=True, \n",
    "                              collate_fn=lambda batch: embed.collate_into_bow(batch, vocab)) # pass vocab to collate function\n",
    "valid_dataloader = DataLoader(valid_data, batch_size=BATCH_SIZE,\n",
    "                              shuffle=False, \n",
    "                              collate_fn=lambda batch: embed.collate_into_bow(batch, vocab))\n",
    "test_dataloader = DataLoader(test_data, batch_size=BATCH_SIZE,\n",
    "                             shuffle=False, \n",
    "                             collate_fn=lambda batch: embed.collate_into_bow(batch, vocab))"
   ]
  },
  {
   "attachments": {},
   "cell_type": "markdown",
   "metadata": {},
   "source": [
    "### Training"
   ]
  },
  {
   "cell_type": "code",
   "execution_count": 53,
   "metadata": {},
   "outputs": [],
   "source": [
    "# BoW NN Classifier\n",
    "hidden_dim = 500\n",
    "model = pred_models.BoWNNClassifier(vocab_size=vocab_size, hidden_dim=hidden_dim, output_dim=1)"
   ]
  },
  {
   "cell_type": "code",
   "execution_count": 55,
   "metadata": {},
   "outputs": [
    {
     "name": "stdout",
     "output_type": "stream",
     "text": [
      "At iteration 500 the train loss is 0.628.\n",
      "At iteration 1000 the train loss is 0.606.\n",
      "At iteration 1500 the train loss is 0.553.\n",
      "At iteration 2000 the train loss is 0.599.\n",
      "At iteration 2500 the train loss is 0.612.\n",
      "At iteration 3000 the train loss is 0.633.\n",
      "At iteration 3500 the train loss is 0.692.\n",
      "At iteration 4000 the train loss is 0.671.\n",
      "At iteration 4500 the train loss is 0.532.\n",
      "At iteration 5000 the train loss is 0.635.\n",
      "After epoch 1 the validation loss is 0.615.\n",
      "At iteration 500 the train loss is 0.630.\n",
      "At iteration 1000 the train loss is 0.624.\n",
      "At iteration 1500 the train loss is 0.619.\n",
      "At iteration 2000 the train loss is 0.613.\n",
      "At iteration 2500 the train loss is 0.655.\n",
      "At iteration 3000 the train loss is 0.547.\n"
     ]
    },
    {
     "ename": "KeyboardInterrupt",
     "evalue": "",
     "output_type": "error",
     "traceback": [
      "\u001b[0;31m---------------------------------------------------------------------------\u001b[0m",
      "\u001b[0;31mKeyboardInterrupt\u001b[0m                         Traceback (most recent call last)",
      "\u001b[1;32m/Users/nuriaadellraventos/Documents/Classes/AdvML/supreme_court_nlp/src/modeling_temp.ipynb Cell 17\u001b[0m in \u001b[0;36m<module>\u001b[0;34m\u001b[0m\n\u001b[1;32m      <a href='vscode-notebook-cell:/Users/nuriaadellraventos/Documents/Classes/AdvML/supreme_court_nlp/src/modeling_temp.ipynb#Y143sZmlsZQ%3D%3D?line=8'>9</a>\u001b[0m \u001b[39mfor\u001b[39;00m epoch \u001b[39min\u001b[39;00m \u001b[39mrange\u001b[39m(\u001b[39m1\u001b[39m, EPOCHS \u001b[39m+\u001b[39m \u001b[39m1\u001b[39m):\n\u001b[1;32m     <a href='vscode-notebook-cell:/Users/nuriaadellraventos/Documents/Classes/AdvML/supreme_court_nlp/src/modeling_temp.ipynb#Y143sZmlsZQ%3D%3D?line=9'>10</a>\u001b[0m     epoch_start_time \u001b[39m=\u001b[39m time\u001b[39m.\u001b[39mtime()\n\u001b[0;32m---> <a href='vscode-notebook-cell:/Users/nuriaadellraventos/Documents/Classes/AdvML/supreme_court_nlp/src/modeling_temp.ipynb#Y143sZmlsZQ%3D%3D?line=10'>11</a>\u001b[0m     model_helpers\u001b[39m.\u001b[39;49mtrain_an_epoch(model, train_dataloader, optimizer, loss_function)\n\u001b[1;32m     <a href='vscode-notebook-cell:/Users/nuriaadellraventos/Documents/Classes/AdvML/supreme_court_nlp/src/modeling_temp.ipynb#Y143sZmlsZQ%3D%3D?line=11'>12</a>\u001b[0m     val_y_true, val_y_pred \u001b[39m=\u001b[39m model_helpers\u001b[39m.\u001b[39mmake_predictions(model, valid_dataloader)\n\u001b[1;32m     <a href='vscode-notebook-cell:/Users/nuriaadellraventos/Documents/Classes/AdvML/supreme_court_nlp/src/modeling_temp.ipynb#Y143sZmlsZQ%3D%3D?line=12'>13</a>\u001b[0m     val_loss \u001b[39m=\u001b[39m log_loss(val_y_true\u001b[39m.\u001b[39mastype(np\u001b[39m.\u001b[39mfloat64), val_y_pred\u001b[39m.\u001b[39mastype(np\u001b[39m.\u001b[39mfloat64))\n",
      "File \u001b[0;32m~/Documents/Classes/AdvML/supreme_court_nlp/src/model_helpers.py:25\u001b[0m, in \u001b[0;36mtrain_an_epoch\u001b[0;34m(model, dataloader, optimizer, loss_function)\u001b[0m\n\u001b[1;32m     22\u001b[0m model\u001b[39m.\u001b[39mtrain()\n\u001b[1;32m     23\u001b[0m log_interval \u001b[39m=\u001b[39m \u001b[39m200\u001b[39m\n\u001b[0;32m---> 25\u001b[0m \u001b[39mfor\u001b[39;00m idx, (label, text) \u001b[39min\u001b[39;00m \u001b[39menumerate\u001b[39m(dataloader):\n\u001b[1;32m     26\u001b[0m     model\u001b[39m.\u001b[39mzero_grad()\n\u001b[1;32m     27\u001b[0m     log_probs \u001b[39m=\u001b[39m model(text)\u001b[39m.\u001b[39msqueeze(\u001b[39m1\u001b[39m)\n",
      "File \u001b[0;32m/Library/Frameworks/Python.framework/Versions/3.9/lib/python3.9/site-packages/torch/utils/data/dataloader.py:634\u001b[0m, in \u001b[0;36m_BaseDataLoaderIter.__next__\u001b[0;34m(self)\u001b[0m\n\u001b[1;32m    631\u001b[0m \u001b[39mif\u001b[39;00m \u001b[39mself\u001b[39m\u001b[39m.\u001b[39m_sampler_iter \u001b[39mis\u001b[39;00m \u001b[39mNone\u001b[39;00m:\n\u001b[1;32m    632\u001b[0m     \u001b[39m# TODO(https://github.com/pytorch/pytorch/issues/76750)\u001b[39;00m\n\u001b[1;32m    633\u001b[0m     \u001b[39mself\u001b[39m\u001b[39m.\u001b[39m_reset()  \u001b[39m# type: ignore[call-arg]\u001b[39;00m\n\u001b[0;32m--> 634\u001b[0m data \u001b[39m=\u001b[39m \u001b[39mself\u001b[39;49m\u001b[39m.\u001b[39;49m_next_data()\n\u001b[1;32m    635\u001b[0m \u001b[39mself\u001b[39m\u001b[39m.\u001b[39m_num_yielded \u001b[39m+\u001b[39m\u001b[39m=\u001b[39m \u001b[39m1\u001b[39m\n\u001b[1;32m    636\u001b[0m \u001b[39mif\u001b[39;00m \u001b[39mself\u001b[39m\u001b[39m.\u001b[39m_dataset_kind \u001b[39m==\u001b[39m _DatasetKind\u001b[39m.\u001b[39mIterable \u001b[39mand\u001b[39;00m \\\n\u001b[1;32m    637\u001b[0m         \u001b[39mself\u001b[39m\u001b[39m.\u001b[39m_IterableDataset_len_called \u001b[39mis\u001b[39;00m \u001b[39mnot\u001b[39;00m \u001b[39mNone\u001b[39;00m \u001b[39mand\u001b[39;00m \\\n\u001b[1;32m    638\u001b[0m         \u001b[39mself\u001b[39m\u001b[39m.\u001b[39m_num_yielded \u001b[39m>\u001b[39m \u001b[39mself\u001b[39m\u001b[39m.\u001b[39m_IterableDataset_len_called:\n",
      "File \u001b[0;32m/Library/Frameworks/Python.framework/Versions/3.9/lib/python3.9/site-packages/torch/utils/data/dataloader.py:678\u001b[0m, in \u001b[0;36m_SingleProcessDataLoaderIter._next_data\u001b[0;34m(self)\u001b[0m\n\u001b[1;32m    676\u001b[0m \u001b[39mdef\u001b[39;00m \u001b[39m_next_data\u001b[39m(\u001b[39mself\u001b[39m):\n\u001b[1;32m    677\u001b[0m     index \u001b[39m=\u001b[39m \u001b[39mself\u001b[39m\u001b[39m.\u001b[39m_next_index()  \u001b[39m# may raise StopIteration\u001b[39;00m\n\u001b[0;32m--> 678\u001b[0m     data \u001b[39m=\u001b[39m \u001b[39mself\u001b[39;49m\u001b[39m.\u001b[39;49m_dataset_fetcher\u001b[39m.\u001b[39;49mfetch(index)  \u001b[39m# may raise StopIteration\u001b[39;00m\n\u001b[1;32m    679\u001b[0m     \u001b[39mif\u001b[39;00m \u001b[39mself\u001b[39m\u001b[39m.\u001b[39m_pin_memory:\n\u001b[1;32m    680\u001b[0m         data \u001b[39m=\u001b[39m _utils\u001b[39m.\u001b[39mpin_memory\u001b[39m.\u001b[39mpin_memory(data, \u001b[39mself\u001b[39m\u001b[39m.\u001b[39m_pin_memory_device)\n",
      "File \u001b[0;32m/Library/Frameworks/Python.framework/Versions/3.9/lib/python3.9/site-packages/torch/utils/data/_utils/fetch.py:54\u001b[0m, in \u001b[0;36m_MapDatasetFetcher.fetch\u001b[0;34m(self, possibly_batched_index)\u001b[0m\n\u001b[1;32m     52\u001b[0m \u001b[39melse\u001b[39;00m:\n\u001b[1;32m     53\u001b[0m     data \u001b[39m=\u001b[39m \u001b[39mself\u001b[39m\u001b[39m.\u001b[39mdataset[possibly_batched_index]\n\u001b[0;32m---> 54\u001b[0m \u001b[39mreturn\u001b[39;00m \u001b[39mself\u001b[39;49m\u001b[39m.\u001b[39;49mcollate_fn(data)\n",
      "\u001b[1;32m/Users/nuriaadellraventos/Documents/Classes/AdvML/supreme_court_nlp/src/modeling_temp.ipynb Cell 17\u001b[0m in \u001b[0;36m<lambda>\u001b[0;34m(batch)\u001b[0m\n\u001b[1;32m      <a href='vscode-notebook-cell:/Users/nuriaadellraventos/Documents/Classes/AdvML/supreme_court_nlp/src/modeling_temp.ipynb#Y143sZmlsZQ%3D%3D?line=6'>7</a>\u001b[0m train_data, valid_data \u001b[39m=\u001b[39m random_split(\n\u001b[1;32m      <a href='vscode-notebook-cell:/Users/nuriaadellraventos/Documents/Classes/AdvML/supreme_court_nlp/src/modeling_temp.ipynb#Y143sZmlsZQ%3D%3D?line=7'>8</a>\u001b[0m     train_valid_data, [num_train, num_valid])\n\u001b[1;32m      <a href='vscode-notebook-cell:/Users/nuriaadellraventos/Documents/Classes/AdvML/supreme_court_nlp/src/modeling_temp.ipynb#Y143sZmlsZQ%3D%3D?line=8'>9</a>\u001b[0m test_data \u001b[39m=\u001b[39m \u001b[39mlist\u001b[39m(test_df[[\u001b[39m'\u001b[39m\u001b[39mtext\u001b[39m\u001b[39m'\u001b[39m, \u001b[39m'\u001b[39m\u001b[39mwin_side\u001b[39m\u001b[39m'\u001b[39m]]\u001b[39m.\u001b[39mvalues)\n\u001b[1;32m     <a href='vscode-notebook-cell:/Users/nuriaadellraventos/Documents/Classes/AdvML/supreme_court_nlp/src/modeling_temp.ipynb#Y143sZmlsZQ%3D%3D?line=10'>11</a>\u001b[0m train_dataloader \u001b[39m=\u001b[39m DataLoader(train_data, batch_size\u001b[39m=\u001b[39mBATCH_SIZE,\n\u001b[1;32m     <a href='vscode-notebook-cell:/Users/nuriaadellraventos/Documents/Classes/AdvML/supreme_court_nlp/src/modeling_temp.ipynb#Y143sZmlsZQ%3D%3D?line=11'>12</a>\u001b[0m                               shuffle\u001b[39m=\u001b[39m\u001b[39mTrue\u001b[39;00m, \n\u001b[0;32m---> <a href='vscode-notebook-cell:/Users/nuriaadellraventos/Documents/Classes/AdvML/supreme_court_nlp/src/modeling_temp.ipynb#Y143sZmlsZQ%3D%3D?line=12'>13</a>\u001b[0m                               collate_fn\u001b[39m=\u001b[39m\u001b[39mlambda\u001b[39;00m batch: embed\u001b[39m.\u001b[39;49mcollate_into_bow(batch, vocab)) \u001b[39m# pass vocab to collate function\u001b[39;00m\n\u001b[1;32m     <a href='vscode-notebook-cell:/Users/nuriaadellraventos/Documents/Classes/AdvML/supreme_court_nlp/src/modeling_temp.ipynb#Y143sZmlsZQ%3D%3D?line=13'>14</a>\u001b[0m valid_dataloader \u001b[39m=\u001b[39m DataLoader(valid_data, batch_size\u001b[39m=\u001b[39mBATCH_SIZE,\n\u001b[1;32m     <a href='vscode-notebook-cell:/Users/nuriaadellraventos/Documents/Classes/AdvML/supreme_court_nlp/src/modeling_temp.ipynb#Y143sZmlsZQ%3D%3D?line=14'>15</a>\u001b[0m                               shuffle\u001b[39m=\u001b[39m\u001b[39mFalse\u001b[39;00m, \n\u001b[1;32m     <a href='vscode-notebook-cell:/Users/nuriaadellraventos/Documents/Classes/AdvML/supreme_court_nlp/src/modeling_temp.ipynb#Y143sZmlsZQ%3D%3D?line=15'>16</a>\u001b[0m                               collate_fn\u001b[39m=\u001b[39m\u001b[39mlambda\u001b[39;00m batch: embed\u001b[39m.\u001b[39mcollate_into_bow(batch, vocab))\n\u001b[1;32m     <a href='vscode-notebook-cell:/Users/nuriaadellraventos/Documents/Classes/AdvML/supreme_court_nlp/src/modeling_temp.ipynb#Y143sZmlsZQ%3D%3D?line=16'>17</a>\u001b[0m test_dataloader \u001b[39m=\u001b[39m DataLoader(test_data, batch_size\u001b[39m=\u001b[39mBATCH_SIZE,\n\u001b[1;32m     <a href='vscode-notebook-cell:/Users/nuriaadellraventos/Documents/Classes/AdvML/supreme_court_nlp/src/modeling_temp.ipynb#Y143sZmlsZQ%3D%3D?line=17'>18</a>\u001b[0m                              shuffle\u001b[39m=\u001b[39m\u001b[39mFalse\u001b[39;00m, \n\u001b[1;32m     <a href='vscode-notebook-cell:/Users/nuriaadellraventos/Documents/Classes/AdvML/supreme_court_nlp/src/modeling_temp.ipynb#Y143sZmlsZQ%3D%3D?line=18'>19</a>\u001b[0m                              collate_fn\u001b[39m=\u001b[39m\u001b[39mlambda\u001b[39;00m batch: embed\u001b[39m.\u001b[39mcollate_into_bow(batch, vocab))\n",
      "File \u001b[0;32m~/Documents/Classes/AdvML/supreme_court_nlp/src/embed.py:65\u001b[0m, in \u001b[0;36mcollate_into_bow\u001b[0;34m(batch, vocab)\u001b[0m\n\u001b[1;32m     63\u001b[0m     labels \u001b[39m=\u001b[39m torch\u001b[39m.\u001b[39mcat((labels, torch\u001b[39m.\u001b[39mtensor([label])), \u001b[39m0\u001b[39m)\n\u001b[1;32m     64\u001b[0m     row_tokens \u001b[39m=\u001b[39m [vocab[t] \u001b[39mfor\u001b[39;00m t \u001b[39min\u001b[39;00m tokenizer(token)]\n\u001b[0;32m---> 65\u001b[0m     cum_freq \u001b[39m=\u001b[39m torch\u001b[39m.\u001b[39;49mbincount(torch\u001b[39m.\u001b[39;49mtensor(row_tokens), minlength\u001b[39m=\u001b[39;49mvocab_size)\u001b[39m.\u001b[39;49mresize(\u001b[39m1\u001b[39;49m, vocab_size)\n\u001b[1;32m     66\u001b[0m     tokens \u001b[39m=\u001b[39m torch\u001b[39m.\u001b[39mcat((tokens, cum_freq \u001b[39m/\u001b[39m (torch\u001b[39m.\u001b[39msum(cum_freq) \u001b[39m+\u001b[39m \u001b[39m1e-7\u001b[39m)), \u001b[39m0\u001b[39m) \n\u001b[1;32m     68\u001b[0m \u001b[39mreturn\u001b[39;00m labels, tokens\n",
      "File \u001b[0;32m/Library/Frameworks/Python.framework/Versions/3.9/lib/python3.9/site-packages/torch/_tensor.py:778\u001b[0m, in \u001b[0;36mTensor.resize\u001b[0;34m(self, *sizes)\u001b[0m\n\u001b[1;32m    775\u001b[0m warnings\u001b[39m.\u001b[39mwarn(\u001b[39m\"\u001b[39m\u001b[39mnon-inplace resize is deprecated\u001b[39m\u001b[39m\"\u001b[39m)\n\u001b[1;32m    776\u001b[0m \u001b[39mfrom\u001b[39;00m \u001b[39mtorch\u001b[39;00m\u001b[39m.\u001b[39;00m\u001b[39mautograd\u001b[39;00m\u001b[39m.\u001b[39;00m\u001b[39m_functions\u001b[39;00m \u001b[39mimport\u001b[39;00m Resize\n\u001b[0;32m--> 778\u001b[0m \u001b[39mreturn\u001b[39;00m Resize\u001b[39m.\u001b[39;49mapply(\u001b[39mself\u001b[39;49m, sizes)\n",
      "File \u001b[0;32m/Library/Frameworks/Python.framework/Versions/3.9/lib/python3.9/site-packages/torch/autograd/function.py:505\u001b[0m, in \u001b[0;36mFunction.apply\u001b[0;34m(cls, *args, **kwargs)\u001b[0m\n\u001b[1;32m    501\u001b[0m \u001b[39m@classmethod\u001b[39m\n\u001b[1;32m    502\u001b[0m \u001b[39mdef\u001b[39;00m \u001b[39mapply\u001b[39m(\u001b[39mcls\u001b[39m, \u001b[39m*\u001b[39margs, \u001b[39m*\u001b[39m\u001b[39m*\u001b[39mkwargs):\n\u001b[1;32m    503\u001b[0m     \u001b[39mif\u001b[39;00m \u001b[39mnot\u001b[39;00m torch\u001b[39m.\u001b[39m_C\u001b[39m.\u001b[39m_are_functorch_transforms_active():\n\u001b[1;32m    504\u001b[0m         \u001b[39m# See NOTE: [functorch vjp and autograd interaction]\u001b[39;00m\n\u001b[0;32m--> 505\u001b[0m         args \u001b[39m=\u001b[39m _functorch\u001b[39m.\u001b[39;49mutils\u001b[39m.\u001b[39;49munwrap_dead_wrappers(args)\n\u001b[1;32m    506\u001b[0m         \u001b[39mreturn\u001b[39;00m \u001b[39msuper\u001b[39m()\u001b[39m.\u001b[39mapply(\u001b[39m*\u001b[39margs, \u001b[39m*\u001b[39m\u001b[39m*\u001b[39mkwargs)  \u001b[39m# type: ignore[misc]\u001b[39;00m\n\u001b[1;32m    508\u001b[0m     \u001b[39mif\u001b[39;00m \u001b[39mcls\u001b[39m\u001b[39m.\u001b[39msetup_context \u001b[39m==\u001b[39m _SingleLevelFunction\u001b[39m.\u001b[39msetup_context:\n",
      "File \u001b[0;32m/Library/Frameworks/Python.framework/Versions/3.9/lib/python3.9/site-packages/torch/_functorch/utils.py:20\u001b[0m, in \u001b[0;36munwrap_dead_wrappers\u001b[0;34m(args)\u001b[0m\n\u001b[1;32m     18\u001b[0m \u001b[39mdef\u001b[39;00m \u001b[39munwrap_dead_wrappers\u001b[39m(args):\n\u001b[1;32m     19\u001b[0m     \u001b[39m# NB: doesn't use tree_map_only for performance reasons\u001b[39;00m\n\u001b[0;32m---> 20\u001b[0m     result \u001b[39m=\u001b[39m \u001b[39mtuple\u001b[39;49m(\n\u001b[1;32m     21\u001b[0m         unwrap_if_dead(arg) \u001b[39mif\u001b[39;49;00m \u001b[39misinstance\u001b[39;49m(arg, torch\u001b[39m.\u001b[39;49mTensor) \u001b[39melse\u001b[39;49;00m arg\n\u001b[1;32m     22\u001b[0m         \u001b[39mfor\u001b[39;49;00m arg \u001b[39min\u001b[39;49;00m args\n\u001b[1;32m     23\u001b[0m     )\n\u001b[1;32m     24\u001b[0m     \u001b[39mreturn\u001b[39;00m result\n",
      "File \u001b[0;32m/Library/Frameworks/Python.framework/Versions/3.9/lib/python3.9/site-packages/torch/_functorch/utils.py:21\u001b[0m, in \u001b[0;36m<genexpr>\u001b[0;34m(.0)\u001b[0m\n\u001b[1;32m     18\u001b[0m \u001b[39mdef\u001b[39;00m \u001b[39munwrap_dead_wrappers\u001b[39m(args):\n\u001b[1;32m     19\u001b[0m     \u001b[39m# NB: doesn't use tree_map_only for performance reasons\u001b[39;00m\n\u001b[1;32m     20\u001b[0m     result \u001b[39m=\u001b[39m \u001b[39mtuple\u001b[39m(\n\u001b[0;32m---> 21\u001b[0m         unwrap_if_dead(arg) \u001b[39mif\u001b[39;00m \u001b[39misinstance\u001b[39m(arg, torch\u001b[39m.\u001b[39mTensor) \u001b[39melse\u001b[39;00m arg\n\u001b[1;32m     22\u001b[0m         \u001b[39mfor\u001b[39;00m arg \u001b[39min\u001b[39;00m args\n\u001b[1;32m     23\u001b[0m     )\n\u001b[1;32m     24\u001b[0m     \u001b[39mreturn\u001b[39;00m result\n",
      "\u001b[0;31mKeyboardInterrupt\u001b[0m: "
     ]
    }
   ],
   "source": [
    "import numpy as np\n",
    "EPOCHS = 15\n",
    "loss_function = torch.nn.BCELoss()\n",
    "optimizer = torch.optim.Adam(model.parameters(), lr=0.01)\n",
    "\n",
    "best_model = None\n",
    "best_val_loss = float('inf')\n",
    "val_losses = []\n",
    "for epoch in range(1, EPOCHS + 1):\n",
    "    epoch_start_time = time.time()\n",
    "    model_helpers.train_an_epoch(model, train_dataloader, optimizer, loss_function)\n",
    "    val_y_true, val_y_pred = model_helpers.make_predictions(model, valid_dataloader)\n",
    "    val_loss = log_loss(val_y_true.astype(np.float64), val_y_pred.astype(np.float64))\n",
    "    if val_loss < best_val_loss:\n",
    "        best_model = type(model)(model.vocab_size, model.hidden_dim, model.output_dim) # get a new instance\n",
    "        best_model.load_state_dict(model.state_dict())\n",
    "        best_val_loss = val_loss\n",
    "    val_losses.append(val_loss)\n",
    "    time_taken = time.time() - epoch_start_time\n",
    "    print(f'After epoch {epoch} the validation loss is {val_loss:.3f}.')\n",
    "    \n",
    "plt.plot(range(1, EPOCHS+1), val_losses)"
   ]
  },
  {
   "cell_type": "code",
   "execution_count": null,
   "metadata": {},
   "outputs": [
    {
     "name": "stdout",
     "output_type": "stream",
     "text": [
      "Best Threshold=0.653559, G-Mean=0.708\n"
     ]
    },
    {
     "data": {
      "image/png": "[encoded data removed]",
      "text/plain": [
       "<Figure size 432x288 with 1 Axes>"
      ]
     },
     "metadata": {
      "needs_background": "light"
     },
     "output_type": "display_data"
    }
   ],
   "source": [
    "# Get validation predictions to select best threshold\n",
    "val_labels, val_probs = model_helpers.make_predictions(model, valid_dataloader)\n",
    "# Get best threshold from validation data\n",
    "threshold = model_helpers.select_threshold(val_labels, val_probs)"
   ]
  },
  {
   "attachments": {},
   "cell_type": "markdown",
   "metadata": {},
   "source": [
    "### Evaluation"
   ]
  },
  {
   "cell_type": "code",
   "execution_count": null,
   "metadata": {},
   "outputs": [
    {
     "data": {
      "text/html": [
       "<div>\n",
       "<style scoped>\n",
       "    .dataframe tbody tr th:only-of-type {\n",
       "        vertical-align: middle;\n",
       "    }\n",
       "\n",
       "    .dataframe tbody tr th {\n",
       "        vertical-align: top;\n",
       "    }\n",
       "\n",
       "    .dataframe thead th {\n",
       "        text-align: right;\n",
       "    }\n",
       "</style>\n",
       "<table border=\"1\" class=\"dataframe\">\n",
       "  <thead>\n",
       "    <tr style=\"text-align: right;\">\n",
       "      <th></th>\n",
       "      <th>case_id</th>\n",
       "      <th>win_side</th>\n",
       "      <th>labels</th>\n",
       "      <th>prob</th>\n",
       "    </tr>\n",
       "  </thead>\n",
       "  <tbody>\n",
       "    <tr>\n",
       "      <th>2352</th>\n",
       "      <td>2014_13-894</td>\n",
       "      <td>0.0</td>\n",
       "      <td>0.0</td>\n",
       "      <td>0.353726</td>\n",
       "    </tr>\n",
       "    <tr>\n",
       "      <th>2353</th>\n",
       "      <td>2014_13-894</td>\n",
       "      <td>0.0</td>\n",
       "      <td>0.0</td>\n",
       "      <td>0.798379</td>\n",
       "    </tr>\n",
       "    <tr>\n",
       "      <th>2354</th>\n",
       "      <td>2014_13-894</td>\n",
       "      <td>0.0</td>\n",
       "      <td>0.0</td>\n",
       "      <td>0.777325</td>\n",
       "    </tr>\n",
       "    <tr>\n",
       "      <th>2355</th>\n",
       "      <td>2014_13-894</td>\n",
       "      <td>0.0</td>\n",
       "      <td>0.0</td>\n",
       "      <td>0.966327</td>\n",
       "    </tr>\n",
       "    <tr>\n",
       "      <th>2356</th>\n",
       "      <td>2014_13-894</td>\n",
       "      <td>0.0</td>\n",
       "      <td>0.0</td>\n",
       "      <td>0.730220</td>\n",
       "    </tr>\n",
       "  </tbody>\n",
       "</table>\n",
       "</div>"
      ],
      "text/plain": [
       "          case_id  win_side  labels      prob\n",
       "2352  2014_13-894       0.0     0.0  0.353726\n",
       "2353  2014_13-894       0.0     0.0  0.798379\n",
       "2354  2014_13-894       0.0     0.0  0.777325\n",
       "2355  2014_13-894       0.0     0.0  0.966327\n",
       "2356  2014_13-894       0.0     0.0  0.730220"
      ]
     },
     "execution_count": 14,
     "metadata": {},
     "output_type": "execute_result"
    }
   ],
   "source": [
    "# Get dataframe with predictions and real values\n",
    "test_results_df = model_helpers.get_test_results_df(best_model, test_dataloader, test_df[['case_id', 'win_side']])\n",
    "test_results_df.head()"
   ]
  },
  {
   "cell_type": "code",
   "execution_count": null,
   "metadata": {},
   "outputs": [
    {
     "data": {
      "text/plain": [
       "1    8978\n",
       "0    6689\n",
       "Name: pred, dtype: int64"
      ]
     },
     "metadata": {},
     "output_type": "display_data"
    },
    {
     "data": {
      "text/plain": [
       "1.0    9666\n",
       "0.0    6001\n",
       "Name: win_side, dtype: int64"
      ]
     },
     "execution_count": 15,
     "metadata": {},
     "output_type": "execute_result"
    }
   ],
   "source": [
    "# Results dataframe per utterance\n",
    "per_utterance_df = (test_results_df\n",
    "                    .assign(pred=lambda x: x['prob']\n",
    "                    .apply(lambda y: 1 if y > threshold else 0)))\n",
    "\n",
    "# petitioner 1, respondent 0\n",
    "display(per_utterance_df.pred.value_counts())\n",
    "per_utterance_df.win_side.value_counts()"
   ]
  },
  {
   "cell_type": "code",
   "execution_count": null,
   "metadata": {},
   "outputs": [
    {
     "data": {
      "text/plain": [
       "1    39\n",
       "0    24\n",
       "Name: pred, dtype: int64"
      ]
     },
     "metadata": {},
     "output_type": "display_data"
    },
    {
     "data": {
      "text/plain": [
       "1.0    38\n",
       "0.0    25\n",
       "Name: win_side, dtype: int64"
      ]
     },
     "execution_count": 16,
     "metadata": {},
     "output_type": "execute_result"
    }
   ],
   "source": [
    "# Results dataframe per case\n",
    "per_case_df = (test_results_df\n",
    "                .groupby('case_id')\n",
    "                .mean()\n",
    "                .assign(pred=lambda x: x['prob']\n",
    "                .apply(lambda y: 1 if y > threshold else 0)))\n",
    "\n",
    "# petitioner 1, respondent 0\n",
    "display(per_case_df.pred.value_counts())\n",
    "per_case_df.win_side.value_counts()"
   ]
  },
  {
   "cell_type": "code",
   "execution_count": null,
   "metadata": {},
   "outputs": [
    {
     "data": {
      "image/png": "[encoded data removed]",
      "text/plain": [
       "<Figure size 432x432 with 2 Axes>"
      ]
     },
     "metadata": {
      "needs_background": "light"
     },
     "output_type": "display_data"
    }
   ],
   "source": [
    "# Confusion matrix by case\n",
    "model_helpers.results_heatmap(per_case_df['win_side'],\n",
    "                per_case_df['pred'],\n",
    "                'Confusion Matrix by Case',\n",
    "                target_names = ['respondent', 'petitioner'])"
   ]
  },
  {
   "cell_type": "code",
   "execution_count": null,
   "metadata": {},
   "outputs": [
    {
     "data": {
      "image/png": "[encoded data removed]",
      "text/plain": [
       "<Figure size 432x432 with 2 Axes>"
      ]
     },
     "metadata": {
      "needs_background": "light"
     },
     "output_type": "display_data"
    }
   ],
   "source": [
    "# Confusion matrix by utterance\n",
    "model_helpers.results_heatmap(per_utterance_df['win_side'],\n",
    "                per_utterance_df['pred'],\n",
    "                'Confusion Matrix by Utterance',\n",
    "                target_names = ['respondent', 'petitioner'])"
   ]
  }
 ],
 "metadata": {
  "kernelspec": {
   "display_name": "Python 3.9.16 64-bit",
   "language": "python",
   "name": "python3"
  },
  "language_info": {
   "codemirror_mode": {
    "name": "ipython",
    "version": 3
   },
   "file_extension": ".py",
   "mimetype": "text/x-python",
   "name": "python",
   "nbconvert_exporter": "python",
   "pygments_lexer": "ipython3",
   "version": "3.9.10"
  },
  "orig_nbformat": 4,
  "vscode": {
   "interpreter": {
    "hash": "949777d72b0d2535278d3dc13498b2535136f6dfe0678499012e853ee9abcab1"
   }
  }
 },
 "nbformat": 4,
 "nbformat_minor": 2
}
