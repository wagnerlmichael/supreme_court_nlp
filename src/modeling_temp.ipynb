{
 "cells": [
  {
   "cell_type": "code",
   "execution_count": 1,
   "metadata": {},
   "outputs": [],
   "source": [
    "import os\n",
    "import time\n",
    "import torch\n",
    "import subprocess as sp\n",
    "import pandas as pd\n",
    "import matplotlib.pyplot as plt\n",
    "from sklearn.model_selection import train_test_split\n",
    "from torch.utils.data import Dataset, DataLoader, random_split\n",
    "\n",
    "%matplotlib inline"
   ]
  },
  {
   "cell_type": "code",
   "execution_count": 2,
   "metadata": {},
   "outputs": [
    {
     "name": "stderr",
     "output_type": "stream",
     "text": [
      "[nltk_data] Downloading package punkt to\n",
      "[nltk_data]     /Users/michaelwagner/nltk_data...\n",
      "[nltk_data]   Package punkt is already up-to-date!\n"
     ]
    }
   ],
   "source": [
    "base_path = sp.getoutput('git rev-parse --show-toplevel')\n",
    "os.chdir(base_path)\n",
    "\n",
    "from src import embed, pred_models, model_helpers"
   ]
  },
  {
   "attachments": {},
   "cell_type": "markdown",
   "metadata": {},
   "source": [
    "### Data Preparation"
   ]
  },
  {
   "cell_type": "code",
   "execution_count": 3,
   "metadata": {},
   "outputs": [
    {
     "name": "stderr",
     "output_type": "stream",
     "text": [
      "/var/folders/qv/vr4x2m4s0m53q79m582_pwt00000gn/T/ipykernel_75187/2014623051.py:4: DtypeWarning: Columns (17,60,62) have mixed types. Specify dtype option on import or set low_memory=False.\n",
      "  df_raw = pd.read_csv(os.path.join(base_path, data_dir, file))\n"
     ]
    }
   ],
   "source": [
    "# Load data\n",
    "data_dir = 'data'\n",
    "file = 'utterances_clean2014-2018.csv'\n",
    "df_raw = pd.read_csv(os.path.join(base_path, data_dir, file))"
   ]
  },
  {
   "cell_type": "code",
   "execution_count": 4,
   "metadata": {},
   "outputs": [
    {
     "data": {
      "text/html": [
       "<div>\n",
       "<style scoped>\n",
       "    .dataframe tbody tr th:only-of-type {\n",
       "        vertical-align: middle;\n",
       "    }\n",
       "\n",
       "    .dataframe tbody tr th {\n",
       "        vertical-align: top;\n",
       "    }\n",
       "\n",
       "    .dataframe thead th {\n",
       "        text-align: right;\n",
       "    }\n",
       "</style>\n",
       "<table border=\"1\" class=\"dataframe\">\n",
       "  <thead>\n",
       "    <tr style=\"text-align: right;\">\n",
       "      <th></th>\n",
       "      <th>text</th>\n",
       "      <th>win_side</th>\n",
       "      <th>case_id</th>\n",
       "    </tr>\n",
       "  </thead>\n",
       "  <tbody>\n",
       "    <tr>\n",
       "      <th>0</th>\n",
       "      <td>We'll hear argument next in Case No. 13-553, t...</td>\n",
       "      <td>1.0</td>\n",
       "      <td>2014_13-553</td>\n",
       "    </tr>\n",
       "    <tr>\n",
       "      <th>1</th>\n",
       "      <td>Thank you, Mr. Chief Justice, and may it pleas...</td>\n",
       "      <td>1.0</td>\n",
       "      <td>2014_13-553</td>\n",
       "    </tr>\n",
       "    <tr>\n",
       "      <th>2</th>\n",
       "      <td>Well, is said that -- it said that in -- in (b...</td>\n",
       "      <td>1.0</td>\n",
       "      <td>2014_13-553</td>\n",
       "    </tr>\n",
       "    <tr>\n",
       "      <th>3</th>\n",
       "      <td>Right. I -- but I think--</td>\n",
       "      <td>1.0</td>\n",
       "      <td>2014_13-553</td>\n",
       "    </tr>\n",
       "    <tr>\n",
       "      <th>4</th>\n",
       "      <td>Another tax that discriminates is all it says,...</td>\n",
       "      <td>1.0</td>\n",
       "      <td>2014_13-553</td>\n",
       "    </tr>\n",
       "  </tbody>\n",
       "</table>\n",
       "</div>"
      ],
      "text/plain": [
       "                                                text  win_side      case_id\n",
       "0  We'll hear argument next in Case No. 13-553, t...       1.0  2014_13-553\n",
       "1  Thank you, Mr. Chief Justice, and may it pleas...       1.0  2014_13-553\n",
       "2  Well, is said that -- it said that in -- in (b...       1.0  2014_13-553\n",
       "3                          Right. I -- but I think--       1.0  2014_13-553\n",
       "4  Another tax that discriminates is all it says,...       1.0  2014_13-553"
      ]
     },
     "execution_count": 4,
     "metadata": {},
     "output_type": "execute_result"
    }
   ],
   "source": [
    "# Have to do by utterance as grouping by case_id gives too few examples to learn from\n",
    "df = df_raw[['text', 'win_side', 'case_id']]\n",
    "df.head()"
   ]
  },
  {
   "cell_type": "code",
   "execution_count": 5,
   "metadata": {},
   "outputs": [
    {
     "name": "stderr",
     "output_type": "stream",
     "text": [
      "/var/folders/qv/vr4x2m4s0m53q79m582_pwt00000gn/T/ipykernel_75187/1009847024.py:2: SettingWithCopyWarning: \n",
      "A value is trying to be set on a copy of a slice from a DataFrame\n",
      "\n",
      "See the caveats in the documentation: https://pandas.pydata.org/pandas-docs/stable/user_guide/indexing.html#returning-a-view-versus-a-copy\n",
      "  df.dropna(subset=['win_side'], inplace=True)\n"
     ]
    }
   ],
   "source": [
    "# TO DISCUSS\n",
    "df.dropna(subset=['win_side'], inplace=True)\n",
    "df = df[df.win_side != 2]"
   ]
  },
  {
   "cell_type": "code",
   "execution_count": 6,
   "metadata": {},
   "outputs": [],
   "source": [
    "# Split the dataset into training and testing sets\n",
    "#train_df, test_df = train_test_split(df, test_size=0.2, random_state=123)\n",
    "\n",
    "# Assuming you already have a dataframe `df` with a 'case_id' column\n",
    "\n",
    "# Get unique case_ids\n",
    "unique_case_ids = df['case_id'].unique()\n",
    "\n",
    "# Split the unique case_ids into training and testing sets\n",
    "train_case_ids, test_case_ids = train_test_split(unique_case_ids, test_size=0.2, random_state=123)\n",
    "\n",
    "# Filter the original dataframe to create the train and test dataframes using the train and test case_ids\n",
    "train_df = df[df['case_id'].isin(train_case_ids)]\n",
    "test_df = df[df['case_id'].isin(test_case_ids)]\n"
   ]
  },
  {
   "cell_type": "code",
   "execution_count": 13,
   "metadata": {},
   "outputs": [
    {
     "data": {
      "text/plain": [
       "(251,)"
      ]
     },
     "metadata": {},
     "output_type": "display_data"
    },
    {
     "data": {
      "text/plain": [
       "(63,)"
      ]
     },
     "metadata": {},
     "output_type": "display_data"
    }
   ],
   "source": [
    "display(train_case_ids.shape)\n",
    "display(test_case_ids.shape)"
   ]
  },
  {
   "attachments": {},
   "cell_type": "markdown",
   "metadata": {},
   "source": [
    "### BoW Embedding"
   ]
  },
  {
   "cell_type": "code",
   "execution_count": 14,
   "metadata": {},
   "outputs": [
    {
     "data": {
      "text/plain": [
       "7995"
      ]
     },
     "execution_count": 14,
     "metadata": {},
     "output_type": "execute_result"
    }
   ],
   "source": [
    "# Bag of Words\n",
    "vocab = embed.get_vocab(train_df, min_freq=10)\n",
    "vocab_size = len(vocab)\n",
    "vocab_size"
   ]
  },
  {
   "attachments": {},
   "cell_type": "markdown",
   "metadata": {},
   "source": [
    "### Create training, validation, and testing dataloaders"
   ]
  },
  {
   "cell_type": "code",
   "execution_count": 15,
   "metadata": {},
   "outputs": [],
   "source": [
    "BATCH_SIZE = 64\n",
    "\n",
    "train_df = train_df[['text', 'win_side']] # Remove case ID for training\n",
    "train_valid_data = list(train_df.values)\n",
    "num_train = int(len(train_valid_data) * 0.95)\n",
    "num_valid = len(train_valid_data) - num_train\n",
    "train_data, valid_data = random_split(\n",
    "    train_valid_data, [num_train, num_valid])\n",
    "test_data = list(test_df[['text', 'win_side']].values)\n",
    "\n",
    "train_dataloader = DataLoader(train_data, batch_size=BATCH_SIZE,\n",
    "                              shuffle=True, \n",
    "                              collate_fn=lambda batch: embed.collate_into_bow(batch, vocab)) # pass vocab to collate function\n",
    "valid_dataloader = DataLoader(valid_data, batch_size=BATCH_SIZE,\n",
    "                              shuffle=False, \n",
    "                              collate_fn=lambda batch: embed.collate_into_bow(batch, vocab))\n",
    "test_dataloader = DataLoader(test_data, batch_size=BATCH_SIZE,\n",
    "                             shuffle=False, \n",
    "                             collate_fn=lambda batch: embed.collate_into_bow(batch, vocab))"
   ]
  },
  {
   "attachments": {},
   "cell_type": "markdown",
   "metadata": {},
   "source": [
    "### Training"
   ]
  },
  {
   "cell_type": "code",
   "execution_count": 16,
   "metadata": {},
   "outputs": [],
   "source": [
    "# BoW NN Classifier\n",
    "hidden_dim = 300\n",
    "model = pred_models.BoWNNClassifier(vocab_size=vocab_size, hidden_dim=hidden_dim, output_dim=1)"
   ]
  },
  {
   "cell_type": "code",
   "execution_count": 17,
   "metadata": {},
   "outputs": [
    {
     "name": "stderr",
     "output_type": "stream",
     "text": [
      "/usr/local/lib/python3.9/site-packages/torch/_tensor.py:775: UserWarning: non-inplace resize is deprecated\n",
      "  warnings.warn(\"non-inplace resize is deprecated\")\n"
     ]
    },
    {
     "name": "stdout",
     "output_type": "stream",
     "text": [
      "At iteration 200 the loss is 0.611.\n",
      "At iteration 400 the loss is 0.643.\n",
      "At iteration 600 the loss is 0.611.\n",
      "At iteration 800 the loss is 0.518.\n",
      "After epoch 1 the validation accuracy is 0.743.\n",
      "At iteration 200 the loss is 0.503.\n",
      "At iteration 400 the loss is 0.530.\n",
      "At iteration 600 the loss is 0.521.\n",
      "At iteration 800 the loss is 0.447.\n",
      "After epoch 2 the validation accuracy is 0.758.\n",
      "At iteration 200 the loss is 0.433.\n",
      "At iteration 400 the loss is 0.453.\n",
      "At iteration 600 the loss is 0.415.\n",
      "At iteration 800 the loss is 0.389.\n",
      "After epoch 3 the validation accuracy is 0.768.\n",
      "At iteration 200 the loss is 0.457.\n",
      "At iteration 400 the loss is 0.406.\n",
      "At iteration 600 the loss is 0.313.\n",
      "At iteration 800 the loss is 0.308.\n",
      "After epoch 4 the validation accuracy is 0.740.\n",
      "At iteration 200 the loss is 0.237.\n",
      "At iteration 400 the loss is 0.235.\n",
      "At iteration 600 the loss is 0.395.\n",
      "At iteration 800 the loss is 0.397.\n",
      "After epoch 5 the validation accuracy is 0.748.\n",
      "At iteration 200 the loss is 0.415.\n",
      "At iteration 400 the loss is 0.306.\n",
      "At iteration 600 the loss is 0.286.\n",
      "At iteration 800 the loss is 0.264.\n",
      "After epoch 6 the validation accuracy is 0.736.\n",
      "At iteration 200 the loss is 0.266.\n",
      "At iteration 400 the loss is 0.233.\n",
      "At iteration 600 the loss is 0.265.\n",
      "At iteration 800 the loss is 0.223.\n",
      "After epoch 7 the validation accuracy is 0.761.\n",
      "At iteration 200 the loss is 0.170.\n",
      "At iteration 400 the loss is 0.304.\n",
      "At iteration 600 the loss is 0.262.\n",
      "At iteration 800 the loss is 0.224.\n",
      "After epoch 8 the validation accuracy is 0.759.\n",
      "At iteration 200 the loss is 0.107.\n",
      "At iteration 400 the loss is 0.241.\n",
      "At iteration 600 the loss is 0.157.\n",
      "At iteration 800 the loss is 0.196.\n",
      "After epoch 9 the validation accuracy is 0.756.\n",
      "At iteration 200 the loss is 0.190.\n",
      "At iteration 400 the loss is 0.132.\n",
      "At iteration 600 the loss is 0.143.\n",
      "At iteration 800 the loss is 0.102.\n",
      "After epoch 10 the validation accuracy is 0.738.\n",
      "At iteration 200 the loss is 0.182.\n",
      "At iteration 400 the loss is 0.142.\n",
      "At iteration 600 the loss is 0.227.\n",
      "At iteration 800 the loss is 0.164.\n",
      "After epoch 11 the validation accuracy is 0.736.\n",
      "At iteration 200 the loss is 0.085.\n",
      "At iteration 400 the loss is 0.274.\n",
      "At iteration 600 the loss is 0.128.\n",
      "At iteration 800 the loss is 0.125.\n",
      "After epoch 12 the validation accuracy is 0.739.\n",
      "At iteration 200 the loss is 0.181.\n",
      "At iteration 400 the loss is 0.176.\n",
      "At iteration 600 the loss is 0.164.\n",
      "At iteration 800 the loss is 0.160.\n",
      "After epoch 13 the validation accuracy is 0.748.\n",
      "At iteration 200 the loss is 0.128.\n",
      "At iteration 400 the loss is 0.136.\n",
      "At iteration 600 the loss is 0.139.\n",
      "At iteration 800 the loss is 0.133.\n",
      "After epoch 14 the validation accuracy is 0.745.\n",
      "At iteration 200 the loss is 0.135.\n",
      "At iteration 400 the loss is 0.240.\n",
      "At iteration 600 the loss is 0.148.\n",
      "At iteration 800 the loss is 0.240.\n",
      "After epoch 15 the validation accuracy is 0.737.\n"
     ]
    },
    {
     "data": {
      "text/plain": [
       "[<matplotlib.lines.Line2D at 0x14b486190>]"
      ]
     },
     "execution_count": 17,
     "metadata": {},
     "output_type": "execute_result"
    },
    {
     "data": {
      "image/png": "[encoded data removed]",
      "text/plain": [
       "<Figure size 640x480 with 1 Axes>"
      ]
     },
     "metadata": {},
     "output_type": "display_data"
    }
   ],
   "source": [
    "EPOCHS = 15\n",
    "loss_function = torch.nn.BCELoss()\n",
    "optimizer = torch.optim.Adam(model.parameters(), lr=0.01)\n",
    "\n",
    "best_model = None\n",
    "best_acc = 0\n",
    "accuracies=[]\n",
    "for epoch in range(1, EPOCHS + 1):\n",
    "    epoch_start_time = time.time()\n",
    "    model_helpers.train_an_epoch(model, train_dataloader, optimizer, loss_function)\n",
    "    accuracy = model_helpers.get_accuracy(model, valid_dataloader, 0.5)\n",
    "    if accuracy > best_acc:\n",
    "        best_model = type(model)(model.vocab_size, model.hidden_dim, model.output_dim) # get a new instance\n",
    "        best_model.load_state_dict(model.state_dict())\n",
    "    accuracies.append(accuracy)\n",
    "    time_taken = time.time() - epoch_start_time\n",
    "    print(f'After epoch {epoch} the validation accuracy is {accuracy:.3f}.')\n",
    "    \n",
    "plt.plot(range(1, EPOCHS+1), accuracies)"
   ]
  },
  {
   "cell_type": "code",
   "execution_count": 18,
   "metadata": {},
   "outputs": [
    {
     "name": "stderr",
     "output_type": "stream",
     "text": [
      "/usr/local/lib/python3.9/site-packages/torch/_tensor.py:775: UserWarning: non-inplace resize is deprecated\n",
      "  warnings.warn(\"non-inplace resize is deprecated\")\n"
     ]
    },
    {
     "data": {
      "text/html": [
       "<div>\n",
       "<style scoped>\n",
       "    .dataframe tbody tr th:only-of-type {\n",
       "        vertical-align: middle;\n",
       "    }\n",
       "\n",
       "    .dataframe tbody tr th {\n",
       "        vertical-align: top;\n",
       "    }\n",
       "\n",
       "    .dataframe thead th {\n",
       "        text-align: right;\n",
       "    }\n",
       "</style>\n",
       "<table border=\"1\" class=\"dataframe\">\n",
       "  <thead>\n",
       "    <tr style=\"text-align: right;\">\n",
       "      <th></th>\n",
       "      <th>case_id</th>\n",
       "      <th>win_side</th>\n",
       "      <th>labels</th>\n",
       "      <th>prob</th>\n",
       "    </tr>\n",
       "  </thead>\n",
       "  <tbody>\n",
       "    <tr>\n",
       "      <th>2352</th>\n",
       "      <td>2014_13-894</td>\n",
       "      <td>0.0</td>\n",
       "      <td>0.0</td>\n",
       "      <td>0.320468</td>\n",
       "    </tr>\n",
       "    <tr>\n",
       "      <th>2353</th>\n",
       "      <td>2014_13-894</td>\n",
       "      <td>0.0</td>\n",
       "      <td>0.0</td>\n",
       "      <td>0.999956</td>\n",
       "    </tr>\n",
       "    <tr>\n",
       "      <th>2354</th>\n",
       "      <td>2014_13-894</td>\n",
       "      <td>0.0</td>\n",
       "      <td>0.0</td>\n",
       "      <td>0.998743</td>\n",
       "    </tr>\n",
       "    <tr>\n",
       "      <th>2355</th>\n",
       "      <td>2014_13-894</td>\n",
       "      <td>0.0</td>\n",
       "      <td>0.0</td>\n",
       "      <td>1.000000</td>\n",
       "    </tr>\n",
       "    <tr>\n",
       "      <th>2356</th>\n",
       "      <td>2014_13-894</td>\n",
       "      <td>0.0</td>\n",
       "      <td>0.0</td>\n",
       "      <td>0.999989</td>\n",
       "    </tr>\n",
       "  </tbody>\n",
       "</table>\n",
       "</div>"
      ],
      "text/plain": [
       "          case_id  win_side  labels      prob\n",
       "2352  2014_13-894       0.0     0.0  0.320468\n",
       "2353  2014_13-894       0.0     0.0  0.999956\n",
       "2354  2014_13-894       0.0     0.0  0.998743\n",
       "2355  2014_13-894       0.0     0.0  1.000000\n",
       "2356  2014_13-894       0.0     0.0  0.999989"
      ]
     },
     "execution_count": 18,
     "metadata": {},
     "output_type": "execute_result"
    }
   ],
   "source": [
    "test_results_df = model_helpers.get_test_results_df(best_model, test_dataloader, test_df[['case_id', 'win_side']])\n",
    "test_results_df.head()"
   ]
  },
  {
   "cell_type": "markdown",
   "metadata": {},
   "source": [
    "### Exploring results w confusion matrix"
   ]
  },
  {
   "cell_type": "code",
   "execution_count": 19,
   "metadata": {},
   "outputs": [
    {
     "data": {
      "text/plain": [
       "pred\n",
       "1    11387\n",
       "0     4280\n",
       "Name: count, dtype: int64"
      ]
     },
     "metadata": {},
     "output_type": "display_data"
    },
    {
     "data": {
      "text/plain": [
       "win_side\n",
       "1.0    9666\n",
       "0.0    6001\n",
       "Name: count, dtype: int64"
      ]
     },
     "execution_count": 19,
     "metadata": {},
     "output_type": "execute_result"
    }
   ],
   "source": [
    "per_utterance_df = (test_results_df\n",
    "                    .assign(pred=lambda x: x['prob']\n",
    "                    .apply(lambda y: 1 if y > 0.5 else 0)))\n",
    "\n",
    "# petitioner 1, respondent 0\n",
    "display(per_utterance_df.pred.value_counts())\n",
    "per_utterance_df.win_side.value_counts()"
   ]
  },
  {
   "cell_type": "code",
   "execution_count": 20,
   "metadata": {},
   "outputs": [
    {
     "data": {
      "text/plain": [
       "pred\n",
       "1    63\n",
       "Name: count, dtype: int64"
      ]
     },
     "metadata": {},
     "output_type": "display_data"
    },
    {
     "data": {
      "text/plain": [
       "win_side\n",
       "1.0    38\n",
       "0.0    25\n",
       "Name: count, dtype: int64"
      ]
     },
     "execution_count": 20,
     "metadata": {},
     "output_type": "execute_result"
    }
   ],
   "source": [
    "per_case_df = (test_results_df\n",
    "                .groupby('case_id')\n",
    "                .mean()\n",
    "                .assign(pred=lambda x: x['prob']\n",
    "                .apply(lambda y: 1 if y > 0.5 else 0)))\n",
    "\n",
    "# petitioner 1, respondent 0\n",
    "display(per_case_df.pred.value_counts())\n",
    "per_case_df.win_side.value_counts()"
   ]
  },
  {
   "cell_type": "code",
   "execution_count": 21,
   "metadata": {},
   "outputs": [],
   "source": [
    "from sklearn.metrics import confusion_matrix, accuracy_score\n",
    "import seaborn as sns\n",
    "\n",
    "def results_heatmap(y_pred, y_test, title, target_names = []):\n",
    "    \"\"\"\n",
    "    inputs: y_test, y_pred, plot title\n",
    "    output: heatmap of confusion matrix results\n",
    "    \"\"\"\n",
    "\n",
    "    target_names = target_names\n",
    "    #cm = confusion_matrix(y_pred, y_test, normalize='all')\n",
    "    cm = confusion_matrix(y_pred, y_test)\n",
    "    # Normalise by row\n",
    "    #cmn = cm.astype('float') / cm.sum(axis=1)[:, np.newaxis]\n",
    "    fig, ax = plt.subplots(figsize=(6,6))\n",
    "    sns.heatmap(cm, annot=True, cmap='crest', fmt='.0f', xticklabels=target_names, yticklabels=target_names)\n",
    "    ax.set_title(title + f'\\nAccuracy: {round(accuracy_score(y_pred,y_test), 4)}', fontsize=12)\n",
    "    plt.ylabel('Predicted')\n",
    "    plt.xlabel('Actual Value')\n",
    "    plt.yticks(rotation=0)\n",
    "    plt.show(block=False)\n"
   ]
  },
  {
   "cell_type": "code",
   "execution_count": 22,
   "metadata": {},
   "outputs": [
    {
     "data": {
      "image/png": "[encoded data removed]",
      "text/plain": [
       "<Figure size 600x600 with 2 Axes>"
      ]
     },
     "metadata": {},
     "output_type": "display_data"
    }
   ],
   "source": [
    "results_heatmap(per_case_df['pred'],\n",
    "                per_case_df['win_side'],\n",
    "                'Aggregate Cases, threshold 0.5',\n",
    "                target_names = ['respondent', 'petitioner'])"
   ]
  },
  {
   "cell_type": "code",
   "execution_count": 23,
   "metadata": {},
   "outputs": [
    {
     "data": {
      "image/png": "[encoded data removed]",
      "text/plain": [
       "<Figure size 600x600 with 2 Axes>"
      ]
     },
     "metadata": {},
     "output_type": "display_data"
    }
   ],
   "source": [
    "results_heatmap(per_utterance_df['pred'],\n",
    "                per_utterance_df['win_side'],\n",
    "                'Per Utterance, threshold 0.5',\n",
    "                target_names = ['respondent', 'petitioner'])"
   ]
  }
 ],
 "metadata": {
  "kernelspec": {
   "display_name": "Python 3.9.16 64-bit",
   "language": "python",
   "name": "python3"
  },
  "language_info": {
   "codemirror_mode": {
    "name": "ipython",
    "version": 3
   },
   "file_extension": ".py",
   "mimetype": "text/x-python",
   "name": "python",
   "nbconvert_exporter": "python",
   "pygments_lexer": "ipython3",
   "version": "3.9.16"
  },
  "orig_nbformat": 4,
  "vscode": {
   "interpreter": {
    "hash": "949777d72b0d2535278d3dc13498b2535136f6dfe0678499012e853ee9abcab1"
   }
  }
 },
 "nbformat": 4,
 "nbformat_minor": 2
}
