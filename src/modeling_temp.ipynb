{
 "cells": [
  {
   "cell_type": "code",
   "execution_count": 13,
   "metadata": {},
   "outputs": [],
   "source": [
    "import os\n",
    "import time\n",
    "import torch\n",
    "import subprocess as sp\n",
    "import pandas as pd\n",
    "import matplotlib.pyplot as plt\n",
    "from sklearn.model_selection import train_test_split\n",
    "from torch.utils.data import Dataset, DataLoader, random_split\n",
    "\n",
    "%matplotlib inline"
   ]
  },
  {
   "cell_type": "code",
   "execution_count": 14,
   "metadata": {},
   "outputs": [],
   "source": [
    "base_path = sp.getoutput('git rev-parse --show-toplevel')\n",
    "os.chdir(base_path)\n",
    "\n",
    "from src import embed, pred_models, model_helpers"
   ]
  },
  {
   "attachments": {},
   "cell_type": "markdown",
   "metadata": {},
   "source": [
    "### Data Preparation"
   ]
  },
  {
   "cell_type": "code",
   "execution_count": 15,
   "metadata": {},
   "outputs": [
    {
     "name": "stderr",
     "output_type": "stream",
     "text": [
      "/var/folders/1r/lbtr12kn1_x17pfbmlxcjxf40000gn/T/ipykernel_41837/2014623051.py:4: DtypeWarning: Columns (17,60,62) have mixed types. Specify dtype option on import or set low_memory=False.\n",
      "  df_raw = pd.read_csv(os.path.join(base_path, data_dir, file))\n"
     ]
    }
   ],
   "source": [
    "# Load data\n",
    "data_dir = 'data'\n",
    "file = 'utterances_clean2014-2018.csv'\n",
    "df_raw = pd.read_csv(os.path.join(base_path, data_dir, file))"
   ]
  },
  {
   "cell_type": "code",
   "execution_count": 16,
   "metadata": {},
   "outputs": [
    {
     "data": {
      "text/html": [
       "<div>\n",
       "<style scoped>\n",
       "    .dataframe tbody tr th:only-of-type {\n",
       "        vertical-align: middle;\n",
       "    }\n",
       "\n",
       "    .dataframe tbody tr th {\n",
       "        vertical-align: top;\n",
       "    }\n",
       "\n",
       "    .dataframe thead th {\n",
       "        text-align: right;\n",
       "    }\n",
       "</style>\n",
       "<table border=\"1\" class=\"dataframe\">\n",
       "  <thead>\n",
       "    <tr style=\"text-align: right;\">\n",
       "      <th></th>\n",
       "      <th>text</th>\n",
       "      <th>win_side</th>\n",
       "    </tr>\n",
       "  </thead>\n",
       "  <tbody>\n",
       "    <tr>\n",
       "      <th>0</th>\n",
       "      <td>We will hear argument first this morning in Ca...</td>\n",
       "      <td>1.0</td>\n",
       "    </tr>\n",
       "    <tr>\n",
       "      <th>1</th>\n",
       "      <td>We'll hear argument next in Case 12-1497, Kell...</td>\n",
       "      <td>1.0</td>\n",
       "    </tr>\n",
       "    <tr>\n",
       "      <th>2</th>\n",
       "      <td>We will hear argument next in Case 131010, M&amp;G...</td>\n",
       "      <td>1.0</td>\n",
       "    </tr>\n",
       "    <tr>\n",
       "      <th>3</th>\n",
       "      <td>We'll hear argument first this morning in Case...</td>\n",
       "      <td>1.0</td>\n",
       "    </tr>\n",
       "    <tr>\n",
       "      <th>4</th>\n",
       "      <td>We will hear argument first this morning in Ca...</td>\n",
       "      <td>1.0</td>\n",
       "    </tr>\n",
       "  </tbody>\n",
       "</table>\n",
       "</div>"
      ],
      "text/plain": [
       "                                                text  win_side\n",
       "0  We will hear argument first this morning in Ca...       1.0\n",
       "1  We'll hear argument next in Case 12-1497, Kell...       1.0\n",
       "2  We will hear argument next in Case 131010, M&G...       1.0\n",
       "3  We'll hear argument first this morning in Case...       1.0\n",
       "4  We will hear argument first this morning in Ca...       1.0"
      ]
     },
     "execution_count": 16,
     "metadata": {},
     "output_type": "execute_result"
    }
   ],
   "source": [
    "# OPTION 1\n",
    "# In the context of pandas' groupby and agg methods, \n",
    "# 'first' is an aggregation function that returns the \n",
    "# first non-null value in each group of values.\n",
    "df = (df_raw.groupby('case_id')\n",
    "        .agg({'text': ' '.join, 'win_side': 'first'})\n",
    "        .reset_index()\n",
    "        .drop(['case_id'], axis=1))\n",
    "\n",
    "df.head()"
   ]
  },
  {
   "cell_type": "code",
   "execution_count": 17,
   "metadata": {},
   "outputs": [
    {
     "data": {
      "text/html": [
       "<div>\n",
       "<style scoped>\n",
       "    .dataframe tbody tr th:only-of-type {\n",
       "        vertical-align: middle;\n",
       "    }\n",
       "\n",
       "    .dataframe tbody tr th {\n",
       "        vertical-align: top;\n",
       "    }\n",
       "\n",
       "    .dataframe thead th {\n",
       "        text-align: right;\n",
       "    }\n",
       "</style>\n",
       "<table border=\"1\" class=\"dataframe\">\n",
       "  <thead>\n",
       "    <tr style=\"text-align: right;\">\n",
       "      <th></th>\n",
       "      <th>text</th>\n",
       "      <th>win_side</th>\n",
       "    </tr>\n",
       "  </thead>\n",
       "  <tbody>\n",
       "    <tr>\n",
       "      <th>0</th>\n",
       "      <td>We'll hear argument next in Case No. 13-553, t...</td>\n",
       "      <td>1.0</td>\n",
       "    </tr>\n",
       "    <tr>\n",
       "      <th>1</th>\n",
       "      <td>Thank you, Mr. Chief Justice, and may it pleas...</td>\n",
       "      <td>1.0</td>\n",
       "    </tr>\n",
       "    <tr>\n",
       "      <th>2</th>\n",
       "      <td>Well, is said that -- it said that in -- in (b...</td>\n",
       "      <td>1.0</td>\n",
       "    </tr>\n",
       "    <tr>\n",
       "      <th>3</th>\n",
       "      <td>Right. I -- but I think--</td>\n",
       "      <td>1.0</td>\n",
       "    </tr>\n",
       "    <tr>\n",
       "      <th>4</th>\n",
       "      <td>Another tax that discriminates is all it says,...</td>\n",
       "      <td>1.0</td>\n",
       "    </tr>\n",
       "  </tbody>\n",
       "</table>\n",
       "</div>"
      ],
      "text/plain": [
       "                                                text  win_side\n",
       "0  We'll hear argument next in Case No. 13-553, t...       1.0\n",
       "1  Thank you, Mr. Chief Justice, and may it pleas...       1.0\n",
       "2  Well, is said that -- it said that in -- in (b...       1.0\n",
       "3                          Right. I -- but I think--       1.0\n",
       "4  Another tax that discriminates is all it says,...       1.0"
      ]
     },
     "execution_count": 17,
     "metadata": {},
     "output_type": "execute_result"
    }
   ],
   "source": [
    "# OPTION 2\n",
    "df = df_raw[['text', 'win_side']]\n",
    "df.head()"
   ]
  },
  {
   "cell_type": "code",
   "execution_count": 18,
   "metadata": {},
   "outputs": [
    {
     "name": "stderr",
     "output_type": "stream",
     "text": [
      "/var/folders/1r/lbtr12kn1_x17pfbmlxcjxf40000gn/T/ipykernel_41837/1009847024.py:2: SettingWithCopyWarning: \n",
      "A value is trying to be set on a copy of a slice from a DataFrame\n",
      "\n",
      "See the caveats in the documentation: https://pandas.pydata.org/pandas-docs/stable/user_guide/indexing.html#returning-a-view-versus-a-copy\n",
      "  df.dropna(subset=['win_side'], inplace=True)\n"
     ]
    }
   ],
   "source": [
    "# TO DISCUSS\n",
    "df.dropna(subset=['win_side'], inplace=True)\n",
    "df = df[df.win_side != 2]"
   ]
  },
  {
   "cell_type": "code",
   "execution_count": 19,
   "metadata": {},
   "outputs": [],
   "source": [
    "# Split the dataset into training and testing sets\n",
    "train_df, test_df = train_test_split(df, test_size=0.2, random_state=123)"
   ]
  },
  {
   "attachments": {},
   "cell_type": "markdown",
   "metadata": {},
   "source": [
    "### BoW Embedding"
   ]
  },
  {
   "cell_type": "code",
   "execution_count": 20,
   "metadata": {},
   "outputs": [
    {
     "data": {
      "text/plain": [
       "8155"
      ]
     },
     "execution_count": 20,
     "metadata": {},
     "output_type": "execute_result"
    }
   ],
   "source": [
    "# Bag of Words\n",
    "vocab = embed.get_vocab(train_df, min_freq=10)\n",
    "vocab_size = len(vocab)\n",
    "vocab_size"
   ]
  },
  {
   "attachments": {},
   "cell_type": "markdown",
   "metadata": {},
   "source": [
    "### Create training, validation, and testing dataloaders"
   ]
  },
  {
   "cell_type": "code",
   "execution_count": 21,
   "metadata": {},
   "outputs": [],
   "source": [
    "BATCH_SIZE = 64\n",
    "\n",
    "train_valid_data = list(train_df.values)\n",
    "num_train = int(len(train_valid_data) * 0.95)\n",
    "num_valid = len(train_valid_data) - num_train\n",
    "train_data, valid_data = random_split(\n",
    "    train_valid_data, [num_train, num_valid])\n",
    "test_data, _ = random_split(list(test_df.values), [len(test_df), 0])\n",
    "\n",
    "train_dataloader = DataLoader(train_data, batch_size=BATCH_SIZE,\n",
    "                              shuffle=True, \n",
    "                              collate_fn=lambda batch: embed.collate_into_bow(batch, vocab)) # pass vocab to collate function\n",
    "valid_dataloader = DataLoader(valid_data, batch_size=BATCH_SIZE,\n",
    "                              shuffle=False, \n",
    "                              collate_fn=lambda batch: embed.collate_into_bow(batch, vocab))\n",
    "test_dataloader = DataLoader(test_data, batch_size=BATCH_SIZE,\n",
    "                             shuffle=False, \n",
    "                             collate_fn=lambda batch: embed.collate_into_bow(batch, vocab))"
   ]
  },
  {
   "attachments": {},
   "cell_type": "markdown",
   "metadata": {},
   "source": [
    "### Training"
   ]
  },
  {
   "cell_type": "code",
   "execution_count": 22,
   "metadata": {},
   "outputs": [],
   "source": [
    "# BoW NN Classifier\n",
    "hidden_dim = 300\n",
    "model = pred_models.BoWNNClassifier(vocab_size=vocab_size, hidden_dim=hidden_dim, output_dim=1)"
   ]
  },
  {
   "cell_type": "code",
   "execution_count": 23,
   "metadata": {},
   "outputs": [
    {
     "name": "stderr",
     "output_type": "stream",
     "text": [
      "/Library/Frameworks/Python.framework/Versions/3.9/lib/python3.9/site-packages/torch/_tensor.py:775: UserWarning: non-inplace resize is deprecated\n",
      "  warnings.warn(\"non-inplace resize is deprecated\")\n"
     ]
    },
    {
     "name": "stdout",
     "output_type": "stream",
     "text": [
      "At iteration 200 the loss is 0.680.\n",
      "At iteration 400 the loss is 0.589.\n",
      "At iteration 600 the loss is 0.551.\n",
      "At iteration 800 the loss is 0.602.\n",
      "After epoch 1 the validation accuracy is 0.723.\n",
      "At iteration 200 the loss is 0.553.\n",
      "At iteration 400 the loss is 0.470.\n",
      "At iteration 600 the loss is 0.541.\n",
      "At iteration 800 the loss is 0.451.\n",
      "After epoch 2 the validation accuracy is 0.732.\n",
      "At iteration 200 the loss is 0.473.\n",
      "At iteration 400 the loss is 0.542.\n",
      "At iteration 600 the loss is 0.414.\n",
      "At iteration 800 the loss is 0.391.\n",
      "After epoch 3 the validation accuracy is 0.729.\n",
      "At iteration 200 the loss is 0.372.\n",
      "At iteration 400 the loss is 0.341.\n",
      "At iteration 600 the loss is 0.456.\n",
      "At iteration 800 the loss is 0.493.\n",
      "After epoch 4 the validation accuracy is 0.733.\n",
      "At iteration 200 the loss is 0.355.\n",
      "At iteration 400 the loss is 0.297.\n",
      "At iteration 600 the loss is 0.384.\n",
      "At iteration 800 the loss is 0.439.\n",
      "After epoch 5 the validation accuracy is 0.710.\n",
      "At iteration 200 the loss is 0.251.\n",
      "At iteration 400 the loss is 0.377.\n",
      "At iteration 600 the loss is 0.393.\n",
      "At iteration 800 the loss is 0.400.\n",
      "After epoch 6 the validation accuracy is 0.708.\n",
      "At iteration 200 the loss is 0.141.\n",
      "At iteration 400 the loss is 0.411.\n",
      "At iteration 600 the loss is 0.196.\n",
      "At iteration 800 the loss is 0.296.\n",
      "After epoch 7 the validation accuracy is 0.702.\n",
      "At iteration 200 the loss is 0.242.\n",
      "At iteration 400 the loss is 0.165.\n",
      "At iteration 600 the loss is 0.252.\n",
      "At iteration 800 the loss is 0.328.\n",
      "After epoch 8 the validation accuracy is 0.706.\n",
      "At iteration 200 the loss is 0.242.\n",
      "At iteration 400 the loss is 0.244.\n",
      "At iteration 600 the loss is 0.226.\n",
      "At iteration 800 the loss is 0.168.\n",
      "After epoch 9 the validation accuracy is 0.727.\n",
      "At iteration 200 the loss is 0.184.\n",
      "At iteration 400 the loss is 0.165.\n",
      "At iteration 600 the loss is 0.156.\n",
      "At iteration 800 the loss is 0.261.\n",
      "After epoch 10 the validation accuracy is 0.713.\n",
      "At iteration 200 the loss is 0.191.\n",
      "At iteration 400 the loss is 0.130.\n",
      "At iteration 600 the loss is 0.206.\n",
      "At iteration 800 the loss is 0.162.\n",
      "After epoch 11 the validation accuracy is 0.717.\n",
      "At iteration 200 the loss is 0.154.\n",
      "At iteration 400 the loss is 0.132.\n",
      "At iteration 600 the loss is 0.120.\n",
      "At iteration 800 the loss is 0.130.\n",
      "After epoch 12 the validation accuracy is 0.706.\n",
      "At iteration 200 the loss is 0.130.\n",
      "At iteration 400 the loss is 0.209.\n",
      "At iteration 600 the loss is 0.112.\n",
      "At iteration 800 the loss is 0.097.\n",
      "After epoch 13 the validation accuracy is 0.727.\n",
      "At iteration 200 the loss is 0.157.\n",
      "At iteration 400 the loss is 0.115.\n",
      "At iteration 600 the loss is 0.141.\n",
      "At iteration 800 the loss is 0.191.\n",
      "After epoch 14 the validation accuracy is 0.705.\n",
      "At iteration 200 the loss is 0.168.\n",
      "At iteration 400 the loss is 0.170.\n",
      "At iteration 600 the loss is 0.128.\n",
      "At iteration 800 the loss is 0.125.\n",
      "After epoch 15 the validation accuracy is 0.722.\n"
     ]
    },
    {
     "data": {
      "text/plain": [
       "[<matplotlib.lines.Line2D at 0x7ff471b9c880>]"
      ]
     },
     "execution_count": 23,
     "metadata": {},
     "output_type": "execute_result"
    },
    {
     "data": {
      "image/png": "[encoded data removed]",
      "text/plain": [
       "<Figure size 432x288 with 1 Axes>"
      ]
     },
     "metadata": {
      "needs_background": "light"
     },
     "output_type": "display_data"
    }
   ],
   "source": [
    "EPOCHS = 15\n",
    "loss_function = torch.nn.BCELoss()\n",
    "optimizer = torch.optim.Adam(model.parameters(), lr=0.01)\n",
    "\n",
    "accuracies=[]\n",
    "for epoch in range(1, EPOCHS + 1):\n",
    "    epoch_start_time = time.time()\n",
    "    model_helpers.train_an_epoch(model, train_dataloader, optimizer, loss_function)\n",
    "    accuracy = model_helpers.get_accuracy(model, valid_dataloader, 0.5)\n",
    "    accuracies.append(accuracy)\n",
    "    time_taken = time.time() - epoch_start_time\n",
    "    print(f'After epoch {epoch} the validation accuracy is {accuracy:.3f}.')\n",
    "    \n",
    "plt.plot(range(1, EPOCHS+1), accuracies)"
   ]
  },
  {
   "cell_type": "code",
   "execution_count": 24,
   "metadata": {},
   "outputs": [
    {
     "data": {
      "text/plain": [
       "tensor(3)"
      ]
     },
     "execution_count": 24,
     "metadata": {},
     "output_type": "execute_result"
    }
   ],
   "source": [
    "# Best number of epochs following validation results\n",
    "EPOCHS = torch.argmax(torch.tensor(accuracies))\n",
    "EPOCHS"
   ]
  },
  {
   "cell_type": "code",
   "execution_count": 25,
   "metadata": {},
   "outputs": [
    {
     "name": "stdout",
     "output_type": "stream",
     "text": [
      "At iteration 200 the loss is 0.092.\n",
      "At iteration 400 the loss is 0.091.\n",
      "At iteration 600 the loss is 0.108.\n",
      "At iteration 800 the loss is 0.136.\n",
      "At iteration 200 the loss is 0.211.\n",
      "At iteration 400 the loss is 0.136.\n",
      "At iteration 600 the loss is 0.123.\n",
      "At iteration 800 the loss is 0.140.\n",
      "At iteration 200 the loss is 0.120.\n",
      "At iteration 400 the loss is 0.112.\n",
      "At iteration 600 the loss is 0.106.\n",
      "At iteration 800 the loss is 0.163.\n",
      "Test accuracy is 0.732.\n"
     ]
    }
   ],
   "source": [
    "# Retrain model at best number of epochs and calculate test accuracy\n",
    "model = pred_models.BoWNNClassifier(vocab_size=vocab_size, hidden_dim=hidden_dim, output_dim=1)\n",
    "loss_function = torch.nn.BCELoss()\n",
    "optimizer = torch.optim.Adam(model.parameters(), lr=0.01)\n",
    "\n",
    "for epoch in range(1, EPOCHS + 1):\n",
    "    model_helpers.train_an_epoch(model, train_dataloader, optimizer, loss_function)"
   ]
  },
  {
   "cell_type": "code",
   "execution_count": 26,
   "metadata": {},
   "outputs": [
    {
     "name": "stdout",
     "output_type": "stream",
     "text": [
      "Test accuracy is 0.732.\n"
     ]
    }
   ],
   "source": [
    "test_accuracy = model_helpers.get_accuracy(model, test_dataloader, 0.5)\n",
    "print(f'Test accuracy is {test_accuracy:.3f}.')"
   ]
  }
 ],
 "metadata": {
  "kernelspec": {
   "display_name": "Python 3",
   "language": "python",
   "name": "python3"
  },
  "language_info": {
   "codemirror_mode": {
    "name": "ipython",
    "version": 3
   },
   "file_extension": ".py",
   "mimetype": "text/x-python",
   "name": "python",
   "nbconvert_exporter": "python",
   "pygments_lexer": "ipython3",
   "version": "3.9.10"
  },
  "orig_nbformat": 4
 },
 "nbformat": 4,
 "nbformat_minor": 2
}
