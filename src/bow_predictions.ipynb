{
 "cells": [
  {
   "attachments": {},
   "cell_type": "markdown",
   "metadata": {},
   "source": [
    "# Bag of Words Model"
   ]
  },
  {
   "attachments": {},
   "cell_type": "markdown",
   "metadata": {},
   "source": [
    "#### Libraries Import"
   ]
  },
  {
   "cell_type": "code",
   "execution_count": 36,
   "metadata": {},
   "outputs": [],
   "source": [
    "import os\n",
    "import time\n",
    "import torch\n",
    "import subprocess as sp\n",
    "import pandas as pd\n",
    "import numpy as np\n",
    "import matplotlib.pyplot as plt\n",
    "from sklearn.metrics import log_loss\n",
    "from sklearn.model_selection import train_test_split\n",
    "from torch.utils.data import Dataset, DataLoader, random_split\n",
    "\n",
    "%matplotlib inline"
   ]
  },
  {
   "cell_type": "code",
   "execution_count": 2,
   "metadata": {},
   "outputs": [
    {
     "name": "stdout",
     "output_type": "stream",
     "text": [
      "Requirement already satisfied: datasets in /Users/nuriaadellraventos/anaconda3/lib/python3.10/site-packages (2.12.0)\n",
      "Requirement already satisfied: multiprocess in /Users/nuriaadellraventos/anaconda3/lib/python3.10/site-packages (from datasets) (0.70.14)\n",
      "Requirement already satisfied: pyarrow>=8.0.0 in /Users/nuriaadellraventos/anaconda3/lib/python3.10/site-packages (from datasets) (12.0.0)\n",
      "Requirement already satisfied: aiohttp in /Users/nuriaadellraventos/anaconda3/lib/python3.10/site-packages (from datasets) (3.8.4)\n",
      "Requirement already satisfied: huggingface-hub<1.0.0,>=0.11.0 in /Users/nuriaadellraventos/anaconda3/lib/python3.10/site-packages (from datasets) (0.14.1)\n",
      "Requirement already satisfied: pandas in /Users/nuriaadellraventos/anaconda3/lib/python3.10/site-packages (from datasets) (1.5.3)\n",
      "Requirement already satisfied: responses<0.19 in /Users/nuriaadellraventos/anaconda3/lib/python3.10/site-packages (from datasets) (0.18.0)\n",
      "Requirement already satisfied: fsspec[http]>=2021.11.1 in /Users/nuriaadellraventos/anaconda3/lib/python3.10/site-packages (from datasets) (2022.11.0)\n",
      "Requirement already satisfied: tqdm>=4.62.1 in /Users/nuriaadellraventos/anaconda3/lib/python3.10/site-packages (from datasets) (4.64.1)\n",
      "Requirement already satisfied: pyyaml>=5.1 in /Users/nuriaadellraventos/anaconda3/lib/python3.10/site-packages (from datasets) (6.0)\n",
      "Requirement already satisfied: dill<0.3.7,>=0.3.0 in /Users/nuriaadellraventos/anaconda3/lib/python3.10/site-packages (from datasets) (0.3.6)\n",
      "Requirement already satisfied: numpy>=1.17 in /Users/nuriaadellraventos/anaconda3/lib/python3.10/site-packages (from datasets) (1.23.5)\n",
      "Requirement already satisfied: packaging in /Users/nuriaadellraventos/anaconda3/lib/python3.10/site-packages (from datasets) (22.0)\n",
      "Requirement already satisfied: requests>=2.19.0 in /Users/nuriaadellraventos/anaconda3/lib/python3.10/site-packages (from datasets) (2.28.1)\n",
      "Requirement already satisfied: xxhash in /Users/nuriaadellraventos/anaconda3/lib/python3.10/site-packages (from datasets) (3.2.0)\n",
      "Requirement already satisfied: yarl<2.0,>=1.0 in /Users/nuriaadellraventos/anaconda3/lib/python3.10/site-packages (from aiohttp->datasets) (1.9.2)\n",
      "Requirement already satisfied: frozenlist>=1.1.1 in /Users/nuriaadellraventos/anaconda3/lib/python3.10/site-packages (from aiohttp->datasets) (1.3.3)\n",
      "Requirement already satisfied: attrs>=17.3.0 in /Users/nuriaadellraventos/anaconda3/lib/python3.10/site-packages (from aiohttp->datasets) (22.1.0)\n",
      "Requirement already satisfied: aiosignal>=1.1.2 in /Users/nuriaadellraventos/anaconda3/lib/python3.10/site-packages (from aiohttp->datasets) (1.3.1)\n",
      "Requirement already satisfied: async-timeout<5.0,>=4.0.0a3 in /Users/nuriaadellraventos/anaconda3/lib/python3.10/site-packages (from aiohttp->datasets) (4.0.2)\n",
      "Requirement already satisfied: multidict<7.0,>=4.5 in /Users/nuriaadellraventos/anaconda3/lib/python3.10/site-packages (from aiohttp->datasets) (6.0.4)\n",
      "Requirement already satisfied: charset-normalizer<4.0,>=2.0 in /Users/nuriaadellraventos/anaconda3/lib/python3.10/site-packages (from aiohttp->datasets) (2.0.4)\n",
      "Requirement already satisfied: typing-extensions>=3.7.4.3 in /Users/nuriaadellraventos/anaconda3/lib/python3.10/site-packages (from huggingface-hub<1.0.0,>=0.11.0->datasets) (4.4.0)\n",
      "Requirement already satisfied: filelock in /Users/nuriaadellraventos/anaconda3/lib/python3.10/site-packages (from huggingface-hub<1.0.0,>=0.11.0->datasets) (3.9.0)\n",
      "Requirement already satisfied: certifi>=2017.4.17 in /Users/nuriaadellraventos/anaconda3/lib/python3.10/site-packages (from requests>=2.19.0->datasets) (2023.5.7)\n",
      "Requirement already satisfied: urllib3<1.27,>=1.21.1 in /Users/nuriaadellraventos/anaconda3/lib/python3.10/site-packages (from requests>=2.19.0->datasets) (1.26.14)\n",
      "Requirement already satisfied: idna<4,>=2.5 in /Users/nuriaadellraventos/anaconda3/lib/python3.10/site-packages (from requests>=2.19.0->datasets) (3.4)\n",
      "Requirement already satisfied: python-dateutil>=2.8.1 in /Users/nuriaadellraventos/anaconda3/lib/python3.10/site-packages (from pandas->datasets) (2.8.2)\n",
      "Requirement already satisfied: pytz>=2020.1 in /Users/nuriaadellraventos/anaconda3/lib/python3.10/site-packages (from pandas->datasets) (2022.7)\n",
      "Requirement already satisfied: six>=1.5 in /Users/nuriaadellraventos/anaconda3/lib/python3.10/site-packages (from python-dateutil>=2.8.1->pandas->datasets) (1.16.0)\n"
     ]
    },
    {
     "name": "stderr",
     "output_type": "stream",
     "text": [
      "/Library/Frameworks/Python.framework/Versions/3.9/lib/python3.9/site-packages/tqdm/auto.py:22: TqdmWarning: IProgress not found. Please update jupyter and ipywidgets. See https://ipywidgets.readthedocs.io/en/stable/user_install.html\n",
      "  from .autonotebook import tqdm as notebook_tqdm\n"
     ]
    }
   ],
   "source": [
    "!pip install datasets\n",
    "from datasets import Dataset"
   ]
  },
  {
   "cell_type": "code",
   "execution_count": 3,
   "metadata": {},
   "outputs": [],
   "source": [
    "import warnings\n",
    "warnings.filterwarnings('ignore')"
   ]
  },
  {
   "cell_type": "code",
   "execution_count": 4,
   "metadata": {},
   "outputs": [
    {
     "name": "stderr",
     "output_type": "stream",
     "text": [
      "[nltk_data] Downloading package punkt to\n",
      "[nltk_data]     /Users/nuriaadellraventos/nltk_data...\n",
      "[nltk_data]   Package punkt is already up-to-date!\n"
     ]
    }
   ],
   "source": [
    "base_path = sp.getoutput('git rev-parse --show-toplevel')\n",
    "os.chdir(base_path)\n",
    "\n",
    "from src import embed, pred_models, model_helpers"
   ]
  },
  {
   "attachments": {},
   "cell_type": "markdown",
   "metadata": {},
   "source": [
    "### Data Preparation"
   ]
  },
  {
   "attachments": {},
   "cell_type": "markdown",
   "metadata": {},
   "source": [
    "#### Data Loading"
   ]
  },
  {
   "cell_type": "code",
   "execution_count": 5,
   "metadata": {},
   "outputs": [
    {
     "data": {
      "text/html": [
       "<div>\n",
       "<style scoped>\n",
       "    .dataframe tbody tr th:only-of-type {\n",
       "        vertical-align: middle;\n",
       "    }\n",
       "\n",
       "    .dataframe tbody tr th {\n",
       "        vertical-align: top;\n",
       "    }\n",
       "\n",
       "    .dataframe thead th {\n",
       "        text-align: right;\n",
       "    }\n",
       "</style>\n",
       "<table border=\"1\" class=\"dataframe\">\n",
       "  <thead>\n",
       "    <tr style=\"text-align: right;\">\n",
       "      <th></th>\n",
       "      <th>id</th>\n",
       "      <th>text</th>\n",
       "      <th>speaker</th>\n",
       "      <th>reply_to</th>\n",
       "      <th>conversation_id</th>\n",
       "      <th>case_id</th>\n",
       "      <th>speaker_type</th>\n",
       "      <th>side</th>\n",
       "      <th>timestamp</th>\n",
       "      <th>addressing</th>\n",
       "      <th>...</th>\n",
       "      <th>advocates_19_id</th>\n",
       "      <th>advocates_19_side</th>\n",
       "      <th>advocates_20_id</th>\n",
       "      <th>advocates_20_side</th>\n",
       "      <th>advocates_21_id</th>\n",
       "      <th>advocates_21_side</th>\n",
       "      <th>speaker_replied_to</th>\n",
       "      <th>speaker_type_replied_to</th>\n",
       "      <th>speaker_addressed</th>\n",
       "      <th>speaker_type_addressed</th>\n",
       "    </tr>\n",
       "  </thead>\n",
       "  <tbody>\n",
       "    <tr>\n",
       "      <th>0</th>\n",
       "      <td>22620__0_002</td>\n",
       "      <td>Well, isn't there something different here? Be...</td>\n",
       "      <td>j__david_h_souter</td>\n",
       "      <td>22620__0_001</td>\n",
       "      <td>22620</td>\n",
       "      <td>2005_04-433</td>\n",
       "      <td>J</td>\n",
       "      <td>NaN</td>\n",
       "      <td>162.447</td>\n",
       "      <td>22620__0_003</td>\n",
       "      <td>...</td>\n",
       "      <td>NaN</td>\n",
       "      <td>NaN</td>\n",
       "      <td>NaN</td>\n",
       "      <td>NaN</td>\n",
       "      <td>NaN</td>\n",
       "      <td>NaN</td>\n",
       "      <td>david_c_frederick</td>\n",
       "      <td>A</td>\n",
       "      <td>david_c_frederick</td>\n",
       "      <td>A</td>\n",
       "    </tr>\n",
       "    <tr>\n",
       "      <th>1</th>\n",
       "      <td>22620__0_003</td>\n",
       "      <td>I don't agree, Justice Souter, and here's why....</td>\n",
       "      <td>david_c_frederick</td>\n",
       "      <td>22620__0_002</td>\n",
       "      <td>22620</td>\n",
       "      <td>2005_04-433</td>\n",
       "      <td>A</td>\n",
       "      <td>1.0</td>\n",
       "      <td>221.594</td>\n",
       "      <td>22620__0_004</td>\n",
       "      <td>...</td>\n",
       "      <td>NaN</td>\n",
       "      <td>NaN</td>\n",
       "      <td>NaN</td>\n",
       "      <td>NaN</td>\n",
       "      <td>NaN</td>\n",
       "      <td>NaN</td>\n",
       "      <td>j__david_h_souter</td>\n",
       "      <td>J</td>\n",
       "      <td>j__david_h_souter</td>\n",
       "      <td>J</td>\n",
       "    </tr>\n",
       "    <tr>\n",
       "      <th>2</th>\n",
       "      <td>22620__0_004</td>\n",
       "      <td>Sure, but they suffered the harm because the f...</td>\n",
       "      <td>j__david_h_souter</td>\n",
       "      <td>22620__0_003</td>\n",
       "      <td>22620</td>\n",
       "      <td>2005_04-433</td>\n",
       "      <td>J</td>\n",
       "      <td>NaN</td>\n",
       "      <td>245.526</td>\n",
       "      <td>22620__0_005</td>\n",
       "      <td>...</td>\n",
       "      <td>NaN</td>\n",
       "      <td>NaN</td>\n",
       "      <td>NaN</td>\n",
       "      <td>NaN</td>\n",
       "      <td>NaN</td>\n",
       "      <td>NaN</td>\n",
       "      <td>david_c_frederick</td>\n",
       "      <td>A</td>\n",
       "      <td>david_c_frederick</td>\n",
       "      <td>A</td>\n",
       "    </tr>\n",
       "    <tr>\n",
       "      <th>3</th>\n",
       "      <td>22620__0_006</td>\n",
       "      <td>Well, why... why is that true? Let's assume th...</td>\n",
       "      <td>j__anthony_m_kennedy</td>\n",
       "      <td>22620__0_005</td>\n",
       "      <td>22620</td>\n",
       "      <td>2005_04-433</td>\n",
       "      <td>J</td>\n",
       "      <td>NaN</td>\n",
       "      <td>326.156</td>\n",
       "      <td>22620__0_007</td>\n",
       "      <td>...</td>\n",
       "      <td>NaN</td>\n",
       "      <td>NaN</td>\n",
       "      <td>NaN</td>\n",
       "      <td>NaN</td>\n",
       "      <td>NaN</td>\n",
       "      <td>NaN</td>\n",
       "      <td>david_c_frederick</td>\n",
       "      <td>A</td>\n",
       "      <td>david_c_frederick</td>\n",
       "      <td>A</td>\n",
       "    </tr>\n",
       "    <tr>\n",
       "      <th>4</th>\n",
       "      <td>22620__0_008</td>\n",
       "      <td>Mr. Frederick, you... you started by saying ho...</td>\n",
       "      <td>j__ruth_bader_ginsburg</td>\n",
       "      <td>22620__0_007</td>\n",
       "      <td>22620</td>\n",
       "      <td>2005_04-433</td>\n",
       "      <td>J</td>\n",
       "      <td>NaN</td>\n",
       "      <td>409.067</td>\n",
       "      <td>22620__0_009</td>\n",
       "      <td>...</td>\n",
       "      <td>NaN</td>\n",
       "      <td>NaN</td>\n",
       "      <td>NaN</td>\n",
       "      <td>NaN</td>\n",
       "      <td>NaN</td>\n",
       "      <td>NaN</td>\n",
       "      <td>david_c_frederick</td>\n",
       "      <td>A</td>\n",
       "      <td>david_c_frederick</td>\n",
       "      <td>A</td>\n",
       "    </tr>\n",
       "  </tbody>\n",
       "</table>\n",
       "<p>5 rows × 98 columns</p>\n",
       "</div>"
      ],
      "text/plain": [
       "             id                                               text  \\\n",
       "0  22620__0_002  Well, isn't there something different here? Be...   \n",
       "1  22620__0_003  I don't agree, Justice Souter, and here's why....   \n",
       "2  22620__0_004  Sure, but they suffered the harm because the f...   \n",
       "3  22620__0_006  Well, why... why is that true? Let's assume th...   \n",
       "4  22620__0_008  Mr. Frederick, you... you started by saying ho...   \n",
       "\n",
       "                  speaker      reply_to  conversation_id      case_id  \\\n",
       "0       j__david_h_souter  22620__0_001            22620  2005_04-433   \n",
       "1       david_c_frederick  22620__0_002            22620  2005_04-433   \n",
       "2       j__david_h_souter  22620__0_003            22620  2005_04-433   \n",
       "3    j__anthony_m_kennedy  22620__0_005            22620  2005_04-433   \n",
       "4  j__ruth_bader_ginsburg  22620__0_007            22620  2005_04-433   \n",
       "\n",
       "  speaker_type  side  timestamp    addressing  ...  advocates_19_id  \\\n",
       "0            J   NaN    162.447  22620__0_003  ...              NaN   \n",
       "1            A   1.0    221.594  22620__0_004  ...              NaN   \n",
       "2            J   NaN    245.526  22620__0_005  ...              NaN   \n",
       "3            J   NaN    326.156  22620__0_007  ...              NaN   \n",
       "4            J   NaN    409.067  22620__0_009  ...              NaN   \n",
       "\n",
       "  advocates_19_side advocates_20_id advocates_20_side  advocates_21_id  \\\n",
       "0               NaN             NaN               NaN              NaN   \n",
       "1               NaN             NaN               NaN              NaN   \n",
       "2               NaN             NaN               NaN              NaN   \n",
       "3               NaN             NaN               NaN              NaN   \n",
       "4               NaN             NaN               NaN              NaN   \n",
       "\n",
       "   advocates_21_side  speaker_replied_to speaker_type_replied_to  \\\n",
       "0                NaN   david_c_frederick                       A   \n",
       "1                NaN   j__david_h_souter                       J   \n",
       "2                NaN   david_c_frederick                       A   \n",
       "3                NaN   david_c_frederick                       A   \n",
       "4                NaN   david_c_frederick                       A   \n",
       "\n",
       "   speaker_addressed  speaker_type_addressed  \n",
       "0  david_c_frederick                       A  \n",
       "1  j__david_h_souter                       J  \n",
       "2  david_c_frederick                       A  \n",
       "3  david_c_frederick                       A  \n",
       "4  david_c_frederick                       A  \n",
       "\n",
       "[5 rows x 98 columns]"
      ]
     },
     "execution_count": 5,
     "metadata": {},
     "output_type": "execute_result"
    }
   ],
   "source": [
    "# Get list of files in folder\n",
    "folder_path = \"data/\"\n",
    "file_list = os.listdir(folder_path)\n",
    "\n",
    "# Create empty list to hold dataframes\n",
    "df_list = []\n",
    "\n",
    "# Loop through files in folder\n",
    "for file in file_list:\n",
    "    # Check if file is a CSV\n",
    "    if file.endswith('.csv'):\n",
    "        # Read CSV file into a pandas dataframe\n",
    "        df = pd.read_csv(os.path.join(folder_path, file))\n",
    "        # Append dataframe to list\n",
    "        df_list.append(df)\n",
    "\n",
    "# Concatenate all dataframes in list into a single dataframe\n",
    "df = pd.concat(df_list, axis=0, ignore_index=True)\n",
    "\n",
    "df.head()"
   ]
  },
  {
   "attachments": {},
   "cell_type": "markdown",
   "metadata": {},
   "source": [
    "#### Select Top Justices"
   ]
  },
  {
   "cell_type": "code",
   "execution_count": 6,
   "metadata": {},
   "outputs": [],
   "source": [
    "# Get judges columns\n",
    "j_columns = [col for col in df.columns if col.startswith('votes_side_j_')]\n",
    "\n",
    "count = 0\n",
    "justices_list = []\n",
    "justices_dict = {}\n",
    "\n",
    "for justice in j_columns:\n",
    "  df_j = df[['case_id', 'text'] + [justice]]\n",
    "  grouped_df = df_j.groupby('case_id')['text'].apply(lambda x: ','.join(x)).reset_index()\n",
    "  justices = df[[\"case_id\"] + [justice]].drop_duplicates(keep='first')\n",
    "\n",
    "  df1 = pd.merge(grouped_df, justices, left_on='case_id', right_on='case_id', how='left').dropna(axis='rows', how='any')\n",
    "  df1 = df1.drop(df1[~df1[justice].isin([0, 1])].index)\n",
    "\n",
    "  justices_dict[justice] = len(df1)\n",
    "\n"
   ]
  },
  {
   "cell_type": "code",
   "execution_count": 7,
   "metadata": {},
   "outputs": [
    {
     "data": {
      "text/plain": [
       "[('votes_side_j__ruth_bader_ginsburg', 1390),\n",
       " ('votes_side_j__clarence_thomas', 1387),\n",
       " ('votes_side_j__stephen_g_breyer', 1376),\n",
       " ('votes_side_j__anthony_m_kennedy', 1264),\n",
       " ('votes_side_j__antonin_scalia', 1090),\n",
       " ('votes_side_j__john_g_roberts_jr', 1003),\n",
       " ('votes_side_j__samuel_a_alito_jr', 969),\n",
       " ('votes_side_j__john_paul_stevens', 741),\n",
       " ('votes_side_j__sonia_sotomayor', 710),\n",
       " ('votes_side_j__david_h_souter', 665),\n",
       " ('votes_side_j__elena_kagan', 605),\n",
       " ('votes_side_j__sandra_day_oconnor', 388),\n",
       " ('votes_side_j__william_h_rehnquist', 365),\n",
       " ('votes_side_j__neil_gorsuch', 195),\n",
       " ('votes_side_j__brett_m_kavanaugh', 115),\n",
       " ('votes_side_j__abe_fortas', 0),\n",
       " ('votes_side_j__arthur_j_goldberg', 0),\n",
       " ('votes_side_j__byron_r_white', 0),\n",
       " ('votes_side_j__charles_e_whittaker', 0),\n",
       " ('votes_side_j__earl_warren', 0),\n",
       " ('votes_side_j__felix_frankfurter', 0),\n",
       " ('votes_side_j__harold_burton', 0),\n",
       " ('votes_side_j__harry_a_blackmun', 0),\n",
       " ('votes_side_j__hugo_l_black', 0),\n",
       " ('votes_side_j__john_m_harlan2', 0),\n",
       " ('votes_side_j__lewis_f_powell_jr', 0),\n",
       " ('votes_side_j__potter_stewart', 0),\n",
       " ('votes_side_j__sherman_minton', 0),\n",
       " ('votes_side_j__stanley_reed', 0),\n",
       " ('votes_side_j__thurgood_marshall', 0),\n",
       " ('votes_side_j__tom_c_clark', 0),\n",
       " ('votes_side_j__warren_e_burger', 0),\n",
       " ('votes_side_j__william_j_brennan_jr', 0),\n",
       " ('votes_side_j__william_o_douglas', 0)]"
      ]
     },
     "execution_count": 7,
     "metadata": {},
     "output_type": "execute_result"
    }
   ],
   "source": [
    "# Sorted justices by case load\n",
    "sorted_justices_by_case = sorted(justices_dict.items(), key=lambda x:x[1], reverse=True)\n",
    "sorted_justices_by_case"
   ]
  },
  {
   "cell_type": "code",
   "execution_count": 8,
   "metadata": {},
   "outputs": [
    {
     "name": "stdout",
     "output_type": "stream",
     "text": [
      "['votes_side_j__ruth_bader_ginsburg', 'votes_side_j__clarence_thomas', 'votes_side_j__stephen_g_breyer', 'votes_side_j__anthony_m_kennedy', 'votes_side_j__antonin_scalia', 'votes_side_j__john_g_roberts_jr', 'votes_side_j__samuel_a_alito_jr', 'votes_side_j__john_paul_stevens', 'votes_side_j__sonia_sotomayor', 'votes_side_j__david_h_souter', 'votes_side_j__elena_kagan', 'votes_side_j__sandra_day_oconnor', 'votes_side_j__william_h_rehnquist', 'votes_side_j__neil_gorsuch', 'votes_side_j__brett_m_kavanaugh']\n"
     ]
    }
   ],
   "source": [
    "# Get top justices\n",
    "top_justices = [justice for justice, votes in sorted_justices_by_case[:15]]\n",
    "print(top_justices)"
   ]
  },
  {
   "attachments": {},
   "cell_type": "markdown",
   "metadata": {},
   "source": [
    "### Case Outcome Predictions"
   ]
  },
  {
   "attachments": {},
   "cell_type": "markdown",
   "metadata": {},
   "source": [
    "#### Datasets"
   ]
  },
  {
   "cell_type": "code",
   "execution_count": 10,
   "metadata": {},
   "outputs": [],
   "source": [
    "# Have to do by utterance as grouping by case_id gives too few examples to learn from\n",
    "df_all = df[['win_side', 'text', 'case_id']]\n",
    "df_all.head()\n",
    "\n",
    "# Keep only cases with outcomes 0 or 1\n",
    "df_all = df_all[df_all.win_side.isin([0, 1])]"
   ]
  },
  {
   "cell_type": "code",
   "execution_count": 11,
   "metadata": {},
   "outputs": [],
   "source": [
    "# Get unique case_ids\n",
    "unique_case_ids = df_all['case_id'].unique()\n",
    "\n",
    "# Split the unique case_ids into training and testing sets\n",
    "train_case_ids, val_test_case_ids = train_test_split(unique_case_ids, test_size=0.2, random_state=123)\n",
    "val_case_ids, test_case_ids = train_test_split(val_test_case_ids, test_size=0.5, random_state=123)\n",
    "\n",
    "# Filter the original dataframe to create the train and test dataframes using the train and test case_ids\n",
    "train_df = df_all[df_all['case_id'].isin(train_case_ids)].drop(columns=['case_id'])\n",
    "val_df = df_all[df_all['case_id'].isin(val_case_ids)].drop(columns=['case_id'])\n",
    "test_df = df_all[df_all['case_id'].isin(test_case_ids)].drop(columns=['case_id'])"
   ]
  },
  {
   "cell_type": "code",
   "execution_count": 12,
   "metadata": {},
   "outputs": [
    {
     "data": {
      "text/plain": [
       "3538"
      ]
     },
     "execution_count": 12,
     "metadata": {},
     "output_type": "execute_result"
    }
   ],
   "source": [
    "# Bag of Words\n",
    "vocab = embed.get_vocab(train_df, min_freq=100)\n",
    "vocab_size = len(vocab)\n",
    "vocab_size"
   ]
  },
  {
   "cell_type": "code",
   "execution_count": 33,
   "metadata": {},
   "outputs": [],
   "source": [
    "# Data Loaders\n",
    "BATCH_SIZE = 32\n",
    "\n",
    "train_dataloader = DataLoader(Dataset.from_pandas(train_df, preserve_index = False), batch_size=BATCH_SIZE,\n",
    "                              shuffle=True,\n",
    "                              collate_fn=lambda batch: embed.collate_into_bow(batch, vocab))\n",
    "valid_dataloader = DataLoader(Dataset.from_pandas(val_df, preserve_index = False), batch_size=BATCH_SIZE,\n",
    "                              shuffle=False, \n",
    "                              collate_fn=lambda batch: embed.collate_into_bow(batch, vocab))\n",
    "test_dataloader = DataLoader(Dataset.from_pandas(test_df, preserve_index = False), batch_size=BATCH_SIZE,\n",
    "                             shuffle=False, \n",
    "                             collate_fn=lambda batch: embed.collate_into_bow(batch, vocab))"
   ]
  },
  {
   "attachments": {},
   "cell_type": "markdown",
   "metadata": {},
   "source": [
    "#### Training"
   ]
  },
  {
   "cell_type": "code",
   "execution_count": 34,
   "metadata": {},
   "outputs": [],
   "source": [
    "# BoW NN Classifier\n",
    "hidden_dim = 500\n",
    "model = pred_models.BoWNNClassifier(vocab_size=vocab_size, hidden_dim=hidden_dim, output_dim=1)"
   ]
  },
  {
   "cell_type": "code",
   "execution_count": 35,
   "metadata": {},
   "outputs": [
    {
     "name": "stdout",
     "output_type": "stream",
     "text": [
      "At iteration 200 the train loss is 0.613.\n",
      "At iteration 400 the train loss is 0.667.\n",
      "At iteration 600 the train loss is 0.578.\n",
      "At iteration 800 the train loss is 0.599.\n",
      "At iteration 1000 the train loss is 0.661.\n",
      "At iteration 1200 the train loss is 0.634.\n",
      "At iteration 1400 the train loss is 0.647.\n",
      "At iteration 1600 the train loss is 0.683.\n",
      "At iteration 1800 the train loss is 0.619.\n",
      "At iteration 2000 the train loss is 0.572.\n",
      "At iteration 2200 the train loss is 0.605.\n",
      "At iteration 2400 the train loss is 0.654.\n",
      "At iteration 2600 the train loss is 0.669.\n",
      "At iteration 2800 the train loss is 0.615.\n",
      "At iteration 3000 the train loss is 0.597.\n"
     ]
    },
    {
     "ename": "KeyboardInterrupt",
     "evalue": "",
     "output_type": "error",
     "traceback": [
      "\u001b[0;31m---------------------------------------------------------------------------\u001b[0m",
      "\u001b[0;31mKeyboardInterrupt\u001b[0m                         Traceback (most recent call last)",
      "\u001b[1;32m/Users/nuriaadellraventos/Documents/Classes/AdvML/supreme_court_nlp/src/bow_predictions.ipynb Cell 22\u001b[0m in \u001b[0;36m<module>\u001b[0;34m\u001b[0m\n\u001b[1;32m      <a href='vscode-notebook-cell:/Users/nuriaadellraventos/Documents/Classes/AdvML/supreme_court_nlp/src/bow_predictions.ipynb#X30sZmlsZQ%3D%3D?line=8'>9</a>\u001b[0m \u001b[39mfor\u001b[39;00m epoch \u001b[39min\u001b[39;00m \u001b[39mrange\u001b[39m(\u001b[39m1\u001b[39m, EPOCHS \u001b[39m+\u001b[39m \u001b[39m1\u001b[39m):\n\u001b[1;32m     <a href='vscode-notebook-cell:/Users/nuriaadellraventos/Documents/Classes/AdvML/supreme_court_nlp/src/bow_predictions.ipynb#X30sZmlsZQ%3D%3D?line=9'>10</a>\u001b[0m     epoch_start_time \u001b[39m=\u001b[39m time\u001b[39m.\u001b[39mtime()\n\u001b[0;32m---> <a href='vscode-notebook-cell:/Users/nuriaadellraventos/Documents/Classes/AdvML/supreme_court_nlp/src/bow_predictions.ipynb#X30sZmlsZQ%3D%3D?line=10'>11</a>\u001b[0m     model_helpers\u001b[39m.\u001b[39;49mtrain_an_epoch(model, train_dataloader, optimizer, loss_function)\n\u001b[1;32m     <a href='vscode-notebook-cell:/Users/nuriaadellraventos/Documents/Classes/AdvML/supreme_court_nlp/src/bow_predictions.ipynb#X30sZmlsZQ%3D%3D?line=11'>12</a>\u001b[0m     val_y_true, val_y_pred \u001b[39m=\u001b[39m model_helpers\u001b[39m.\u001b[39mmake_predictions(model, valid_dataloader)\n\u001b[1;32m     <a href='vscode-notebook-cell:/Users/nuriaadellraventos/Documents/Classes/AdvML/supreme_court_nlp/src/bow_predictions.ipynb#X30sZmlsZQ%3D%3D?line=12'>13</a>\u001b[0m     val_loss \u001b[39m=\u001b[39m log_loss(val_y_true\u001b[39m.\u001b[39mastype(np\u001b[39m.\u001b[39mfloat64), val_y_pred\u001b[39m.\u001b[39mastype(np\u001b[39m.\u001b[39mfloat64))\n",
      "File \u001b[0;32m~/Documents/Classes/AdvML/supreme_court_nlp/src/model_helpers.py:25\u001b[0m, in \u001b[0;36mtrain_an_epoch\u001b[0;34m(model, dataloader, optimizer, loss_function)\u001b[0m\n\u001b[1;32m     22\u001b[0m model\u001b[39m.\u001b[39mtrain()\n\u001b[1;32m     23\u001b[0m log_interval \u001b[39m=\u001b[39m \u001b[39m200\u001b[39m\n\u001b[0;32m---> 25\u001b[0m \u001b[39mfor\u001b[39;00m idx, (label, text) \u001b[39min\u001b[39;00m \u001b[39menumerate\u001b[39m(dataloader):\n\u001b[1;32m     26\u001b[0m     model\u001b[39m.\u001b[39mzero_grad()\n\u001b[1;32m     27\u001b[0m     log_probs \u001b[39m=\u001b[39m model(text)\u001b[39m.\u001b[39msqueeze(\u001b[39m1\u001b[39m)\n",
      "File \u001b[0;32m/Library/Frameworks/Python.framework/Versions/3.9/lib/python3.9/site-packages/torch/utils/data/dataloader.py:634\u001b[0m, in \u001b[0;36m_BaseDataLoaderIter.__next__\u001b[0;34m(self)\u001b[0m\n\u001b[1;32m    631\u001b[0m \u001b[39mif\u001b[39;00m \u001b[39mself\u001b[39m\u001b[39m.\u001b[39m_sampler_iter \u001b[39mis\u001b[39;00m \u001b[39mNone\u001b[39;00m:\n\u001b[1;32m    632\u001b[0m     \u001b[39m# TODO(https://github.com/pytorch/pytorch/issues/76750)\u001b[39;00m\n\u001b[1;32m    633\u001b[0m     \u001b[39mself\u001b[39m\u001b[39m.\u001b[39m_reset()  \u001b[39m# type: ignore[call-arg]\u001b[39;00m\n\u001b[0;32m--> 634\u001b[0m data \u001b[39m=\u001b[39m \u001b[39mself\u001b[39;49m\u001b[39m.\u001b[39;49m_next_data()\n\u001b[1;32m    635\u001b[0m \u001b[39mself\u001b[39m\u001b[39m.\u001b[39m_num_yielded \u001b[39m+\u001b[39m\u001b[39m=\u001b[39m \u001b[39m1\u001b[39m\n\u001b[1;32m    636\u001b[0m \u001b[39mif\u001b[39;00m \u001b[39mself\u001b[39m\u001b[39m.\u001b[39m_dataset_kind \u001b[39m==\u001b[39m _DatasetKind\u001b[39m.\u001b[39mIterable \u001b[39mand\u001b[39;00m \\\n\u001b[1;32m    637\u001b[0m         \u001b[39mself\u001b[39m\u001b[39m.\u001b[39m_IterableDataset_len_called \u001b[39mis\u001b[39;00m \u001b[39mnot\u001b[39;00m \u001b[39mNone\u001b[39;00m \u001b[39mand\u001b[39;00m \\\n\u001b[1;32m    638\u001b[0m         \u001b[39mself\u001b[39m\u001b[39m.\u001b[39m_num_yielded \u001b[39m>\u001b[39m \u001b[39mself\u001b[39m\u001b[39m.\u001b[39m_IterableDataset_len_called:\n",
      "File \u001b[0;32m/Library/Frameworks/Python.framework/Versions/3.9/lib/python3.9/site-packages/torch/utils/data/dataloader.py:678\u001b[0m, in \u001b[0;36m_SingleProcessDataLoaderIter._next_data\u001b[0;34m(self)\u001b[0m\n\u001b[1;32m    676\u001b[0m \u001b[39mdef\u001b[39;00m \u001b[39m_next_data\u001b[39m(\u001b[39mself\u001b[39m):\n\u001b[1;32m    677\u001b[0m     index \u001b[39m=\u001b[39m \u001b[39mself\u001b[39m\u001b[39m.\u001b[39m_next_index()  \u001b[39m# may raise StopIteration\u001b[39;00m\n\u001b[0;32m--> 678\u001b[0m     data \u001b[39m=\u001b[39m \u001b[39mself\u001b[39;49m\u001b[39m.\u001b[39;49m_dataset_fetcher\u001b[39m.\u001b[39;49mfetch(index)  \u001b[39m# may raise StopIteration\u001b[39;00m\n\u001b[1;32m    679\u001b[0m     \u001b[39mif\u001b[39;00m \u001b[39mself\u001b[39m\u001b[39m.\u001b[39m_pin_memory:\n\u001b[1;32m    680\u001b[0m         data \u001b[39m=\u001b[39m _utils\u001b[39m.\u001b[39mpin_memory\u001b[39m.\u001b[39mpin_memory(data, \u001b[39mself\u001b[39m\u001b[39m.\u001b[39m_pin_memory_device)\n",
      "File \u001b[0;32m/Library/Frameworks/Python.framework/Versions/3.9/lib/python3.9/site-packages/torch/utils/data/_utils/fetch.py:54\u001b[0m, in \u001b[0;36m_MapDatasetFetcher.fetch\u001b[0;34m(self, possibly_batched_index)\u001b[0m\n\u001b[1;32m     52\u001b[0m \u001b[39melse\u001b[39;00m:\n\u001b[1;32m     53\u001b[0m     data \u001b[39m=\u001b[39m \u001b[39mself\u001b[39m\u001b[39m.\u001b[39mdataset[possibly_batched_index]\n\u001b[0;32m---> 54\u001b[0m \u001b[39mreturn\u001b[39;00m \u001b[39mself\u001b[39;49m\u001b[39m.\u001b[39;49mcollate_fn(data)\n",
      "\u001b[1;32m/Users/nuriaadellraventos/Documents/Classes/AdvML/supreme_court_nlp/src/bow_predictions.ipynb Cell 22\u001b[0m in \u001b[0;36m<lambda>\u001b[0;34m(batch)\u001b[0m\n\u001b[1;32m      <a href='vscode-notebook-cell:/Users/nuriaadellraventos/Documents/Classes/AdvML/supreme_court_nlp/src/bow_predictions.ipynb#X30sZmlsZQ%3D%3D?line=0'>1</a>\u001b[0m \u001b[39m# Data Loaders\u001b[39;00m\n\u001b[1;32m      <a href='vscode-notebook-cell:/Users/nuriaadellraventos/Documents/Classes/AdvML/supreme_court_nlp/src/bow_predictions.ipynb#X30sZmlsZQ%3D%3D?line=1'>2</a>\u001b[0m BATCH_SIZE \u001b[39m=\u001b[39m \u001b[39m64\u001b[39m\n\u001b[1;32m      <a href='vscode-notebook-cell:/Users/nuriaadellraventos/Documents/Classes/AdvML/supreme_court_nlp/src/bow_predictions.ipynb#X30sZmlsZQ%3D%3D?line=3'>4</a>\u001b[0m train_dataloader \u001b[39m=\u001b[39m DataLoader(Dataset\u001b[39m.\u001b[39mfrom_pandas(train_df, preserve_index \u001b[39m=\u001b[39m \u001b[39mFalse\u001b[39;00m), batch_size\u001b[39m=\u001b[39mBATCH_SIZE,\n\u001b[1;32m      <a href='vscode-notebook-cell:/Users/nuriaadellraventos/Documents/Classes/AdvML/supreme_court_nlp/src/bow_predictions.ipynb#X30sZmlsZQ%3D%3D?line=4'>5</a>\u001b[0m                               shuffle\u001b[39m=\u001b[39m\u001b[39mTrue\u001b[39;00m,\n\u001b[0;32m----> <a href='vscode-notebook-cell:/Users/nuriaadellraventos/Documents/Classes/AdvML/supreme_court_nlp/src/bow_predictions.ipynb#X30sZmlsZQ%3D%3D?line=5'>6</a>\u001b[0m                               collate_fn\u001b[39m=\u001b[39m\u001b[39mlambda\u001b[39;00m batch: collate_into_bow(batch, vocab))\n\u001b[1;32m      <a href='vscode-notebook-cell:/Users/nuriaadellraventos/Documents/Classes/AdvML/supreme_court_nlp/src/bow_predictions.ipynb#X30sZmlsZQ%3D%3D?line=6'>7</a>\u001b[0m valid_dataloader \u001b[39m=\u001b[39m DataLoader(Dataset\u001b[39m.\u001b[39mfrom_pandas(val_df, preserve_index \u001b[39m=\u001b[39m \u001b[39mFalse\u001b[39;00m), batch_size\u001b[39m=\u001b[39mBATCH_SIZE,\n\u001b[1;32m      <a href='vscode-notebook-cell:/Users/nuriaadellraventos/Documents/Classes/AdvML/supreme_court_nlp/src/bow_predictions.ipynb#X30sZmlsZQ%3D%3D?line=7'>8</a>\u001b[0m                               shuffle\u001b[39m=\u001b[39m\u001b[39mFalse\u001b[39;00m, \n\u001b[1;32m      <a href='vscode-notebook-cell:/Users/nuriaadellraventos/Documents/Classes/AdvML/supreme_court_nlp/src/bow_predictions.ipynb#X30sZmlsZQ%3D%3D?line=8'>9</a>\u001b[0m                               collate_fn\u001b[39m=\u001b[39m\u001b[39mlambda\u001b[39;00m batch: collate_into_bow(batch, vocab))\n\u001b[1;32m     <a href='vscode-notebook-cell:/Users/nuriaadellraventos/Documents/Classes/AdvML/supreme_court_nlp/src/bow_predictions.ipynb#X30sZmlsZQ%3D%3D?line=9'>10</a>\u001b[0m test_dataloader \u001b[39m=\u001b[39m DataLoader(Dataset\u001b[39m.\u001b[39mfrom_pandas(test_df, preserve_index \u001b[39m=\u001b[39m \u001b[39mFalse\u001b[39;00m), batch_size\u001b[39m=\u001b[39mBATCH_SIZE,\n\u001b[1;32m     <a href='vscode-notebook-cell:/Users/nuriaadellraventos/Documents/Classes/AdvML/supreme_court_nlp/src/bow_predictions.ipynb#X30sZmlsZQ%3D%3D?line=10'>11</a>\u001b[0m                              shuffle\u001b[39m=\u001b[39m\u001b[39mFalse\u001b[39;00m, \n\u001b[1;32m     <a href='vscode-notebook-cell:/Users/nuriaadellraventos/Documents/Classes/AdvML/supreme_court_nlp/src/bow_predictions.ipynb#X30sZmlsZQ%3D%3D?line=11'>12</a>\u001b[0m                              collate_fn\u001b[39m=\u001b[39m\u001b[39mlambda\u001b[39;00m batch: collate_into_bow(batch, vocab))\n",
      "\u001b[1;32m/Users/nuriaadellraventos/Documents/Classes/AdvML/supreme_court_nlp/src/bow_predictions.ipynb Cell 22\u001b[0m in \u001b[0;36mcollate_into_bow\u001b[0;34m(batch, vocab)\u001b[0m\n\u001b[1;32m     <a href='vscode-notebook-cell:/Users/nuriaadellraventos/Documents/Classes/AdvML/supreme_court_nlp/src/bow_predictions.ipynb#X30sZmlsZQ%3D%3D?line=20'>21</a>\u001b[0m     row_tokens \u001b[39m=\u001b[39m [vocab[t] \u001b[39mfor\u001b[39;00m t \u001b[39min\u001b[39;00m tokenizer(token)]\n\u001b[1;32m     <a href='vscode-notebook-cell:/Users/nuriaadellraventos/Documents/Classes/AdvML/supreme_court_nlp/src/bow_predictions.ipynb#X30sZmlsZQ%3D%3D?line=21'>22</a>\u001b[0m     cum_freq \u001b[39m=\u001b[39m torch\u001b[39m.\u001b[39mbincount(torch\u001b[39m.\u001b[39mtensor(row_tokens), minlength\u001b[39m=\u001b[39mvocab_size)\u001b[39m.\u001b[39mresize(\u001b[39m1\u001b[39m, vocab_size)\n\u001b[0;32m---> <a href='vscode-notebook-cell:/Users/nuriaadellraventos/Documents/Classes/AdvML/supreme_court_nlp/src/bow_predictions.ipynb#X30sZmlsZQ%3D%3D?line=22'>23</a>\u001b[0m     tokens \u001b[39m=\u001b[39m torch\u001b[39m.\u001b[39;49mcat((tokens, cum_freq \u001b[39m/\u001b[39;49m (torch\u001b[39m.\u001b[39;49msum(cum_freq) \u001b[39m+\u001b[39;49m \u001b[39m1e-7\u001b[39;49m)), \u001b[39m0\u001b[39;49m) \n\u001b[1;32m     <a href='vscode-notebook-cell:/Users/nuriaadellraventos/Documents/Classes/AdvML/supreme_court_nlp/src/bow_predictions.ipynb#X30sZmlsZQ%3D%3D?line=24'>25</a>\u001b[0m \u001b[39mreturn\u001b[39;00m labels, tokens\n",
      "\u001b[0;31mKeyboardInterrupt\u001b[0m: "
     ]
    }
   ],
   "source": [
    "EPOCHS = 20\n",
    "loss_function = torch.nn.BCELoss()\n",
    "optimizer = torch.optim.Adam(model.parameters(), lr=0.01)\n",
    "\n",
    "best_model = None\n",
    "best_val_loss = float('inf')\n",
    "val_losses = []\n",
    "for epoch in range(1, EPOCHS + 1):\n",
    "    epoch_start_time = time.time()\n",
    "    model_helpers.train_an_epoch(model, train_dataloader, optimizer, loss_function)\n",
    "    val_y_true, val_y_pred = model_helpers.make_predictions(model, valid_dataloader)\n",
    "    val_loss = log_loss(val_y_true.astype(np.float64), val_y_pred.astype(np.float64))\n",
    "    if val_loss < best_val_loss:\n",
    "        best_model = type(model)(model.vocab_size, model.hidden_dim, model.output_dim)\n",
    "        best_model.load_state_dict(model.state_dict())\n",
    "        best_val_loss = val_loss\n",
    "    val_losses.append(val_loss)\n",
    "    time_taken = time.time() - epoch_start_time\n",
    "    print(f'After epoch {epoch} the validation loss is {val_loss:.3f}.')\n",
    "    \n",
    "plt.plot(range(1, EPOCHS+1), val_losses)"
   ]
  },
  {
   "cell_type": "code",
   "execution_count": null,
   "metadata": {},
   "outputs": [
    {
     "name": "stdout",
     "output_type": "stream",
     "text": [
      "Best Threshold=0.735813, G-Mean=0.574\n"
     ]
    },
    {
     "data": {
      "image/png": "[encoded data removed]",
      "text/plain": [
       "<Figure size 432x288 with 1 Axes>"
      ]
     },
     "metadata": {
      "needs_background": "light"
     },
     "output_type": "display_data"
    }
   ],
   "source": [
    "# Get validation predictions to select best threshold\n",
    "val_labels, val_probs = model_helpers.make_predictions(model, valid_dataloader)\n",
    "# Get best threshold from validation data\n",
    "threshold = model_helpers.select_threshold(val_labels, val_probs)"
   ]
  },
  {
   "attachments": {},
   "cell_type": "markdown",
   "metadata": {},
   "source": [
    "#### Evaluation"
   ]
  },
  {
   "cell_type": "code",
   "execution_count": null,
   "metadata": {},
   "outputs": [
    {
     "data": {
      "text/html": [
       "<div>\n",
       "<style scoped>\n",
       "    .dataframe tbody tr th:only-of-type {\n",
       "        vertical-align: middle;\n",
       "    }\n",
       "\n",
       "    .dataframe tbody tr th {\n",
       "        vertical-align: top;\n",
       "    }\n",
       "\n",
       "    .dataframe thead th {\n",
       "        text-align: right;\n",
       "    }\n",
       "</style>\n",
       "<table border=\"1\" class=\"dataframe\">\n",
       "  <thead>\n",
       "    <tr style=\"text-align: right;\">\n",
       "      <th></th>\n",
       "      <th>case_id</th>\n",
       "      <th>win_side</th>\n",
       "      <th>labels</th>\n",
       "      <th>prob</th>\n",
       "    </tr>\n",
       "  </thead>\n",
       "  <tbody>\n",
       "    <tr>\n",
       "      <th>766</th>\n",
       "      <td>2005_04-1739</td>\n",
       "      <td>1.0</td>\n",
       "      <td>1.0</td>\n",
       "      <td>0.664012</td>\n",
       "    </tr>\n",
       "    <tr>\n",
       "      <th>767</th>\n",
       "      <td>2005_04-1739</td>\n",
       "      <td>1.0</td>\n",
       "      <td>1.0</td>\n",
       "      <td>0.469992</td>\n",
       "    </tr>\n",
       "    <tr>\n",
       "      <th>768</th>\n",
       "      <td>2005_04-1739</td>\n",
       "      <td>1.0</td>\n",
       "      <td>1.0</td>\n",
       "      <td>0.682679</td>\n",
       "    </tr>\n",
       "    <tr>\n",
       "      <th>769</th>\n",
       "      <td>2005_04-1739</td>\n",
       "      <td>1.0</td>\n",
       "      <td>1.0</td>\n",
       "      <td>0.782878</td>\n",
       "    </tr>\n",
       "    <tr>\n",
       "      <th>770</th>\n",
       "      <td>2005_04-1739</td>\n",
       "      <td>1.0</td>\n",
       "      <td>1.0</td>\n",
       "      <td>0.745366</td>\n",
       "    </tr>\n",
       "  </tbody>\n",
       "</table>\n",
       "</div>"
      ],
      "text/plain": [
       "          case_id  win_side  labels      prob\n",
       "766  2005_04-1739       1.0     1.0  0.664012\n",
       "767  2005_04-1739       1.0     1.0  0.469992\n",
       "768  2005_04-1739       1.0     1.0  0.682679\n",
       "769  2005_04-1739       1.0     1.0  0.782878\n",
       "770  2005_04-1739       1.0     1.0  0.745366"
      ]
     },
     "execution_count": 33,
     "metadata": {},
     "output_type": "execute_result"
    }
   ],
   "source": [
    "# Get dataframe with predictions and real values\n",
    "test_results_df = model_helpers.get_test_results_df(best_model, test_dataloader, test_df[['case_id', 'win_side']])\n",
    "test_results_df.head()"
   ]
  },
  {
   "cell_type": "code",
   "execution_count": 60,
   "metadata": {},
   "outputs": [],
   "source": [
    "# Results dataframe per utterance\n",
    "per_utterance_df = (test_results_df\n",
    "                    .assign(pred=lambda x: x['prob']\n",
    "                    .apply(lambda y: 1 if y > threshold else 0)))\n",
    "\n",
    "# Results dataframe per case\n",
    "per_case_df = (test_results_df\n",
    "                .groupby('case_id')\n",
    "                .mean()\n",
    "                .assign(pred=lambda x: x['prob']\n",
    "                .apply(lambda y: 1 if y > threshold else 0)))"
   ]
  },
  {
   "cell_type": "code",
   "execution_count": 58,
   "metadata": {},
   "outputs": [
    {
     "data": {
      "text/plain": [
       "{'f1': 0.329362080462325,\n",
       " 'roc_auc': 0.5028825071335395,\n",
       " 'accuracy': 0.42311957477725515}"
      ]
     },
     "execution_count": 58,
     "metadata": {},
     "output_type": "execute_result"
    }
   ],
   "source": [
    "# Evaluation metrics per utterance\n",
    "model_helpers.get_evaluation_matrix(per_utterance_df['win_side'], per_utterance_df['pred'])"
   ]
  },
  {
   "cell_type": "code",
   "execution_count": 62,
   "metadata": {},
   "outputs": [
    {
     "data": {
      "text/plain": [
       "{'f1': 0.021621621621621623,\n",
       " 'roc_auc': 0.500392464678179,\n",
       " 'accuracy': 0.3535714285714286}"
      ]
     },
     "execution_count": 62,
     "metadata": {},
     "output_type": "execute_result"
    }
   ],
   "source": [
    "# Evaluation metrics per case\n",
    "model_helpers.get_evaluation_matrix(per_case_df['win_side'], per_case_df['pred'])"
   ]
  },
  {
   "cell_type": "code",
   "execution_count": 63,
   "metadata": {},
   "outputs": [
    {
     "data": {
      "image/png": "[encoded data removed]",
      "text/plain": [
       "<Figure size 432x432 with 2 Axes>"
      ]
     },
     "metadata": {
      "needs_background": "light"
     },
     "output_type": "display_data"
    }
   ],
   "source": [
    "# Confusion matrix by case\n",
    "model_helpers.results_heatmap(per_case_df['win_side'],\n",
    "                per_case_df['pred'],\n",
    "                'Confusion Matrix by Case',\n",
    "                target_names = ['respondent', 'petitioner'])"
   ]
  },
  {
   "cell_type": "code",
   "execution_count": 64,
   "metadata": {},
   "outputs": [
    {
     "data": {
      "image/png": "[encoded data removed]",
      "text/plain": [
       "<Figure size 432x432 with 2 Axes>"
      ]
     },
     "metadata": {
      "needs_background": "light"
     },
     "output_type": "display_data"
    }
   ],
   "source": [
    "# Confusion matrix by utterance\n",
    "model_helpers.results_heatmap(per_utterance_df['win_side'],\n",
    "                per_utterance_df['pred'],\n",
    "                'Confusion Matrix by Utterance',\n",
    "                target_names = ['respondent', 'petitioner'])"
   ]
  },
  {
   "attachments": {},
   "cell_type": "markdown",
   "metadata": {},
   "source": [
    "### Justice Outcome Predictions"
   ]
  },
  {
   "cell_type": "code",
   "execution_count": 11,
   "metadata": {},
   "outputs": [
    {
     "name": "stdout",
     "output_type": "stream",
     "text": [
      "                                                text      case_id  \\\n",
      "0  Well, isn't there something different here? Be...  2005_04-433   \n",
      "1  I don't agree, Justice Souter, and here's why....  2005_04-433   \n",
      "2  Sure, but they suffered the harm because the f...  2005_04-433   \n",
      "3  Well, why... why is that true? Let's assume th...  2005_04-433   \n",
      "4  Mr. Frederick, you... you started by saying ho...  2005_04-433   \n",
      "\n",
      "   votes_side_j__ruth_bader_ginsburg  \n",
      "0                                1.0  \n",
      "1                                1.0  \n",
      "2                                1.0  \n",
      "3                                1.0  \n",
      "4                                1.0  \n",
      "                                                text      case_id  \\\n",
      "0  Well, isn't there something different here? Be...  2005_04-433   \n",
      "1  I don't agree, Justice Souter, and here's why....  2005_04-433   \n",
      "2  Sure, but they suffered the harm because the f...  2005_04-433   \n",
      "3  Well, why... why is that true? Let's assume th...  2005_04-433   \n",
      "4  Mr. Frederick, you... you started by saying ho...  2005_04-433   \n",
      "\n",
      "   votes_side_j__clarence_thomas  \n",
      "0                            1.0  \n",
      "1                            1.0  \n",
      "2                            1.0  \n",
      "3                            1.0  \n",
      "4                            1.0  \n",
      "                                                text      case_id  \\\n",
      "0  Well, isn't there something different here? Be...  2005_04-433   \n",
      "1  I don't agree, Justice Souter, and here's why....  2005_04-433   \n",
      "2  Sure, but they suffered the harm because the f...  2005_04-433   \n",
      "3  Well, why... why is that true? Let's assume th...  2005_04-433   \n",
      "4  Mr. Frederick, you... you started by saying ho...  2005_04-433   \n",
      "\n",
      "   votes_side_j__stephen_g_breyer  \n",
      "0                             1.0  \n",
      "1                             1.0  \n",
      "2                             1.0  \n",
      "3                             1.0  \n",
      "4                             1.0  \n",
      "                                                text      case_id  \\\n",
      "0  Well, isn't there something different here? Be...  2005_04-433   \n",
      "1  I don't agree, Justice Souter, and here's why....  2005_04-433   \n",
      "2  Sure, but they suffered the harm because the f...  2005_04-433   \n",
      "3  Well, why... why is that true? Let's assume th...  2005_04-433   \n",
      "4  Mr. Frederick, you... you started by saying ho...  2005_04-433   \n",
      "\n",
      "   votes_side_j__anthony_m_kennedy  \n",
      "0                              1.0  \n",
      "1                              1.0  \n",
      "2                              1.0  \n",
      "3                              1.0  \n",
      "4                              1.0  \n",
      "                                                text      case_id  \\\n",
      "0  Well, isn't there something different here? Be...  2005_04-433   \n",
      "1  I don't agree, Justice Souter, and here's why....  2005_04-433   \n",
      "2  Sure, but they suffered the harm because the f...  2005_04-433   \n",
      "3  Well, why... why is that true? Let's assume th...  2005_04-433   \n",
      "4  Mr. Frederick, you... you started by saying ho...  2005_04-433   \n",
      "\n",
      "   votes_side_j__antonin_scalia  \n",
      "0                           1.0  \n",
      "1                           1.0  \n",
      "2                           1.0  \n",
      "3                           1.0  \n",
      "4                           1.0  \n",
      "                                                text      case_id  \\\n",
      "0  Well, isn't there something different here? Be...  2005_04-433   \n",
      "1  I don't agree, Justice Souter, and here's why....  2005_04-433   \n",
      "2  Sure, but they suffered the harm because the f...  2005_04-433   \n",
      "3  Well, why... why is that true? Let's assume th...  2005_04-433   \n",
      "4  Mr. Frederick, you... you started by saying ho...  2005_04-433   \n",
      "\n",
      "   votes_side_j__john_g_roberts_jr  \n",
      "0                              1.0  \n",
      "1                              1.0  \n",
      "2                              1.0  \n",
      "3                              1.0  \n",
      "4                              1.0  \n",
      "                                                text      case_id  \\\n",
      "0  Well, isn't there something different here? Be...  2005_04-433   \n",
      "1  I don't agree, Justice Souter, and here's why....  2005_04-433   \n",
      "2  Sure, but they suffered the harm because the f...  2005_04-433   \n",
      "3  Well, why... why is that true? Let's assume th...  2005_04-433   \n",
      "4  Mr. Frederick, you... you started by saying ho...  2005_04-433   \n",
      "\n",
      "   votes_side_j__samuel_a_alito_jr  \n",
      "0                              1.0  \n",
      "1                              1.0  \n",
      "2                              1.0  \n",
      "3                              1.0  \n",
      "4                              1.0  \n",
      "                                                text      case_id  \\\n",
      "0  Well, isn't there something different here? Be...  2005_04-433   \n",
      "1  I don't agree, Justice Souter, and here's why....  2005_04-433   \n",
      "2  Sure, but they suffered the harm because the f...  2005_04-433   \n",
      "3  Well, why... why is that true? Let's assume th...  2005_04-433   \n",
      "4  Mr. Frederick, you... you started by saying ho...  2005_04-433   \n",
      "\n",
      "   votes_side_j__john_paul_stevens  \n",
      "0                              1.0  \n",
      "1                              1.0  \n",
      "2                              1.0  \n",
      "3                              1.0  \n",
      "4                              1.0  \n",
      "                                                    text      case_id  \\\n",
      "44994  Mr. Olson, are you taking the position that th...  2008_08-205   \n",
      "44995  What the Court has said in the First Amendment...  2008_08-205   \n",
      "44996                               Would that include--  2008_08-205   \n",
      "44997                                     Now, Justice--  2008_08-205   \n",
      "44998  --Would that include today's mega-corporations...  2008_08-205   \n",
      "\n",
      "       votes_side_j__sonia_sotomayor  \n",
      "44994                            0.0  \n",
      "44995                            0.0  \n",
      "44996                            0.0  \n",
      "44997                            0.0  \n",
      "44998                            0.0  \n",
      "                                                text      case_id  \\\n",
      "0  Well, isn't there something different here? Be...  2005_04-433   \n",
      "1  I don't agree, Justice Souter, and here's why....  2005_04-433   \n",
      "2  Sure, but they suffered the harm because the f...  2005_04-433   \n",
      "3  Well, why... why is that true? Let's assume th...  2005_04-433   \n",
      "4  Mr. Frederick, you... you started by saying ho...  2005_04-433   \n",
      "\n",
      "   votes_side_j__david_h_souter  \n",
      "0                           1.0  \n",
      "1                           1.0  \n",
      "2                           1.0  \n",
      "3                           1.0  \n",
      "4                           1.0  \n",
      "                                                     text      case_id  \\\n",
      "139118  Mr. Chief Justice and may it please the Court:...  2010_10-174   \n",
      "139119                                   I think that's--  2010_10-174   \n",
      "139120                         Now, all of these issues--  2010_10-174   \n",
      "139121  --That's exactly one thing that's concerned me...  2010_10-174   \n",
      "139122                                           --Well--  2010_10-174   \n",
      "\n",
      "        votes_side_j__elena_kagan  \n",
      "139118                        1.0  \n",
      "139119                        1.0  \n",
      "139120                        1.0  \n",
      "139121                        1.0  \n",
      "139122                        1.0  \n",
      "                                                  text       case_id  \\\n",
      "727  May I interrupt you at this point? Because the...  2005_04-1144   \n",
      "728  Justice Souter, in that instance, we did not s...  2005_04-1144   \n",
      "729  And if he said, \"I may not be prosecuted under...  2005_04-1144   \n",
      "730  I may not because New Hampshire's act may not ...  2005_04-1144   \n",
      "731  Doesn't that mean because there is a required ...  2005_04-1144   \n",
      "\n",
      "     votes_side_j__sandra_day_oconnor  \n",
      "727                               1.0  \n",
      "728                               1.0  \n",
      "729                               1.0  \n",
      "730                               1.0  \n",
      "731                               1.0  \n",
      "                                                    text      case_id  \\\n",
      "71358  Well, that's the clear provision of Article IV...  2000_00-492   \n",
      "71359  Clearly the language, when it's read in isolat...  2000_00-492   \n",
      "71360                         Yeah, that's what it says.  2000_00-492   \n",
      "71361  --but the language simply can't be read in iso...  2000_00-492   \n",
      "71362  Well, I would think you maybe ought to just se...  2000_00-492   \n",
      "\n",
      "       votes_side_j__william_h_rehnquist  \n",
      "71358                                0.0  \n",
      "71359                                0.0  \n",
      "71360                                0.0  \n",
      "71361                                0.0  \n",
      "71362                                0.0  \n",
      "                                                     text      case_id  \\\n",
      "209287          I'm sorry. Didn't it register in Montana?  2016_16-405   \n",
      "209288                                          It did --  2016_16-405   \n",
      "209289  To do business, doesn't it -- isn't it require...  2016_16-405   \n",
      "209290   It -- it is required and it has registered to --  2016_16-405   \n",
      "209291                              Now, I thought the --  2016_16-405   \n",
      "\n",
      "        votes_side_j__neil_gorsuch  \n",
      "209287                         1.0  \n",
      "209288                         1.0  \n",
      "209289                         1.0  \n",
      "209290                         1.0  \n",
      "209291                         1.0  \n",
      "                                                     text       case_id  \\\n",
      "230650  Counsel, their product would not be salable ab...  2018_17-1104   \n",
      "230651  Why is that? Did they discover something new t...  2018_17-1104   \n",
      "230652  But at least at the time of these sales in que...  2018_17-1104   \n",
      "230653                                 What about this --  2018_17-1104   \n",
      "230654  Two responses to that, Justice Sotomayor. Firs...  2018_17-1104   \n",
      "\n",
      "        votes_side_j__brett_m_kavanaugh  \n",
      "230650                              0.0  \n",
      "230651                              0.0  \n",
      "230652                              0.0  \n",
      "230653                              0.0  \n",
      "230654                              0.0  \n"
     ]
    }
   ],
   "source": [
    "# Set parameters, loss function and optimizer\n",
    "BATCH_SIZE = 32\n",
    "EPOCHS = 15\n",
    "hidden_dim = 500\n",
    "loss_function = torch.nn.BCELoss()\n",
    "optimizer = torch.optim.Adam(model.parameters(), lr=0.01)\n",
    "\n",
    "for justice in top_justices:\n",
    "\n",
    "    print(\"Running model for: \", justice)\n",
    "\n",
    "    # Have to do by utterance as grouping by case_id gives too few examples to learn from\n",
    "    df_j = df[['text', 'case_id', justice]]\n",
    "    df_j.head()\n",
    "\n",
    "    # Keep only cases with outcomes 0 or 1\n",
    "    df_j = df_j[df_j[justice].isin([0, 1])]\n",
    "\n",
    "    # Get unique case_ids\n",
    "    unique_case_ids = df_j['case_id'].unique()\n",
    "\n",
    "    # Split the unique case_ids into training and testing sets\n",
    "    train_case_ids, val_test_case_ids = train_test_split(unique_case_ids, test_size=0.2, random_state=123)\n",
    "    val_case_ids, test_case_ids = train_test_split(val_test_case_ids, test_size=0.5, random_state=123)\n",
    "\n",
    "    # Filter the original dataframe to create the train and test dataframes using the train and test case_ids\n",
    "    train_df = df_j[df_j['case_id'].isin(train_case_ids)].drop(columns=['case_id'])\n",
    "    val_df = df_j[df_j['case_id'].isin(val_case_ids)].drop(columns=['case_id'])\n",
    "    test_df = df_j[df_j['case_id'].isin(test_case_ids)].drop(columns=['case_id'])\n",
    "\n",
    "    # Data loaders\n",
    "    train_dataloader = DataLoader(Dataset.from_pandas(train_df, preserve_index = False), batch_size=BATCH_SIZE,\n",
    "                                shuffle=True,\n",
    "                                collate_fn=lambda batch: embed.collate_into_bow(batch, vocab))\n",
    "    valid_dataloader = DataLoader(Dataset.from_pandas(val_df, preserve_index = False), batch_size=BATCH_SIZE,\n",
    "                                shuffle=False, \n",
    "                                collate_fn=lambda batch: embed.collate_into_bow(batch, vocab))\n",
    "    test_dataloader = DataLoader(Dataset.from_pandas(test_df, preserve_index = False), batch_size=BATCH_SIZE,\n",
    "                                shuffle=False, \n",
    "                                collate_fn=lambda batch: embed.collate_into_bow(batch, vocab))\n",
    "    \n",
    "    # BoW NN Classifier\n",
    "    model = pred_models.BoWNNClassifier(vocab_size=vocab_size, hidden_dim=hidden_dim, output_dim=1)\n",
    "\n",
    "    # Train model\n",
    "    print(\"Start training...\")\n",
    "    best_model = None\n",
    "    best_val_loss = float('inf')\n",
    "    val_losses = []\n",
    "    for epoch in range(1, EPOCHS + 1):\n",
    "        epoch_start_time = time.time()\n",
    "        model_helpers.train_an_epoch(model, train_dataloader, optimizer, loss_function)\n",
    "        val_y_true, val_y_pred = model_helpers.make_predictions(model, valid_dataloader)\n",
    "        val_loss = log_loss(val_y_true.astype(np.float64), val_y_pred.astype(np.float64))\n",
    "        if val_loss < best_val_loss:\n",
    "            best_model = type(model)(model.vocab_size, model.hidden_dim, model.output_dim)\n",
    "            best_model.load_state_dict(model.state_dict())\n",
    "            best_val_loss = val_loss\n",
    "        val_losses.append(val_loss)\n",
    "        time_taken = time.time() - epoch_start_time\n",
    "        print(f'After epoch {epoch} the validation loss is {val_loss:.3f}.')\n",
    "    \n",
    "    # Model evaluation\n",
    "    print(\"Start test evaluation...\")\n",
    "    # Get dataframe with predictions and real values\n",
    "    test_results_df = model_helpers.get_test_results_df(best_model, test_dataloader, test_df[['case_id', 'win_side']])\n",
    "    test_results_df.head()\n",
    "        \n",
    "    \n",
    "\n",
    "    "
   ]
  },
  {
   "cell_type": "code",
   "execution_count": null,
   "metadata": {},
   "outputs": [],
   "source": []
  },
  {
   "cell_type": "code",
   "execution_count": null,
   "metadata": {},
   "outputs": [],
   "source": []
  },
  {
   "cell_type": "code",
   "execution_count": null,
   "metadata": {},
   "outputs": [],
   "source": []
  },
  {
   "attachments": {},
   "cell_type": "markdown",
   "metadata": {},
   "source": [
    "### Continuous BoW Model"
   ]
  },
  {
   "cell_type": "code",
   "execution_count": null,
   "metadata": {},
   "outputs": [],
   "source": [
    "BATCH_SIZE = 64\n",
    "\n",
    "train_df = train_df[['text', 'win_side']] # Remove case ID for training\n",
    "train_valid_data = list(train_df.values)\n",
    "num_train = int(len(train_valid_data) * 0.85)\n",
    "num_valid = len(train_valid_data) - num_train\n",
    "train_data, valid_data = random_split(\n",
    "    train_valid_data, [num_train, num_valid])\n",
    "test_data = list(test_df[['text', 'win_side']].values)\n",
    "\n",
    "train_dataloader = DataLoader(train_data, batch_size=BATCH_SIZE,\n",
    "                              shuffle=True, \n",
    "                              collate_fn=embed.collate_into_cbow) \n",
    "valid_dataloader = DataLoader(valid_data, batch_size=BATCH_SIZE,\n",
    "                              shuffle=False, \n",
    "                              collate_fn=embed.collate_into_cbow)\n",
    "test_dataloader = DataLoader(test_data, batch_size=BATCH_SIZE,\n",
    "                             shuffle=False, \n",
    "                             collate_fn=embed.collate_into_cbow)"
   ]
  },
  {
   "cell_type": "code",
   "execution_count": null,
   "metadata": {},
   "outputs": [],
   "source": [
    "# BoW NN Classifier\n",
    "hidden_dim = 500\n",
    "vocab_size = 300\n",
    "model = pred_models.BoWNNClassifier(vocab_size=vocab_size, hidden_dim=hidden_dim, output_dim=1)"
   ]
  },
  {
   "cell_type": "code",
   "execution_count": null,
   "metadata": {},
   "outputs": [
    {
     "ename": "ValueError",
     "evalue": "too many dimensions 'str'",
     "output_type": "error",
     "traceback": [
      "\u001b[0;31m---------------------------------------------------------------------------\u001b[0m",
      "\u001b[0;31mValueError\u001b[0m                                Traceback (most recent call last)",
      "\u001b[1;32m/Users/nuriaadellraventos/Documents/Classes/AdvML/supreme_court_nlp/src/modeling_temp.ipynb Cell 28\u001b[0m in \u001b[0;36m<module>\u001b[0;34m\u001b[0m\n\u001b[1;32m      <a href='vscode-notebook-cell:/Users/nuriaadellraventos/Documents/Classes/AdvML/supreme_court_nlp/src/modeling_temp.ipynb#X36sZmlsZQ%3D%3D?line=8'>9</a>\u001b[0m \u001b[39mfor\u001b[39;00m epoch \u001b[39min\u001b[39;00m \u001b[39mrange\u001b[39m(\u001b[39m1\u001b[39m, EPOCHS \u001b[39m+\u001b[39m \u001b[39m1\u001b[39m):\n\u001b[1;32m     <a href='vscode-notebook-cell:/Users/nuriaadellraventos/Documents/Classes/AdvML/supreme_court_nlp/src/modeling_temp.ipynb#X36sZmlsZQ%3D%3D?line=9'>10</a>\u001b[0m     epoch_start_time \u001b[39m=\u001b[39m time\u001b[39m.\u001b[39mtime()\n\u001b[0;32m---> <a href='vscode-notebook-cell:/Users/nuriaadellraventos/Documents/Classes/AdvML/supreme_court_nlp/src/modeling_temp.ipynb#X36sZmlsZQ%3D%3D?line=10'>11</a>\u001b[0m     model_helpers\u001b[39m.\u001b[39;49mtrain_an_epoch(model, train_dataloader, optimizer, loss_function)\n\u001b[1;32m     <a href='vscode-notebook-cell:/Users/nuriaadellraventos/Documents/Classes/AdvML/supreme_court_nlp/src/modeling_temp.ipynb#X36sZmlsZQ%3D%3D?line=11'>12</a>\u001b[0m     val_y_true, val_y_pred \u001b[39m=\u001b[39m model_helpers\u001b[39m.\u001b[39mmake_predictions(model, valid_dataloader)\n\u001b[1;32m     <a href='vscode-notebook-cell:/Users/nuriaadellraventos/Documents/Classes/AdvML/supreme_court_nlp/src/modeling_temp.ipynb#X36sZmlsZQ%3D%3D?line=12'>13</a>\u001b[0m     val_loss \u001b[39m=\u001b[39m log_loss(val_y_true\u001b[39m.\u001b[39mastype(np\u001b[39m.\u001b[39mfloat64), val_y_pred\u001b[39m.\u001b[39mastype(np\u001b[39m.\u001b[39mfloat64))\n",
      "File \u001b[0;32m~/Documents/Classes/AdvML/supreme_court_nlp/src/model_helpers.py:25\u001b[0m, in \u001b[0;36mtrain_an_epoch\u001b[0;34m(model, dataloader, optimizer, loss_function)\u001b[0m\n\u001b[1;32m     22\u001b[0m model\u001b[39m.\u001b[39mtrain()\n\u001b[1;32m     23\u001b[0m log_interval \u001b[39m=\u001b[39m \u001b[39m200\u001b[39m\n\u001b[0;32m---> 25\u001b[0m \u001b[39mfor\u001b[39;00m idx, (label, text) \u001b[39min\u001b[39;00m \u001b[39menumerate\u001b[39m(dataloader):\n\u001b[1;32m     26\u001b[0m     model\u001b[39m.\u001b[39mzero_grad()\n\u001b[1;32m     27\u001b[0m     log_probs \u001b[39m=\u001b[39m model(text)\u001b[39m.\u001b[39msqueeze(\u001b[39m1\u001b[39m)\n",
      "File \u001b[0;32m/Library/Frameworks/Python.framework/Versions/3.9/lib/python3.9/site-packages/torch/utils/data/dataloader.py:634\u001b[0m, in \u001b[0;36m_BaseDataLoaderIter.__next__\u001b[0;34m(self)\u001b[0m\n\u001b[1;32m    631\u001b[0m \u001b[39mif\u001b[39;00m \u001b[39mself\u001b[39m\u001b[39m.\u001b[39m_sampler_iter \u001b[39mis\u001b[39;00m \u001b[39mNone\u001b[39;00m:\n\u001b[1;32m    632\u001b[0m     \u001b[39m# TODO(https://github.com/pytorch/pytorch/issues/76750)\u001b[39;00m\n\u001b[1;32m    633\u001b[0m     \u001b[39mself\u001b[39m\u001b[39m.\u001b[39m_reset()  \u001b[39m# type: ignore[call-arg]\u001b[39;00m\n\u001b[0;32m--> 634\u001b[0m data \u001b[39m=\u001b[39m \u001b[39mself\u001b[39;49m\u001b[39m.\u001b[39;49m_next_data()\n\u001b[1;32m    635\u001b[0m \u001b[39mself\u001b[39m\u001b[39m.\u001b[39m_num_yielded \u001b[39m+\u001b[39m\u001b[39m=\u001b[39m \u001b[39m1\u001b[39m\n\u001b[1;32m    636\u001b[0m \u001b[39mif\u001b[39;00m \u001b[39mself\u001b[39m\u001b[39m.\u001b[39m_dataset_kind \u001b[39m==\u001b[39m _DatasetKind\u001b[39m.\u001b[39mIterable \u001b[39mand\u001b[39;00m \\\n\u001b[1;32m    637\u001b[0m         \u001b[39mself\u001b[39m\u001b[39m.\u001b[39m_IterableDataset_len_called \u001b[39mis\u001b[39;00m \u001b[39mnot\u001b[39;00m \u001b[39mNone\u001b[39;00m \u001b[39mand\u001b[39;00m \\\n\u001b[1;32m    638\u001b[0m         \u001b[39mself\u001b[39m\u001b[39m.\u001b[39m_num_yielded \u001b[39m>\u001b[39m \u001b[39mself\u001b[39m\u001b[39m.\u001b[39m_IterableDataset_len_called:\n",
      "File \u001b[0;32m/Library/Frameworks/Python.framework/Versions/3.9/lib/python3.9/site-packages/torch/utils/data/dataloader.py:678\u001b[0m, in \u001b[0;36m_SingleProcessDataLoaderIter._next_data\u001b[0;34m(self)\u001b[0m\n\u001b[1;32m    676\u001b[0m \u001b[39mdef\u001b[39;00m \u001b[39m_next_data\u001b[39m(\u001b[39mself\u001b[39m):\n\u001b[1;32m    677\u001b[0m     index \u001b[39m=\u001b[39m \u001b[39mself\u001b[39m\u001b[39m.\u001b[39m_next_index()  \u001b[39m# may raise StopIteration\u001b[39;00m\n\u001b[0;32m--> 678\u001b[0m     data \u001b[39m=\u001b[39m \u001b[39mself\u001b[39;49m\u001b[39m.\u001b[39;49m_dataset_fetcher\u001b[39m.\u001b[39;49mfetch(index)  \u001b[39m# may raise StopIteration\u001b[39;00m\n\u001b[1;32m    679\u001b[0m     \u001b[39mif\u001b[39;00m \u001b[39mself\u001b[39m\u001b[39m.\u001b[39m_pin_memory:\n\u001b[1;32m    680\u001b[0m         data \u001b[39m=\u001b[39m _utils\u001b[39m.\u001b[39mpin_memory\u001b[39m.\u001b[39mpin_memory(data, \u001b[39mself\u001b[39m\u001b[39m.\u001b[39m_pin_memory_device)\n",
      "File \u001b[0;32m/Library/Frameworks/Python.framework/Versions/3.9/lib/python3.9/site-packages/torch/utils/data/_utils/fetch.py:54\u001b[0m, in \u001b[0;36m_MapDatasetFetcher.fetch\u001b[0;34m(self, possibly_batched_index)\u001b[0m\n\u001b[1;32m     52\u001b[0m \u001b[39melse\u001b[39;00m:\n\u001b[1;32m     53\u001b[0m     data \u001b[39m=\u001b[39m \u001b[39mself\u001b[39m\u001b[39m.\u001b[39mdataset[possibly_batched_index]\n\u001b[0;32m---> 54\u001b[0m \u001b[39mreturn\u001b[39;00m \u001b[39mself\u001b[39;49m\u001b[39m.\u001b[39;49mcollate_fn(data)\n",
      "File \u001b[0;32m~/Documents/Classes/AdvML/supreme_court_nlp/src/embed.py:89\u001b[0m, in \u001b[0;36mcollate_into_cbow\u001b[0;34m(batch)\u001b[0m\n\u001b[1;32m     87\u001b[0m tokens \u001b[39m=\u001b[39m torch\u001b[39m.\u001b[39mempty((\u001b[39m0\u001b[39m, \u001b[39m300\u001b[39m))\n\u001b[1;32m     88\u001b[0m \u001b[39mfor\u001b[39;00m label, token \u001b[39min\u001b[39;00m \u001b[39miter\u001b[39m(batch):\n\u001b[0;32m---> 89\u001b[0m     labels \u001b[39m=\u001b[39m torch\u001b[39m.\u001b[39mcat((labels, torch\u001b[39m.\u001b[39;49mtensor([label])), \u001b[39m0\u001b[39m)\n\u001b[1;32m     90\u001b[0m     words \u001b[39m=\u001b[39m tokenizer(token)\n\u001b[1;32m     91\u001b[0m     vecs \u001b[39m=\u001b[39m glove\u001b[39m.\u001b[39mget_vecs_by_tokens(words)\n",
      "\u001b[0;31mValueError\u001b[0m: too many dimensions 'str'"
     ]
    }
   ],
   "source": [
    "import numpy as np\n",
    "EPOCHS = 15\n",
    "loss_function = torch.nn.BCELoss()\n",
    "optimizer = torch.optim.Adam(model.parameters(), lr=0.01)\n",
    "\n",
    "best_model = None\n",
    "best_val_loss = float('inf')\n",
    "val_losses = []\n",
    "for epoch in range(1, EPOCHS + 1):\n",
    "    epoch_start_time = time.time()\n",
    "    model_helpers.train_an_epoch(model, train_dataloader, optimizer, loss_function)\n",
    "    val_y_true, val_y_pred = model_helpers.make_predictions(model, valid_dataloader)\n",
    "    val_loss = log_loss(val_y_true.astype(np.float64), val_y_pred.astype(np.float64))\n",
    "    if val_loss < best_val_loss:\n",
    "        best_model = type(model)(model.vocab_size, model.hidden_dim, model.output_dim) # get a new instance\n",
    "        best_model.load_state_dict(model.state_dict())\n",
    "        best_val_loss = val_loss\n",
    "    val_losses.append(val_loss)\n",
    "    time_taken = time.time() - epoch_start_time\n",
    "    print(f'After epoch {epoch} the validation loss is {val_loss:.3f}.')\n",
    "    \n",
    "plt.plot(range(1, EPOCHS+1), val_losses)"
   ]
  },
  {
   "cell_type": "code",
   "execution_count": null,
   "metadata": {},
   "outputs": [],
   "source": [
    "# Get validation predictions to select best threshold\n",
    "val_labels, val_probs = model_helpers.make_predictions(model, valid_dataloader)\n",
    "# Get best threshold from validation data\n",
    "threshold = model_helpers.select_threshold(val_labels, val_probs)"
   ]
  },
  {
   "cell_type": "code",
   "execution_count": null,
   "metadata": {},
   "outputs": [],
   "source": [
    "# Get dataframe with predictions and real values\n",
    "test_results_df = model_helpers.get_test_results_df(best_model, test_dataloader, test_df[['case_id', 'win_side']])\n",
    "test_results_df.head()"
   ]
  },
  {
   "cell_type": "code",
   "execution_count": null,
   "metadata": {},
   "outputs": [],
   "source": [
    "# Results dataframe per utterance\n",
    "per_utterance_df = (test_results_df\n",
    "                    .assign(pred=lambda x: x['prob']\n",
    "                    .apply(lambda y: 1 if y > threshold else 0)))\n",
    "\n",
    "# petitioner 1, respondent 0\n",
    "display(per_utterance_df.pred.value_counts())\n",
    "per_utterance_df.win_side.value_counts()"
   ]
  },
  {
   "cell_type": "code",
   "execution_count": null,
   "metadata": {},
   "outputs": [],
   "source": [
    "# Results dataframe per case\n",
    "per_case_df = (test_results_df\n",
    "                .groupby('case_id')\n",
    "                .mean()\n",
    "                .assign(pred=lambda x: x['prob']\n",
    "                .apply(lambda y: 1 if y > threshold else 0)))\n",
    "\n",
    "# petitioner 1, respondent 0\n",
    "display(per_case_df.pred.value_counts())\n",
    "per_case_df.win_side.value_counts()"
   ]
  },
  {
   "cell_type": "code",
   "execution_count": null,
   "metadata": {},
   "outputs": [],
   "source": [
    "# Confusion matrix by case\n",
    "model_helpers.results_heatmap(per_case_df['win_side'],\n",
    "                per_case_df['pred'],\n",
    "                'Confusion Matrix by Case',\n",
    "                target_names = ['respondent', 'petitioner'])"
   ]
  },
  {
   "cell_type": "code",
   "execution_count": null,
   "metadata": {},
   "outputs": [],
   "source": [
    "# Confusion matrix by utterance\n",
    "model_helpers.results_heatmap(per_utterance_df['win_side'],\n",
    "                per_utterance_df['pred'],\n",
    "                'Confusion Matrix by Utterance',\n",
    "                target_names = ['respondent', 'petitioner'])"
   ]
  },
  {
   "cell_type": "code",
   "execution_count": null,
   "metadata": {},
   "outputs": [],
   "source": []
  },
  {
   "cell_type": "code",
   "execution_count": null,
   "metadata": {},
   "outputs": [],
   "source": []
  }
 ],
 "metadata": {
  "kernelspec": {
   "display_name": "Python 3.9.16 64-bit",
   "language": "python",
   "name": "python3"
  },
  "language_info": {
   "codemirror_mode": {
    "name": "ipython",
    "version": 3
   },
   "file_extension": ".py",
   "mimetype": "text/x-python",
   "name": "python",
   "nbconvert_exporter": "python",
   "pygments_lexer": "ipython3",
   "version": "3.9.10"
  },
  "orig_nbformat": 4,
  "vscode": {
   "interpreter": {
    "hash": "949777d72b0d2535278d3dc13498b2535136f6dfe0678499012e853ee9abcab1"
   }
  }
 },
 "nbformat": 4,
 "nbformat_minor": 2
}
