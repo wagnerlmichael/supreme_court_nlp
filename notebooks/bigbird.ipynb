{
  "nbformat": 4,
  "nbformat_minor": 0,
  "metadata": {
    "colab": {
      "provenance": []
    },
    "kernelspec": {
      "name": "python3",
      "display_name": "Python 3"
    },
    "language_info": {
      "name": "python"
    }
  },
  "cells": [
    {
      "cell_type": "code",
      "execution_count": null,
      "metadata": {
        "id": "zJXHkFPaKoLJ"
      },
      "outputs": [],
      "source": [
        "import pandas as pd\n",
        "import os\n",
        "!pip install datasets\n",
        "import torch\n",
        "from datasets import *\n",
        "!pip install transformers==4.28.0\n",
        "from transformers import TrainingArguments, Trainer, EvalPrediction\n",
        "import numpy as np\n",
        "from sklearn.metrics import f1_score, roc_auc_score, accuracy_score"
      ]
    },
    {
      "cell_type": "code",
      "source": [],
      "metadata": {
        "id": "a6St5UxcKr9y"
      },
      "execution_count": null,
      "outputs": []
    },
    {
      "cell_type": "code",
      "source": [
        "device = torch.device('cuda' if torch.cuda.is_available() else 'cpu')\n",
        "print(f\"torch.device: {device}\")"
      ],
      "metadata": {
        "id": "xP0eZ1CDKsAJ"
      },
      "execution_count": null,
      "outputs": []
    },
    {
      "cell_type": "code",
      "source": [],
      "metadata": {
        "id": "yhXJoVtDKqwR"
      },
      "execution_count": null,
      "outputs": []
    },
    {
      "cell_type": "code",
      "source": [],
      "metadata": {
        "id": "2YKKKeSKNezD"
      },
      "execution_count": null,
      "outputs": []
    },
    {
      "cell_type": "code",
      "source": [
        "from transformers import BigBirdConfig, BigBirdModel, BigBirdTokenizer\n",
        "\n",
        "tokenizer = BigBirdTokenizer.from_pretrained('google/bigbird-roberta-base')\n",
        "\n",
        "model = BigBirdForSequenceClassification.from_pretrained('google/bigbird-roberta-base', num_labels=2)"
      ],
      "metadata": {
        "id": "jVRtW2foKqrI"
      },
      "execution_count": null,
      "outputs": []
    },
    {
      "cell_type": "code",
      "source": [
        "training_args = TrainingArguments(\n",
        "    output_dir='./results',          # output directory\n",
        "    num_train_epochs=3,              # total number of training epochs\n",
        "    per_device_train_batch_size=16,  # batch size per device during training\n",
        "    per_device_eval_batch_size=64,   # batch size for evaluation\n",
        "    warmup_steps=500,                # number of warmup steps for learning rate scheduler\n",
        "    weight_decay=0.01,               # strength of weight decay\n",
        "    logging_dir='./logs',            # directory for storing logs\n",
        ")\n",
        "\n",
        "trainer = Trainer(\n",
        "    model=model,                         # the instantiated Transformers model to be trained\n",
        "    args=training_args,                  # training arguments, defined above\n",
        "    train_dataset=train_dataset,         # training dataset\n",
        "    eval_dataset=val_dataset             # evaluation dataset\n",
        ")\n",
        "\n",
        "trainer.train()\n"
      ],
      "metadata": {
        "id": "3dj2nFYpNbXm"
      },
      "execution_count": null,
      "outputs": []
    }
  ]
}