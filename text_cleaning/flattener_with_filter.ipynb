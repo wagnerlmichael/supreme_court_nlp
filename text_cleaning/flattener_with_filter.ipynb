{
 "cells": [
  {
   "cell_type": "code",
   "execution_count": 7,
   "metadata": {},
   "outputs": [],
   "source": [
    "import os\n",
    "import json\n",
    "import pandas as pd"
   ]
  },
  {
   "cell_type": "code",
   "execution_count": 8,
   "metadata": {},
   "outputs": [],
   "source": [
    "def flatten_case_info(input_file):\n",
    "    '''\n",
    "    Flattens json from https://convokit.cornell.edu/documentation/supreme.html\n",
    "\n",
    "    Note: use only with case information json\n",
    "\n",
    "    Input: case information json file\n",
    "\n",
    "    Returns: Flattened dictionary\n",
    "    '''\n",
    "    max_num_advocates = 0\n",
    "    advocate_info_to_keep = ['id', 'side']\n",
    "    single_issues_to_keep = ['id', 'year', 'title', 'petitioner', 'respondent', 'adv_sides_inferred', 'known_respondent_adv', 'win_side', 'is_eq_divided']\n",
    "    output = []\n",
    "    with open(str(input_file), 'r') as f:\n",
    "        for case_info in f:\n",
    "            case_info = json.loads(case_info) # Make sure to load the line in as a dict not a str\n",
    "            output_d = {}\n",
    "            for k, v in case_info.items():\n",
    "                if not isinstance(v, dict) and not isinstance(v, list):\n",
    "                    if k in single_issues_to_keep:\n",
    "                        output_d[k] = v\n",
    "                elif k == \"transcripts\":\n",
    "                    continue # Don't need\n",
    "                elif k == \"advocates\":\n",
    "                    j = 1\n",
    "                    for person_info in v.values():  # Ignore actual name of attorney (key)\n",
    "                        for key, identifier in person_info.items():\n",
    "                            if key in advocate_info_to_keep:\n",
    "                                long_key = k + \"_\" + str(j) + \"_\" + key\n",
    "                                output_d[long_key] = identifier\n",
    "                        max_num_advocates = max(max_num_advocates, j)\n",
    "                        j += 1\n",
    "                elif k == 'votes_side': # Let us know with petitioner only\n",
    "                    for judge, vote in v.items():\n",
    "                        long_key = k + \"_\" + judge\n",
    "                        output_d[long_key] = vote\n",
    "            output.append(output_d)\n",
    "    return output"
   ]
  },
  {
   "cell_type": "code",
   "execution_count": 9,
   "metadata": {},
   "outputs": [],
   "source": [
    "def count_columns(df_cols, prefix, divisor=1):\n",
    "    '''\n",
    "    Get count of substrings occuring in columns. Helpful in getting alphabetical cols\n",
    "\n",
    "    Inputs:\n",
    "        df_cols (list of str): col names to check\n",
    "        prefix (str): prefix to check col names for\n",
    "    \n",
    "    Returns:\n",
    "        cnt (int)\n",
    "    '''\n",
    "    cnt = 0\n",
    "    for col in df_cols:\n",
    "        if col.startswith(prefix):\n",
    "            cnt += 1\n",
    "    return cnt // divisor"
   ]
  },
  {
   "cell_type": "code",
   "execution_count": 10,
   "metadata": {},
   "outputs": [],
   "source": [
    "def filter_columns(df_cols, prefix):\n",
    "    '''\n",
    "    Used to filter a list for substrings. Helpful in getting alphabetical cols\n",
    "\n",
    "    Inputs:\n",
    "        df_cols (list of str): col names to check\n",
    "        prefix (str): prefix to check col names for\n",
    "    \n",
    "    Returns:\n",
    "        cols (list)\n",
    "    '''\n",
    "    cols = []\n",
    "    for col in df_cols:\n",
    "        if col.startswith(prefix):\n",
    "            cols.append(col)\n",
    "    return sorted(cols)"
   ]
  },
  {
   "cell_type": "code",
   "execution_count": null,
   "metadata": {},
   "outputs": [],
   "source": [
    "curr_path = os.getcwd()\n",
    "input_file = os.path.join(curr_path, \"cases.jsonl\")\n",
    "print(input_file, type(input_file))"
   ]
  },
  {
   "cell_type": "code",
   "execution_count": null,
   "metadata": {},
   "outputs": [],
   "source": [
    "list_of_dict = flatten_case_info(input_file)\n",
    "df = pd.DataFrame(list_of_dict)\n",
    "df"
   ]
  },
  {
   "cell_type": "code",
   "execution_count": 13,
   "metadata": {},
   "outputs": [],
   "source": [
    "cols = df.columns\n",
    "max_advocates = count_columns(cols, 'advocates_', 2) # have 2 columns associated with advocate (id, side)"
   ]
  },
  {
   "cell_type": "code",
   "execution_count": 14,
   "metadata": {},
   "outputs": [],
   "source": [
    "advocate_subcols = ['id', 'side']\n",
    "advocate_cols = []\n",
    "for i in range(1, max_advocates + 1):\n",
    "    for advocate_subcol in advocate_subcols:\n",
    "        advocate_cols.append(\"advocates_\" + str(i) + \"_\" + advocate_subcol)"
   ]
  },
  {
   "cell_type": "code",
   "execution_count": 15,
   "metadata": {},
   "outputs": [],
   "source": [
    "init_cols = ['id', 'year', 'title', 'petitioner', 'respondent', 'adv_sides_inferred', 'known_respondent_adv', 'win_side', 'is_eq_divided'] # Get rid of win side_detail\n",
    "\n",
    "votes_side = filter_columns(cols, \"votes_side_j\") # Some cases have no votes such as https://www.oyez.org/cases/1964/17-orig\n",
    "\n",
    "cols_to_keep = init_cols + votes_side + advocate_cols"
   ]
  },
  {
   "cell_type": "code",
   "execution_count": 16,
   "metadata": {},
   "outputs": [],
   "source": [
    "df = df[cols_to_keep]"
   ]
  },
  {
   "cell_type": "code",
   "execution_count": 17,
   "metadata": {},
   "outputs": [],
   "source": [
    "df.to_csv('case_info_relevant_cols_only.csv', index=False)"
   ]
  }
 ],
 "metadata": {
  "kernelspec": {
   "display_name": "Python 3",
   "language": "python",
   "name": "python3"
  },
  "language_info": {
   "codemirror_mode": {
    "name": "ipython",
    "version": 3
   },
   "file_extension": ".py",
   "mimetype": "text/x-python",
   "name": "python",
   "nbconvert_exporter": "python",
   "pygments_lexer": "ipython3",
   "version": "3.9.10"
  },
  "orig_nbformat": 4
 },
 "nbformat": 4,
 "nbformat_minor": 2
}
